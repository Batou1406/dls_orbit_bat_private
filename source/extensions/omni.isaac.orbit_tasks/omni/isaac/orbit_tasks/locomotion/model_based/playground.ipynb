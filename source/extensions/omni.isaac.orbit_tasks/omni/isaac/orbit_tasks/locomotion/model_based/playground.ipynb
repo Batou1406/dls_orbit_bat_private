{
 "cells": [
  {
   "cell_type": "code",
   "execution_count": 1,
   "metadata": {},
   "outputs": [],
   "source": [
    "import torch"
   ]
  },
  {
   "cell_type": "code",
   "execution_count": 2,
   "metadata": {},
   "outputs": [],
   "source": [
    "class term():\n",
    "    joint_ids = ['FL_hip_joint', 'FR_hip_joint', 'RL_hip_joint', 'RR_hip_joint', 'FL_thigh_joint', 'FR_thigh_joint', 'RL_thigh_joint', 'RR_thigh_joint', 'FL_calf_joint', 'FR_calf_joint', 'RL_calf_joint', 'RR_calf_joint']#['RR_hip', 'RR_joint', 'RR_calf']\n",
    "    num_envs = 64\n",
    "    _num_legs = 4\n",
    "    _prevision_horizon = 10\n",
    "\n",
    "    def __init__(self):\n",
    "        self._num_joints = len(self.joint_ids)\n",
    "        self.f = torch.zeros(self.num_envs, self._num_legs)\n",
    "        self.d = torch.zeros(self.num_envs, self._num_legs)\n",
    "        self.p = torch.zeros(self.num_envs, self._num_legs, self._prevision_horizon)\n",
    "        self.F = torch.zeros(self.num_envs, self._num_legs, self._prevision_horizon)\n",
    "        self.z = [self.f, self.d, self.p, self.F]\n",
    "\n",
    "        # create tensors for raw and processed actions\n",
    "        self._raw_actions = torch.zeros(self.num_envs, self.action_dim2)\n",
    "        self._processed_actions = torch.zeros_like(self.raw_actions)\n",
    "\n",
    "    @property\n",
    "    def action_dim(self) -> int:\n",
    "        return self._num_joints\n",
    "    \n",
    "    @property\n",
    "    def action_dim2(self) -> int:\n",
    "        return self.f.shape[1:].numel() + self.d.shape[1:].numel() + self.p.shape[1:].numel() + self.F.shape[1:].numel()\n",
    "    \n",
    "    @property\n",
    "    def action_dim3(self) -> int:\n",
    "        return sum(variable.shape[1:].numel() for variable in self.z)\n",
    "    \n",
    "    @property\n",
    "    def raw_actions(self) -> torch.Tensor:\n",
    "        return self._raw_actions\n",
    "\n",
    "    @property\n",
    "    def processed_actions(self) -> torch.Tensor:\n",
    "        return self._processed_actions"
   ]
  },
  {
   "cell_type": "code",
   "execution_count": 3,
   "metadata": {},
   "outputs": [],
   "source": [
    "term1 = term()"
   ]
  },
  {
   "cell_type": "code",
   "execution_count": 4,
   "metadata": {},
   "outputs": [
    {
     "data": {
      "text/plain": [
       "88"
      ]
     },
     "execution_count": 4,
     "metadata": {},
     "output_type": "execute_result"
    }
   ],
   "source": [
    "term1.action_dim2"
   ]
  },
  {
   "cell_type": "code",
   "execution_count": 5,
   "metadata": {},
   "outputs": [
    {
     "data": {
      "text/plain": [
       "88"
      ]
     },
     "execution_count": 5,
     "metadata": {},
     "output_type": "execute_result"
    }
   ],
   "source": [
    "term1.action_dim3"
   ]
  },
  {
   "cell_type": "code",
   "execution_count": 6,
   "metadata": {},
   "outputs": [
    {
     "data": {
      "text/plain": [
       "torch.Size([64, 88])"
      ]
     },
     "execution_count": 6,
     "metadata": {},
     "output_type": "execute_result"
    }
   ],
   "source": [
    "term1.raw_actions.shape"
   ]
  },
  {
   "cell_type": "code",
   "execution_count": 7,
   "metadata": {},
   "outputs": [
    {
     "data": {
      "text/plain": [
       "tensor([[0., 0., 0., 0.],\n",
       "        [0., 0., 0., 0.],\n",
       "        [0., 0., 0., 0.],\n",
       "        [0., 0., 0., 0.],\n",
       "        [0., 0., 0., 0.],\n",
       "        [0., 0., 0., 0.],\n",
       "        [0., 0., 0., 0.],\n",
       "        [0., 0., 0., 0.],\n",
       "        [0., 0., 0., 0.],\n",
       "        [0., 0., 0., 0.],\n",
       "        [0., 0., 0., 0.],\n",
       "        [0., 0., 0., 0.],\n",
       "        [0., 0., 0., 0.],\n",
       "        [0., 0., 0., 0.],\n",
       "        [0., 0., 0., 0.],\n",
       "        [0., 0., 0., 0.],\n",
       "        [0., 0., 0., 0.],\n",
       "        [0., 0., 0., 0.],\n",
       "        [0., 0., 0., 0.],\n",
       "        [0., 0., 0., 0.],\n",
       "        [0., 0., 0., 0.],\n",
       "        [0., 0., 0., 0.],\n",
       "        [0., 0., 0., 0.],\n",
       "        [0., 0., 0., 0.],\n",
       "        [0., 0., 0., 0.],\n",
       "        [0., 0., 0., 0.],\n",
       "        [0., 0., 0., 0.],\n",
       "        [0., 0., 0., 0.],\n",
       "        [0., 0., 0., 0.],\n",
       "        [0., 0., 0., 0.],\n",
       "        [0., 0., 0., 0.],\n",
       "        [0., 0., 0., 0.],\n",
       "        [0., 0., 0., 0.],\n",
       "        [0., 0., 0., 0.],\n",
       "        [0., 0., 0., 0.],\n",
       "        [0., 0., 0., 0.],\n",
       "        [0., 0., 0., 0.],\n",
       "        [0., 0., 0., 0.],\n",
       "        [0., 0., 0., 0.],\n",
       "        [0., 0., 0., 0.],\n",
       "        [0., 0., 0., 0.],\n",
       "        [0., 0., 0., 0.],\n",
       "        [0., 0., 0., 0.],\n",
       "        [0., 0., 0., 0.],\n",
       "        [0., 0., 0., 0.],\n",
       "        [0., 0., 0., 0.],\n",
       "        [0., 0., 0., 0.],\n",
       "        [0., 0., 0., 0.],\n",
       "        [0., 0., 0., 0.],\n",
       "        [0., 0., 0., 0.],\n",
       "        [0., 0., 0., 0.],\n",
       "        [0., 0., 0., 0.],\n",
       "        [0., 0., 0., 0.],\n",
       "        [0., 0., 0., 0.],\n",
       "        [0., 0., 0., 0.],\n",
       "        [0., 0., 0., 0.],\n",
       "        [0., 0., 0., 0.],\n",
       "        [0., 0., 0., 0.],\n",
       "        [0., 0., 0., 0.],\n",
       "        [0., 0., 0., 0.],\n",
       "        [0., 0., 0., 0.],\n",
       "        [0., 0., 0., 0.],\n",
       "        [0., 0., 0., 0.],\n",
       "        [0., 0., 0., 0.]])"
      ]
     },
     "execution_count": 7,
     "metadata": {},
     "output_type": "execute_result"
    }
   ],
   "source": [
    "term1.z[1]"
   ]
  },
  {
   "cell_type": "code",
   "execution_count": 8,
   "metadata": {},
   "outputs": [
    {
     "data": {
      "text/plain": [
       "64"
      ]
     },
     "execution_count": 8,
     "metadata": {},
     "output_type": "execute_result"
    }
   ],
   "source": [
    "term1.num_envs"
   ]
  },
  {
   "cell_type": "code",
   "execution_count": 9,
   "metadata": {},
   "outputs": [
    {
     "name": "stdout",
     "output_type": "stream",
     "text": [
      "tensor : tensor([[[0., 0.],\n",
      "         [0., 0.],\n",
      "         [0., 0.],\n",
      "         ...,\n",
      "         [0., 0.],\n",
      "         [0., 0.],\n",
      "         [0., 0.]],\n",
      "\n",
      "        [[0., 0.],\n",
      "         [0., 0.],\n",
      "         [0., 0.],\n",
      "         ...,\n",
      "         [0., 0.],\n",
      "         [0., 0.],\n",
      "         [0., 0.]],\n",
      "\n",
      "        [[0., 0.],\n",
      "         [0., 0.],\n",
      "         [0., 0.],\n",
      "         ...,\n",
      "         [0., 0.],\n",
      "         [0., 0.],\n",
      "         [0., 0.]],\n",
      "\n",
      "        ...,\n",
      "\n",
      "        [[0., 0.],\n",
      "         [0., 0.],\n",
      "         [0., 0.],\n",
      "         ...,\n",
      "         [0., 0.],\n",
      "         [0., 0.],\n",
      "         [0., 0.]],\n",
      "\n",
      "        [[0., 0.],\n",
      "         [0., 0.],\n",
      "         [0., 0.],\n",
      "         ...,\n",
      "         [0., 0.],\n",
      "         [0., 0.],\n",
      "         [0., 0.]],\n",
      "\n",
      "        [[0., 0.],\n",
      "         [0., 0.],\n",
      "         [0., 0.],\n",
      "         ...,\n",
      "         [0., 0.],\n",
      "         [0., 0.],\n",
      "         [0., 0.]]])\n",
      "shape : 24\n",
      "torch.Size([1536])\n"
     ]
    }
   ],
   "source": [
    "a = torch.zeros(term1.num_envs, term1.action_dim,2)\n",
    "print('tensor :',a)\n",
    "print('shape :', a.shape[1:].numel())\n",
    "\n",
    "print(a.flatten().shape)"
   ]
  },
  {
   "cell_type": "code",
   "execution_count": 10,
   "metadata": {},
   "outputs": [
    {
     "ename": "ModuleNotFoundError",
     "evalue": "No module named 'omni.physics'",
     "output_type": "error",
     "traceback": [
      "\u001b[0;31m---------------------------------------------------------------------------\u001b[0m",
      "\u001b[0;31mModuleNotFoundError\u001b[0m                       Traceback (most recent call last)",
      "Cell \u001b[0;32mIn[10], line 3\u001b[0m\n\u001b[1;32m      1\u001b[0m \u001b[38;5;28;01mfrom\u001b[39;00m \u001b[38;5;21;01m__future__\u001b[39;00m \u001b[38;5;28;01mimport\u001b[39;00m annotations\n\u001b[0;32m----> 3\u001b[0m \u001b[38;5;28;01mfrom\u001b[39;00m \u001b[38;5;21;01momni\u001b[39;00m\u001b[38;5;21;01m.\u001b[39;00m\u001b[38;5;21;01misaac\u001b[39;00m\u001b[38;5;21;01m.\u001b[39;00m\u001b[38;5;21;01morbit\u001b[39;00m\u001b[38;5;21;01m.\u001b[39;00m\u001b[38;5;21;01massets\u001b[39;00m \u001b[38;5;28;01mimport\u001b[39;00m AssetBase\n\u001b[1;32m      4\u001b[0m \u001b[38;5;28;01mfrom\u001b[39;00m \u001b[38;5;21;01momni\u001b[39;00m\u001b[38;5;21;01m.\u001b[39;00m\u001b[38;5;21;01misaac\u001b[39;00m\u001b[38;5;21;01m.\u001b[39;00m\u001b[38;5;21;01morbit\u001b[39;00m\u001b[38;5;21;01m.\u001b[39;00m\u001b[38;5;21;01massets\u001b[39;00m\u001b[38;5;21;01m.\u001b[39;00m\u001b[38;5;21;01marticulation\u001b[39;00m \u001b[38;5;28;01mimport\u001b[39;00m Articulation\n\u001b[1;32m      5\u001b[0m \u001b[38;5;28;01mfrom\u001b[39;00m \u001b[38;5;21;01momni\u001b[39;00m\u001b[38;5;21;01m.\u001b[39;00m\u001b[38;5;21;01misaac\u001b[39;00m\u001b[38;5;21;01m.\u001b[39;00m\u001b[38;5;21;01morbit_tasks\u001b[39;00m\u001b[38;5;21;01m.\u001b[39;00m\u001b[38;5;21;01mlocomotion\u001b[39;00m\u001b[38;5;21;01m.\u001b[39;00m\u001b[38;5;21;01mmodel_based\u001b[39;00m\u001b[38;5;21;01m.\u001b[39;00m\u001b[38;5;21;01mmodel_based_env_cfg\u001b[39;00m \u001b[38;5;28;01mimport\u001b[39;00m LocomotionModelBasedEnvCfg\n",
      "File \u001b[0;32m~/Documents/dls_orbit_bat_private/source/extensions/omni.isaac.orbit/omni/isaac/orbit/assets/__init__.py:41\u001b[0m\n\u001b[1;32m      1\u001b[0m \u001b[38;5;66;03m# Copyright (c) 2022-2024, The ORBIT Project Developers.\u001b[39;00m\n\u001b[1;32m      2\u001b[0m \u001b[38;5;66;03m# All rights reserved.\u001b[39;00m\n\u001b[1;32m      3\u001b[0m \u001b[38;5;66;03m#\u001b[39;00m\n\u001b[1;32m      4\u001b[0m \u001b[38;5;66;03m# SPDX-License-Identifier: BSD-3-Clause\u001b[39;00m\n\u001b[1;32m      6\u001b[0m \u001b[38;5;124;03m\"\"\"Sub-package for different assets, such as rigid objects and articulations.\u001b[39;00m\n\u001b[1;32m      7\u001b[0m \n\u001b[1;32m      8\u001b[0m \u001b[38;5;124;03mAn asset is a physical object that can be spawned in the simulation. The class handles both\u001b[39;00m\n\u001b[0;32m   (...)\u001b[0m\n\u001b[1;32m     38\u001b[0m \u001b[38;5;124;03mthe corresponding actuator torques.\u001b[39;00m\n\u001b[1;32m     39\u001b[0m \u001b[38;5;124;03m\"\"\"\u001b[39;00m\n\u001b[0;32m---> 41\u001b[0m \u001b[38;5;28;01mfrom\u001b[39;00m \u001b[38;5;21;01m.\u001b[39;00m\u001b[38;5;21;01marticulation\u001b[39;00m \u001b[38;5;28;01mimport\u001b[39;00m Articulation, ArticulationCfg, ArticulationData\n\u001b[1;32m     42\u001b[0m \u001b[38;5;28;01mfrom\u001b[39;00m \u001b[38;5;21;01m.\u001b[39;00m\u001b[38;5;21;01masset_base\u001b[39;00m \u001b[38;5;28;01mimport\u001b[39;00m AssetBase\n\u001b[1;32m     43\u001b[0m \u001b[38;5;28;01mfrom\u001b[39;00m \u001b[38;5;21;01m.\u001b[39;00m\u001b[38;5;21;01masset_base_cfg\u001b[39;00m \u001b[38;5;28;01mimport\u001b[39;00m AssetBaseCfg\n",
      "File \u001b[0;32m~/Documents/dls_orbit_bat_private/source/extensions/omni.isaac.orbit/omni/isaac/orbit/assets/articulation/__init__.py:8\u001b[0m\n\u001b[1;32m      1\u001b[0m \u001b[38;5;66;03m# Copyright (c) 2022-2024, The ORBIT Project Developers.\u001b[39;00m\n\u001b[1;32m      2\u001b[0m \u001b[38;5;66;03m# All rights reserved.\u001b[39;00m\n\u001b[1;32m      3\u001b[0m \u001b[38;5;66;03m#\u001b[39;00m\n\u001b[1;32m      4\u001b[0m \u001b[38;5;66;03m# SPDX-License-Identifier: BSD-3-Clause\u001b[39;00m\n\u001b[1;32m      6\u001b[0m \u001b[38;5;124;03m\"\"\"Sub-module for rigid articulated assets.\"\"\"\u001b[39;00m\n\u001b[0;32m----> 8\u001b[0m \u001b[38;5;28;01mfrom\u001b[39;00m \u001b[38;5;21;01m.\u001b[39;00m\u001b[38;5;21;01marticulation\u001b[39;00m \u001b[38;5;28;01mimport\u001b[39;00m Articulation\n\u001b[1;32m      9\u001b[0m \u001b[38;5;28;01mfrom\u001b[39;00m \u001b[38;5;21;01m.\u001b[39;00m\u001b[38;5;21;01marticulation_cfg\u001b[39;00m \u001b[38;5;28;01mimport\u001b[39;00m ArticulationCfg\n\u001b[1;32m     10\u001b[0m \u001b[38;5;28;01mfrom\u001b[39;00m \u001b[38;5;21;01m.\u001b[39;00m\u001b[38;5;21;01marticulation_data\u001b[39;00m \u001b[38;5;28;01mimport\u001b[39;00m ArticulationData\n",
      "File \u001b[0;32m~/Documents/dls_orbit_bat_private/source/extensions/omni.isaac.orbit/omni/isaac/orbit/assets/articulation/articulation.py:18\u001b[0m\n\u001b[1;32m     15\u001b[0m \u001b[38;5;28;01mfrom\u001b[39;00m \u001b[38;5;21;01mtyping\u001b[39;00m \u001b[38;5;28;01mimport\u001b[39;00m TYPE_CHECKING\n\u001b[1;32m     17\u001b[0m \u001b[38;5;28;01mimport\u001b[39;00m \u001b[38;5;21;01mcarb\u001b[39;00m\n\u001b[0;32m---> 18\u001b[0m \u001b[38;5;28;01mimport\u001b[39;00m \u001b[38;5;21;01momni\u001b[39;00m\u001b[38;5;21;01m.\u001b[39;00m\u001b[38;5;21;01mphysics\u001b[39;00m\u001b[38;5;21;01m.\u001b[39;00m\u001b[38;5;21;01mtensors\u001b[39;00m\u001b[38;5;21;01m.\u001b[39;00m\u001b[38;5;21;01mimpl\u001b[39;00m\u001b[38;5;21;01m.\u001b[39;00m\u001b[38;5;21;01mapi\u001b[39;00m \u001b[38;5;28;01mas\u001b[39;00m \u001b[38;5;21;01mphysx\u001b[39;00m\n\u001b[1;32m     19\u001b[0m \u001b[38;5;28;01mfrom\u001b[39;00m \u001b[38;5;21;01momni\u001b[39;00m\u001b[38;5;21;01m.\u001b[39;00m\u001b[38;5;21;01misaac\u001b[39;00m\u001b[38;5;21;01m.\u001b[39;00m\u001b[38;5;21;01mcore\u001b[39;00m\u001b[38;5;21;01m.\u001b[39;00m\u001b[38;5;21;01mutils\u001b[39;00m\u001b[38;5;21;01m.\u001b[39;00m\u001b[38;5;21;01mtypes\u001b[39;00m \u001b[38;5;28;01mimport\u001b[39;00m ArticulationActions\n\u001b[1;32m     20\u001b[0m \u001b[38;5;28;01mfrom\u001b[39;00m \u001b[38;5;21;01mpxr\u001b[39;00m \u001b[38;5;28;01mimport\u001b[39;00m UsdPhysics\n",
      "\u001b[0;31mModuleNotFoundError\u001b[0m: No module named 'omni.physics'"
     ]
    }
   ],
   "source": [
    "from __future__ import annotations\n",
    "\n",
    "from omni.isaac.orbit.assets import AssetBase\n",
    "from omni.isaac.orbit.assets.articulation import Articulation\n",
    "from omni.isaac.orbit_tasks.locomotion.model_based.model_based_env_cfg import LocomotionModelBasedEnvCfg\n",
    "from omni.isaac.orbit_tasks.locomotion.model_based.config.unitree_aliengo.aliengo_base_env_cfg import UnitreeAliengoBaseEnvCfg"
   ]
  },
  {
   "cell_type": "code",
   "execution_count": null,
   "metadata": {},
   "outputs": [],
   "source": [
    "import jax.numpy as jnp\n",
    "import jax\n",
    "seed = 42\n",
    "key = jax.random.key(seed)"
   ]
  },
  {
   "cell_type": "code",
   "execution_count": null,
   "metadata": {},
   "outputs": [
    {
     "name": "stdout",
     "output_type": "stream",
     "text": [
      "available devices: 1\n",
      "current device: 0\n"
     ]
    },
    {
     "data": {
      "text/plain": [
       "'NVIDIA GeForce RTX 3060'"
      ]
     },
     "execution_count": 35,
     "metadata": {},
     "output_type": "execute_result"
    }
   ],
   "source": [
    "print(f'available devices: {torch.cuda.device_count()}')\n",
    "print(f'current device: { torch.cuda.current_device()}')\n",
    "torch.cuda.get_device_name(0)"
   ]
  },
  {
   "cell_type": "code",
   "execution_count": null,
   "metadata": {},
   "outputs": [
    {
     "name": "stdout",
     "output_type": "stream",
     "text": [
      "shape :  torch.Size([64, 12])\n",
      "device :  cuda:0\n"
     ]
    }
   ],
   "source": [
    "output_torques = (torch.rand(term1.num_envs, term1._num_joints, device='cuda') * 80) - 40\n",
    "print('shape : ',output_torques.shape)\n",
    "print('device : ',output_torques.device)"
   ]
  },
  {
   "cell_type": "code",
   "execution_count": null,
   "metadata": {},
   "outputs": [],
   "source": [
    "output_torques_jax = jax.random.normal(key=key, shape=output_torques.shape)"
   ]
  },
  {
   "cell_type": "code",
   "execution_count": null,
   "metadata": {},
   "outputs": [
    {
     "name": "stdout",
     "output_type": "stream",
     "text": [
      "--- Torch ---\n",
      "Shape :  torch.Size([64, 12])\n",
      "Type :  torch.FloatTensor\n",
      "Type :  <class 'torch.Tensor'>\n",
      "\n",
      "--- Jax ---\n",
      "Shape :  (64, 12)\n",
      "Type :  <class 'jaxlib.xla_extension.ArrayImpl'>\n"
     ]
    }
   ],
   "source": [
    "print('--- Torch ---')\n",
    "print('Shape : ', output_torques.shape)\n",
    "print('Type : ', output_torques.type())\n",
    "print('Type : ', type(output_torques))\n",
    "\n",
    "print('')\n",
    "print('--- Jax ---')\n",
    "print('Shape : ', output_torques_jax.shape)\n",
    "print('Type : ', type(output_torques_jax))"
   ]
  },
  {
   "cell_type": "code",
   "execution_count": null,
   "metadata": {},
   "outputs": [
    {
     "data": {
      "text/plain": [
       "Array(1.0063325, dtype=float32)"
      ]
     },
     "execution_count": 15,
     "metadata": {},
     "output_type": "execute_result"
    }
   ],
   "source": [
    "output_torques_jax.std()"
   ]
  },
  {
   "cell_type": "code",
   "execution_count": null,
   "metadata": {},
   "outputs": [
    {
     "name": "stdout",
     "output_type": "stream",
     "text": [
      "[1 2 3]\n"
     ]
    }
   ],
   "source": [
    "import jax\n",
    "import jax.dlpack\n",
    "import torch\n",
    "import torch.utils.dlpack\n",
    "\n",
    "def jax_to_torch(x):\n",
    "    return torch.utils.dlpack.from_dlpack(jax.dlpack.to_dlpack(x))\n",
    "def torch_to_jax(x):\n",
    "    return jax.dlpack.from_dlpack(torch.utils.dlpack.to_dlpack(x))\n",
    "\n",
    "a = torch.tensor([1,2,3]).cuda()\n",
    "a_jax = torch_to_jax(a)\n",
    "print(a_jax)"
   ]
  },
  {
   "cell_type": "code",
   "execution_count": null,
   "metadata": {},
   "outputs": [
    {
     "data": {
      "text/plain": [
       "device(type='cuda', index=0)"
      ]
     },
     "execution_count": 18,
     "metadata": {},
     "output_type": "execute_result"
    }
   ],
   "source": [
    "a.device"
   ]
  },
  {
   "cell_type": "code",
   "execution_count": null,
   "metadata": {},
   "outputs": [
    {
     "data": {
      "text/plain": [
       "{cuda(id=0)}"
      ]
     },
     "execution_count": 28,
     "metadata": {},
     "output_type": "execute_result"
    }
   ],
   "source": [
    "a_jax.devices()"
   ]
  },
  {
   "cell_type": "code",
   "execution_count": null,
   "metadata": {},
   "outputs": [
    {
     "name": "stdout",
     "output_type": "stream",
     "text": [
      "shape :  torch.Size([64, 12])\n",
      "device :  cuda:0\n",
      "Type :  <class 'torch.Tensor'>\n"
     ]
    }
   ],
   "source": [
    "output_torques = (torch.rand(term1.num_envs, term1._num_joints, device='cuda') * 80) - 40\n",
    "print('shape : ',output_torques.shape)\n",
    "print('device : ',output_torques.device)\n",
    "print('Type : ', type(output_torques))"
   ]
  },
  {
   "cell_type": "code",
   "execution_count": null,
   "metadata": {},
   "outputs": [
    {
     "name": "stdout",
     "output_type": "stream",
     "text": [
      "Shape :  (64, 12)\n",
      "device :  {cuda(id=0)}\n",
      "Type :  <class 'jaxlib.xla_extension.ArrayImpl'>\n"
     ]
    }
   ],
   "source": [
    "output_torques_jax = torch_to_jax(output_torques)\n",
    "print('Shape : ', output_torques_jax.shape)\n",
    "print('device : ',output_torques_jax.devices())\n",
    "print('Type : ', type(output_torques_jax))"
   ]
  },
  {
   "cell_type": "code",
   "execution_count": null,
   "metadata": {},
   "outputs": [],
   "source": [
    "def alo() -> tuple[int, int, str]:\n",
    "    a = 2\n",
    "    b = 3\n",
    "    c = 4\n",
    "    return a, b, str(c)\n",
    "\n",
    "def alo2():\n",
    "    a = 2\n",
    "    b = 3\n",
    "    c = 4\n",
    "    return a, b, str(c)"
   ]
  },
  {
   "cell_type": "code",
   "execution_count": null,
   "metadata": {},
   "outputs": [
    {
     "data": {
      "text/plain": [
       "(2, 3, '4')"
      ]
     },
     "execution_count": 24,
     "metadata": {},
     "output_type": "execute_result"
    }
   ],
   "source": [
    "alo()"
   ]
  },
  {
   "cell_type": "code",
   "execution_count": null,
   "metadata": {},
   "outputs": [
    {
     "data": {
      "text/plain": [
       "(2, 3, '4')"
      ]
     },
     "execution_count": 26,
     "metadata": {},
     "output_type": "execute_result"
    }
   ],
   "source": [
    "alo2()"
   ]
  },
  {
   "cell_type": "code",
   "execution_count": null,
   "metadata": {},
   "outputs": [
    {
     "name": "stdout",
     "output_type": "stream",
     "text": [
      "<class 'tuple'>\n",
      "<class 'tuple'>\n"
     ]
    }
   ],
   "source": [
    "print(type(alo()))\n",
    "print(type(alo2()))"
   ]
  },
  {
   "cell_type": "code",
   "execution_count": null,
   "metadata": {},
   "outputs": [
    {
     "data": {
      "text/plain": [
       "tuple"
      ]
     },
     "execution_count": 10,
     "metadata": {},
     "output_type": "execute_result"
    }
   ],
   "source": [
    "a = tuple[2,3,4]\n",
    "alo()\n",
    "\n",
    "d, f, e = alo()\n",
    "type(alo())"
   ]
  },
  {
   "cell_type": "code",
   "execution_count": null,
   "metadata": {},
   "outputs": [
    {
     "name": "stdout",
     "output_type": "stream",
     "text": [
      "torch.float32\n",
      "torch.bool\n",
      "tensor([[0.5317, 0.4781, 0.3271],\n",
      "        [0.3938, 0.3433, 0.9002]])\n",
      "tensor([[ True, False,  True],\n",
      "        [False,  True, False]])\n"
     ]
    },
    {
     "data": {
      "text/plain": [
       "tensor([[0.5317, 0.0000, 0.3271],\n",
       "        [0.0000, 0.3433, 0.0000]])"
      ]
     },
     "execution_count": 31,
     "metadata": {},
     "output_type": "execute_result"
    }
   ],
   "source": [
    "import torch\n",
    "\n",
    "a = torch.tensor([0, 1.21, 2])\n",
    "b = torch.tensor([True, True, False])\n",
    "\n",
    "shape = [2,3]\n",
    "a = torch.rand(shape)\n",
    "b = torch.empty(shape, dtype=torch.bool).bernoulli(0.5)\n",
    "\n",
    "\n",
    "print(a.dtype)\n",
    "print(b.dtype)\n",
    "print(a)\n",
    "print(b)\n",
    "\n",
    "a*b"
   ]
  },
  {
   "cell_type": "code",
   "execution_count": null,
   "metadata": {},
   "outputs": [
    {
     "ename": "RuntimeError",
     "evalue": "shape '[5, 4, 3]' is invalid for input of size 20",
     "output_type": "error",
     "traceback": [
      "\u001b[0;31m---------------------------------------------------------------------------\u001b[0m",
      "\u001b[0;31mRuntimeError\u001b[0m                              Traceback (most recent call last)",
      "Cell \u001b[0;32mIn[43], line 10\u001b[0m\n\u001b[1;32m      7\u001b[0m number_of_joint_per_leg \u001b[38;5;241m=\u001b[39m \u001b[38;5;241m3\u001b[39m\n\u001b[1;32m      9\u001b[0m \u001b[38;5;66;03m# Modify the tensor to shape (batch_size, num_legs, number_of_joint_per_leg)\u001b[39;00m\n\u001b[0;32m---> 10\u001b[0m modified_tensor \u001b[38;5;241m=\u001b[39m \u001b[43mtorch\u001b[49m\u001b[38;5;241;43m.\u001b[39;49m\u001b[43mreshape\u001b[49m\u001b[43m(\u001b[49m\u001b[43mtensor\u001b[49m\u001b[43m,\u001b[49m\u001b[43m \u001b[49m\u001b[43m(\u001b[49m\u001b[43mtensor\u001b[49m\u001b[38;5;241;43m.\u001b[39;49m\u001b[43mshape\u001b[49m\u001b[43m[\u001b[49m\u001b[38;5;241;43m0\u001b[39;49m\u001b[43m]\u001b[49m\u001b[43m,\u001b[49m\u001b[43m \u001b[49m\u001b[43mtensor\u001b[49m\u001b[38;5;241;43m.\u001b[39;49m\u001b[43mshape\u001b[49m\u001b[43m[\u001b[49m\u001b[38;5;241;43m1\u001b[39;49m\u001b[43m]\u001b[49m\u001b[43m,\u001b[49m\u001b[43m \u001b[49m\u001b[43mnumber_of_joint_per_leg\u001b[49m\u001b[43m)\u001b[49m\u001b[43m)\u001b[49m\n\u001b[1;32m     12\u001b[0m \u001b[38;5;66;03m# Check the shape of the modified tensor\u001b[39;00m\n\u001b[1;32m     13\u001b[0m \u001b[38;5;28mprint\u001b[39m(\u001b[38;5;124m\"\u001b[39m\u001b[38;5;124mModified tensor shape:\u001b[39m\u001b[38;5;124m\"\u001b[39m, modified_tensor\u001b[38;5;241m.\u001b[39mshape)\n",
      "\u001b[0;31mRuntimeError\u001b[0m: shape '[5, 4, 3]' is invalid for input of size 20"
     ]
    }
   ],
   "source": [
    "import torch\n",
    "\n",
    "# Assuming you have a tensor of shape (batch_size, num_legs)\n",
    "tensor = torch.randn(5, 4)  # Example tensor with shape (5, 4)\n",
    "\n",
    "# Define the number of joints per leg\n",
    "number_of_joint_per_leg = 3\n",
    "\n",
    "# Modify the tensor to shape (batch_size, num_legs, number_of_joint_per_leg)\n",
    "modified_tensor = torch.reshape(tensor, (tensor.shape[0], tensor.shape[1], number_of_joint_per_leg))\n",
    "\n",
    "# Check the shape of the modified tensor\n",
    "print(\"Modified tensor shape:\", modified_tensor.shape)"
   ]
  },
  {
   "cell_type": "code",
   "execution_count": null,
   "metadata": {},
   "outputs": [
    {
     "name": "stdout",
     "output_type": "stream",
     "text": [
      "Time taken: 0.00016944000124931335 seconds\n"
     ]
    }
   ],
   "source": [
    "import torch\n",
    "import time\n",
    "\n",
    "# Create some tensors for demonstration\n",
    "T_shape = [4096,4,3]\n",
    "c_shape = [4096,4]\n",
    "T_1 = torch.rand(T_shape).cuda()\n",
    "T_2 = torch.rand(T_shape).cuda()\n",
    "c = torch.empty(c_shape, dtype=torch.bool).bernoulli(0.5).cuda()\n",
    "\n",
    "\n",
    "# Create CUDA events\n",
    "start_event = torch.cuda.Event(enable_timing=True)\n",
    "end_event = torch.cuda.Event(enable_timing=True)\n",
    "\n",
    "# Record start event\n",
    "start_event.record()\n",
    "\n",
    "# Example operation (e.g., matrix multiplication)\n",
    "\n",
    "result = (T_1 * c.unsqueeze(-1)) + (T_2 * (~c).unsqueeze(-1))\n",
    "\n",
    "# Record end event\n",
    "end_event.record()\n",
    "\n",
    "# Wait for computations to finish\n",
    "torch.cuda.synchronize()\n",
    "\n",
    "# Calculate elapsed time\n",
    "elapsed_time = start_event.elapsed_time(end_event) / 1000  # Convert to seconds\n",
    "print(\"Time taken:\", elapsed_time, \"seconds\")"
   ]
  },
  {
   "cell_type": "code",
   "execution_count": null,
   "metadata": {},
   "outputs": [
    {
     "name": "stdout",
     "output_type": "stream",
     "text": [
      "(3, 4, 5)\n"
     ]
    }
   ],
   "source": [
    "import jax\n",
    "def custom_operation(T_1, T_2, c_star):\n",
    "    # Element-wise multiplication with c_star and its complement\n",
    "    term1 = T_1 * c_star[..., None]\n",
    "    term2 = T_2 * (~c_star)[..., None]\n",
    "    \n",
    "    # Sum the terms along the joint dimension\n",
    "    T = term1 + term2\n",
    "    \n",
    "    return T\n",
    "\n",
    "# Example usage\n",
    "batch_size = 3\n",
    "num_legs = 4\n",
    "num_of_joints_per_leg = 5\n",
    "\n",
    "# Random tensors for T_1, T_2, and c_star\n",
    "T_1 = jax.random.normal(jax.random.PRNGKey(0), (batch_size, num_legs, num_of_joints_per_leg))\n",
    "T_2 = jax.random.normal(jax.random.PRNGKey(1), (batch_size, num_legs, num_of_joints_per_leg))\n",
    "c_star = jax.random.randint(jax.random.PRNGKey(2), (batch_size, num_legs), 0, 2)\n",
    "\n",
    "# Perform custom operation\n",
    "T = custom_operation(T_1, T_2, c_star)\n",
    "\n",
    "print(T.shape)  # Output shape should be (batch_size, num_legs, num_of_joints_per_leg)"
   ]
  },
  {
   "cell_type": "code",
   "execution_count": null,
   "metadata": {},
   "outputs": [
    {
     "name": "stdout",
     "output_type": "stream",
     "text": [
      "(3, 4, 5)\n"
     ]
    }
   ],
   "source": [
    "import jax\n",
    "import jax.numpy as jnp\n",
    "from jax import jit\n",
    "\n",
    "@jit\n",
    "def custom_operation(T_1, T_2, c_star):\n",
    "    # Element-wise multiplication with c_star and its complement\n",
    "    term1 = T_1 * c_star[..., None]\n",
    "    term2 = T_2 * (~c_star)[..., None]\n",
    "    \n",
    "    # Sum the terms along the joint dimension\n",
    "    T = term1 + term2\n",
    "    \n",
    "    return T\n",
    "\n",
    "# Example usage\n",
    "batch_size = 3\n",
    "num_legs = 4\n",
    "num_of_joints_per_leg = 5\n",
    "\n",
    "# Random tensors for T_1, T_2, and c_star\n",
    "T_1 = jax.random.normal(jax.random.PRNGKey(0), (batch_size, num_legs, num_of_joints_per_leg))\n",
    "T_2 = jax.random.normal(jax.random.PRNGKey(1), (batch_size, num_legs, num_of_joints_per_leg))\n",
    "c_star = jax.random.randint(jax.random.PRNGKey(2), (batch_size, num_legs), 0, 2)\n",
    "\n",
    "# Move tensors to GPU\n",
    "T_1 = jax.device_put(T_1, jax.devices('gpu')[0])\n",
    "T_2 = jax.device_put(T_2, jax.devices('gpu')[0])\n",
    "c_star = jax.device_put(c_star, jax.devices('gpu')[0])\n",
    "\n",
    "# Perform custom operation\n",
    "T = custom_operation(T_1, T_2, c_star)\n",
    "\n",
    "print(T.shape)  # Output shape should be (batch_size, num_legs, num_of_joints_per_leg)"
   ]
  },
  {
   "cell_type": "code",
   "execution_count": null,
   "metadata": {},
   "outputs": [
    {
     "name": "stdout",
     "output_type": "stream",
     "text": [
      "Time taken: 0.00010966400057077407 seconds\n"
     ]
    }
   ],
   "source": [
    "# Create some tensors for demonstration\n",
    "batch_size = 4096\n",
    "num_legs = 4\n",
    "num_of_joints_per_leg = 3\n",
    "T_1 = jax.random.normal(jax.random.PRNGKey(0), (batch_size, num_legs, num_of_joints_per_leg))\n",
    "T_2 = jax.random.normal(jax.random.PRNGKey(1), (batch_size, num_legs, num_of_joints_per_leg))\n",
    "c_star = jax.random.randint(jax.random.PRNGKey(2), (batch_size, num_legs), 0, 2)\n",
    "\n",
    "# Create CUDA events\n",
    "start_event = torch.cuda.Event(enable_timing=True)\n",
    "end_event = torch.cuda.Event(enable_timing=True)\n",
    "\n",
    "# Record start event\n",
    "start_event.record()\n",
    "\n",
    "# Example operation (e.g., matrix multiplication)\n",
    "T = custom_operation(T_1, T_2, c_star)\n",
    "\n",
    "# result = (T_1 * c.unsqueeze(-1)) + (T_2 * (~c).unsqueeze(-1))\n",
    "\n",
    "# Record end event\n",
    "end_event.record()\n",
    "\n",
    "# Wait for computations to finish\n",
    "torch.cuda.synchronize()\n",
    "\n",
    "# Calculate elapsed time\n",
    "elapsed_time = start_event.elapsed_time(end_event) / 1000  # Convert to seconds\n",
    "print(\"Time taken:\", elapsed_time, \"seconds\")"
   ]
  },
  {
   "cell_type": "code",
   "execution_count": null,
   "metadata": {},
   "outputs": [
    {
     "data": {
      "text/plain": [
       "[0, 1, 2, 3, 4, 5, 6, 7, 8, 9, 10]"
      ]
     },
     "execution_count": 5,
     "metadata": {},
     "output_type": "execute_result"
    }
   ],
   "source": [
    "a = [0,1,2,3,4,5,6,7,8,9,10]\n",
    "num_legs = 4\n",
    "a"
   ]
  },
  {
   "cell_type": "code",
   "execution_count": null,
   "metadata": {},
   "outputs": [
    {
     "name": "stdout",
     "output_type": "stream",
     "text": [
      "[0, 1, 2, 3]\n",
      "[4, 5, 6, 7]\n",
      "[8, 9, 10]\n"
     ]
    }
   ],
   "source": [
    "print(a[:num_legs])\n",
    "print(a[num_legs:2*num_legs])\n",
    "print(a[2*num_legs:])"
   ]
  },
  {
   "cell_type": "markdown",
   "metadata": {},
   "source": [
    "## Gait Generator\n",
    "from : f, d, phase, time_horizon  \n",
    "return : c, new_phase"
   ]
  },
  {
   "cell_type": "code",
   "execution_count": null,
   "metadata": {},
   "outputs": [],
   "source": [
    "import torch"
   ]
  },
  {
   "cell_type": "markdown",
   "metadata": {},
   "source": [
    "        Args:\n",
    "            - f   (torch.Tensor): Leg frequency                         of shape(batch_size, num_legs, parallel_rollout)\n",
    "            - d   (torch.Tensor): Stepping duty cycle                   of shape(batch_size, num_legs, parallel_rollout)\n",
    "            - phase (tch.Tensor): phase of leg                          of shape(batch_size, num_legs, parallel_rollout)\n",
    "            - time_horizon (int): Time horizon for the contact sequence\n",
    "\n",
    "        Returns:\n",
    "            - c     (torch.bool): Foot contact sequence                 of shape(batch_size, num_legs, time_horizon, parallel_rollout)\n",
    "            - phase (tch.Tensor): The phase updated by one time steps   of shape(batch_size, num_legs, parallel_rollout)"
   ]
  },
  {
   "cell_type": "code",
   "execution_count": null,
   "metadata": {},
   "outputs": [
    {
     "name": "stdout",
     "output_type": "stream",
     "text": [
      "---- Leg Frequency : f ----\n",
      "f shape: torch.Size([1, 2, 3])\n",
      "f : tensor([[[1., 2., 3.],\n",
      "         [1., 2., 3.]]])\n",
      "\n",
      "---- Stepping duty cycle : d ----\n",
      "d shape: torch.Size([1, 2, 3])\n",
      "d : tensor([[[2., 2., 2.],\n",
      "         [2., 2., 2.]]])\n",
      "\n",
      "---- Phase ----\n",
      "phase shape: torch.Size([1, 2, 3])\n",
      "phase : tensor([[[1., 2., 3.],\n",
      "         [1., 2., 3.]]])\n",
      "\n"
     ]
    }
   ],
   "source": [
    "num_envs = 1\n",
    "_num_legs = 2\n",
    "parallel_rollout = 3\n",
    "device = 'cpu'\n",
    "\n",
    "time_horizon = 4\n",
    "dt = 0.1\n",
    "\n",
    "f = torch.zeros(num_envs, _num_legs, parallel_rollout, device=device)\n",
    "f = torch.Tensor([1,2,3]).expand(num_envs,_num_legs, parallel_rollout)\n",
    "print('---- Leg Frequency : f ----')\n",
    "print('f shape:', f.shape)\n",
    "print('f :', f)\n",
    "print()\n",
    "\n",
    "d = torch.zeros(num_envs, _num_legs, parallel_rollout, device=device)\n",
    "d = d+2\n",
    "print('---- Stepping duty cycle : d ----')\n",
    "print('d shape:', d.shape)\n",
    "print('d :', d)\n",
    "print()\n",
    "\n",
    "phase = torch.zeros(num_envs, _num_legs, parallel_rollout, device=device)\n",
    "phase = torch.Tensor([1,2,3]).expand(num_envs,_num_legs, parallel_rollout)\n",
    "print('---- Phase ----')\n",
    "print('phase shape:', phase.shape)\n",
    "print('phase :', phase)\n",
    "print()"
   ]
  },
  {
   "cell_type": "code",
   "execution_count": null,
   "metadata": {},
   "outputs": [
    {
     "data": {
      "text/plain": [
       "tensor([0.1000, 0.2000, 0.3000, 0.4000])"
      ]
     },
     "execution_count": 129,
     "metadata": {},
     "output_type": "execute_result"
    }
   ],
   "source": [
    "torch.linspace(start=1, end=time_horizon, steps=time_horizon)*dt"
   ]
  },
  {
   "cell_type": "code",
   "execution_count": null,
   "metadata": {},
   "outputs": [
    {
     "name": "stdout",
     "output_type": "stream",
     "text": [
      "torch.Size([1, 2, 3])\n",
      "torch.Size([1, 2, 3, 1])\n",
      "torch.Size([1, 2, 3, 4])\n"
     ]
    },
    {
     "data": {
      "text/plain": [
       "tensor([[[[1., 1., 1., 1.],\n",
       "          [2., 2., 2., 2.],\n",
       "          [3., 3., 3., 3.]],\n",
       "\n",
       "         [[1., 1., 1., 1.],\n",
       "          [2., 2., 2., 2.],\n",
       "          [3., 3., 3., 3.]]]])"
      ]
     },
     "execution_count": 130,
     "metadata": {},
     "output_type": "execute_result"
    }
   ],
   "source": [
    "print(phase.shape)\n",
    "print(phase.unsqueeze(-1).shape)\n",
    "print(phase.unsqueeze(-1).expand(*[-1] * len(phase.shape),time_horizon).shape)\n",
    "phase.unsqueeze(-1).expand(num_envs,_num_legs,parallel_rollout,time_horizon)"
   ]
  },
  {
   "cell_type": "code",
   "execution_count": null,
   "metadata": {},
   "outputs": [
    {
     "name": "stdout",
     "output_type": "stream",
     "text": [
      "torch.Size([1, 2, 3, 4])\n"
     ]
    },
    {
     "data": {
      "text/plain": [
       "tensor([[[[1.1000, 1.2000, 1.3000, 1.4000],\n",
       "          [2.2000, 2.4000, 2.6000, 2.8000],\n",
       "          [3.3000, 3.6000, 3.9000, 4.2000]],\n",
       "\n",
       "         [[1.1000, 1.2000, 1.3000, 1.4000],\n",
       "          [2.2000, 2.4000, 2.6000, 2.8000],\n",
       "          [3.3000, 3.6000, 3.9000, 4.2000]]]])"
      ]
     },
     "execution_count": 134,
     "metadata": {},
     "output_type": "execute_result"
    }
   ],
   "source": [
    "new_phases = phase.unsqueeze(-1).expand(num_envs,_num_legs,parallel_rollout,time_horizon) + f.unsqueeze(-1).expand(num_envs,_num_legs,parallel_rollout,time_horizon)*torch.linspace(start=1, end=time_horizon, steps=time_horizon)*dt\n",
    "\n",
    "print(new_phases.shape)\n",
    "new_phases"
   ]
  },
  {
   "cell_type": "code",
   "execution_count": null,
   "metadata": {},
   "outputs": [
    {
     "name": "stdout",
     "output_type": "stream",
     "text": [
      "torch.Size([1, 2, 3, 4])\n"
     ]
    },
    {
     "data": {
      "text/plain": [
       "tensor([[[[0.1000, 0.2000, 0.3000, 0.4000],\n",
       "          [0.2000, 0.4000, 0.6000, 0.8000],\n",
       "          [0.3000, 0.6000, 0.9000, 0.2000]],\n",
       "\n",
       "         [[0.1000, 0.2000, 0.3000, 0.4000],\n",
       "          [0.2000, 0.4000, 0.6000, 0.8000],\n",
       "          [0.3000, 0.6000, 0.9000, 0.2000]]]])"
      ]
     },
     "execution_count": 135,
     "metadata": {},
     "output_type": "execute_result"
    }
   ],
   "source": [
    "new_phases = new_phases%1\n",
    "\n",
    "print(new_phases.shape)\n",
    "new_phases"
   ]
  },
  {
   "cell_type": "code",
   "execution_count": null,
   "metadata": {},
   "outputs": [
    {
     "name": "stdout",
     "output_type": "stream",
     "text": [
      "torch.Size([1, 2, 3])\n"
     ]
    },
    {
     "data": {
      "text/plain": [
       "tensor([[[0.1000, 0.2000, 0.3000],\n",
       "         [0.1000, 0.2000, 0.3000]]])"
      ]
     },
     "execution_count": 166,
     "metadata": {},
     "output_type": "execute_result"
    }
   ],
   "source": [
    "new_phase = new_phases[...,0]\n",
    "\n",
    "print(new_phase.shape)\n",
    "new_phase"
   ]
  },
  {
   "cell_type": "code",
   "execution_count": null,
   "metadata": {},
   "outputs": [
    {
     "name": "stdout",
     "output_type": "stream",
     "text": [
      "torch.Size([1, 2, 3, 4])\n"
     ]
    },
    {
     "data": {
      "text/plain": [
       "4"
      ]
     },
     "execution_count": 168,
     "metadata": {},
     "output_type": "execute_result"
    }
   ],
   "source": [
    "c = new_phases > d.unsqueeze(-1).expand(*[-1] * len(d.shape),time_horizon)\n",
    "\n",
    "print(c.shape)\n",
    "c.dim()"
   ]
  },
  {
   "cell_type": "code",
   "execution_count": null,
   "metadata": {},
   "outputs": [],
   "source": [
    "def gait_generator(f, d, phase, time_horizon):\n",
    "    new_phases = phase.unsqueeze(-1).expand(*[-1] * len(phase.shape),time_horizon) + f.unsqueeze(-1).expand(*[-1] * len(f.shape),time_horizon)*torch.linspace(start=1, end=time_horizon, steps=time_horizon)*dt\n",
    "\n",
    "    new_phases = new_phases%1\n",
    "\n",
    "    new_phase = new_phases[..., 0]\n",
    "\n",
    "    c = new_phases > d.unsqueeze(-1).expand(*[-1] * len(d.shape),time_horizon)\n",
    "\n",
    "    return c, new_phase\n"
   ]
  },
  {
   "cell_type": "code",
   "execution_count": null,
   "metadata": {},
   "outputs": [
    {
     "name": "stdout",
     "output_type": "stream",
     "text": [
      "Original tensor shape: torch.Size([1, 2, 1, 3, 1])\n",
      "Tensor shape after squeezing: torch.Size([2, 3])\n"
     ]
    }
   ],
   "source": [
    "import torch\n",
    "\n",
    "# Create a tensor (size can be unknown)\n",
    "tensor = torch.randn(1, 2, 1, 3, 1)\n",
    "\n",
    "# Squeeze out singleton dimensions\n",
    "unsqueezed_tensor = tensor.squeeze()\n",
    "\n",
    "print(\"Original tensor shape:\", tensor.shape)\n",
    "print(\"Tensor shape after squeezing:\", unsqueezed_tensor.shape)\n"
   ]
  },
  {
   "cell_type": "markdown",
   "metadata": {},
   "source": [
    "# Saved Hsitory of Development"
   ]
  },
  {
   "cell_type": "code",
   "execution_count": null,
   "metadata": {},
   "outputs": [],
   "source": [
    "        # # parse the body index\n",
    "        # body_ids, body_names = self._asset.find_bodies(self.cfg.body_name)\n",
    "        # if len(body_ids) != 1:\n",
    "        #     raise ValueError(\n",
    "        #         f\"Expected one match for the body name: {self.cfg.body_name}. Found {len(body_ids)}: {body_names}.\"\n",
    "        #     )\n",
    "        # # save only the first body index\n",
    "        # self._body_idx = body_ids[0]\n",
    "        # self._body_name = body_names[0]\n",
    "        # # check if articulation is fixed-base\n",
    "        # # if fixed-base then the jacobian for the base is not computed\n",
    "        # # this means that number of bodies is one less than the articulation's number of bodies\n",
    "        # if self._asset.is_fixed_base:\n",
    "        #     self._jacobi_body_idx = self._body_idx - 1\n",
    "        # else:\n",
    "        #     self._jacobi_body_idx = self._body_idx\n",
    "        # carb.log_info(  # log info for debugging\n",
    "        #     f\"Resolved body name for the action term {self.__class__.__name__}: {self._body_name} [{self._body_idx}]\"\n",
    "        # )\n",
    "\n",
    "        # # convert the fixed offsets to torch tensors of batched shape\n",
    "        # if self.cfg.body_offset is not None:\n",
    "        #     self._offset_pos = torch.tensor(self.cfg.body_offset.pos, device=self.device).repeat(self.num_envs, 1)\n",
    "        #     self._offset_rot = torch.tensor(self.cfg.body_offset.rot, device=self.device).repeat(self.num_envs, 1)\n",
    "        # else:\n",
    "        #     self._offset_pos, self._offset_rot = None, None"
   ]
  },
  {
   "cell_type": "code",
   "execution_count": null,
   "metadata": {},
   "outputs": [],
   "source": [
    "   # Stolen from DifferentialInverseKinematicsAction\n",
    "    def _compute_frame_jacobian(self):\n",
    "        \"\"\"Computes the geometric Jacobian of the target frame in the root frame.\n",
    "\n",
    "        This function accounts for the target frame offset and applies the necessary transformations to obtain\n",
    "        the right Jacobian from the parent body Jacobian.\n",
    "        \"\"\"\n",
    "        # read the parent jacobian\n",
    "        jacobian = self._asset.root_physx_view.get_jacobians()[:, self._jacobi_body_idx, :, self._joint_ids]\n",
    "\n",
    "        jacobian = self._asset.root_physx_view.get_jacobians()\n",
    "\n",
    "        \"\"\"Ordered names of bodies in articulation (through rigid body view).\"\"\"\n",
    "        prim_paths = self._asset.body_physx_view.prim_paths[: self._asset.num_bodies]\n",
    "        body_names = [path.split(\"/\")[-1] for path in prim_paths]\n",
    "        print(\"Link names through body view: \", body_names) #['base', 'FL_hip', 'FL_thigh', 'FL_calf', 'FL_foot', 'FR_hip', 'FR_thigh', 'FR_calf', 'FR_foot', 'RL_hip', 'RL_thigh', 'RL_calf', 'RL_foot', 'RR_hip', 'RR_thigh', 'RR_calf', 'RR_foot']\n",
    "\n",
    "        \"\"\"Ordered names of bodies in articulation (through articulation view).\"\"\"\n",
    "        body_names = self._asset.root_physx_view.shared_metatype.link_names\n",
    "        print(\"Link names through articulation view: \", body_names) #['base', 'FL_hip', 'FR_hip', 'RL_hip', 'RR_hip', 'FL_thigh', 'FR_thigh', 'RL_thigh', 'RR_thigh', 'FL_calf', 'FR_calf', 'RL_calf', 'RR_calf', 'FL_foot', 'FR_foot', 'RL_foot', 'RR_foot']\n",
    "\n",
    "        # account for the offset\n",
    "        if self.cfg.body_offset is not None:\n",
    "            # Modify the jacobian to account for the offset\n",
    "            # -- translational part\n",
    "            # v_link = v_ee + w_ee x r_link_ee = v_J_ee * q + w_J_ee * q x r_link_ee\n",
    "            #        = (v_J_ee + w_J_ee x r_link_ee ) * q\n",
    "            #        = (v_J_ee - r_link_ee_[x] @ w_J_ee) * q\n",
    "            jacobian[:, 0:3, :] += torch.bmm(-math_utils.skew_symmetric_matrix(self._offset_pos), jacobian[:, 3:, :])\n",
    "            # -- rotational part\n",
    "            # w_link = R_link_ee @ w_ee\n",
    "            jacobian[:, 3:, :] = torch.bmm(math_utils.matrix_from_quat(self._offset_rot), jacobian[:, 3:, :])\n",
    "\n",
    "        return jacobian"
   ]
  },
  {
   "cell_type": "code",
   "execution_count": null,
   "metadata": {},
   "outputs": [],
   "source": [
    "    def apply_actions(self):\n",
    "        \"\"\"Applies the actions to the asset managed by the term.\n",
    "        Note: This is called at every simulation step by the manager.\n",
    "        \"\"\"\n",
    "        output_torques = (torch.rand(self.num_envs, self._num_joints, device=self.device))# * 80) - 40\n",
    "\n",
    "        # print('--- Torch ---')\n",
    "        # print('shape : ',output_torques.shape)\n",
    "        # print('device : ',output_torques.device)\n",
    "        # print('Type : ', type(output_torques))\n",
    "        \n",
    "        output_torques_jax = torch_to_jax(output_torques)\n",
    "        output_torques_jax = (output_torques_jax * 80) - 40\n",
    "\n",
    "        # print('')\n",
    "        # print('--- Jax ---')\n",
    "        # print('Shape : ', output_torques_jax.shape)\n",
    "        # print('device : ',output_torques_jax.devices())\n",
    "        # print('Type : ', type(output_torques_jax))\n",
    "\n",
    "        output_torques2 = jax_to_torch(output_torques_jax)\n",
    "\n",
    "        # set joint effort targets (should be equivalent to torque) : Torque controlled robot\n",
    "        self._asset.set_joint_effort_target(output_torques2, joint_ids=self._joint_ids)"
   ]
  },
  {
   "cell_type": "code",
   "execution_count": null,
   "metadata": {},
   "outputs": [],
   "source": [
    "    def get_robot_state2(self):\n",
    "        \"\"\" TODO Write description\n",
    "        \"\"\"\n",
    "\n",
    "        # Joint Index\n",
    "        fl_joints = self._asset.find_joints(\"FL.*\")[0]\t\t# list [0, 4,  8]\n",
    "        fr_joints = self._asset.find_joints(\"FR.*\")[0]\t\t# list [1, 5,  9]\n",
    "        rl_joints = self._asset.find_joints(\"RL.*\")[0]\t\t# list [2, 6, 10]\n",
    "        rr_joints = self._asset.find_joints(\"RR.*\")[0]\t\t# list [3, 7, 11]\n",
    "\n",
    "        # Body Index\n",
    "        foot_idx = self._asset.find_bodies(\".*foot\")[0]\n",
    "\n",
    "        # 'FL_foot', 'FR_foot', 'RL_foot', 'RR_foot'\n",
    "        fl_jacobian = self._asset.root_physx_view.get_jacobians()[:, foot_idx[0], 0:3, fl_joints]# + 6]\n",
    "        fr_jacobian = self._asset.root_physx_view.get_jacobians()[:, foot_idx[1], 0:3, fr_joints]# + 6]\n",
    "        rl_jacobian = self._asset.root_physx_view.get_jacobians()[:, foot_idx[2], 0:3, rl_joints]# + 6]\n",
    "        rr_jacobian = self._asset.root_physx_view.get_jacobians()[:, foot_idx[3], 0:3, rr_joints]# + 6]\n",
    "\n",
    "        # foot position in wf\n",
    "        fl_foot_pos_w = self._asset.data.body_state_w[:, foot_idx[0], 0:3]\n",
    "        fr_foot_pos_w = self._asset.data.body_state_w[:, foot_idx[1], 0:3]\n",
    "        rl_foot_pos_w = self._asset.data.body_state_w[:, foot_idx[2], 0:3]\n",
    "        rr_foot_pos_w = self._asset.data.body_state_w[:, foot_idx[3], 0:3]\n",
    "\n",
    "        # foot orientation in wf\n",
    "        fl_foot_orient_w = self._asset.data.body_state_w[:, foot_idx[0], 3:7]\n",
    "        fr_foot_orient_w = self._asset.data.body_state_w[:, foot_idx[1], 3:7]\n",
    "        rl_foot_orient_w = self._asset.data.body_state_w[:, foot_idx[2], 3:7]\n",
    "        rr_foot_orient_w = self._asset.data.body_state_w[:, foot_idx[3], 3:7]\n",
    "\n",
    "        # Root state ``[pos, quat, lin_vel, ang_vel]`` in simulation world frame. Shape is (num_instances, 13)\n",
    "        base_pose_w = self._asset.data.root_state_w[:, 0:3]\n",
    "        base_orient_w = self._asset.data.root_state_w[:, 3:7]\n",
    "        base_lin_vel_w = self._asset.data.root_state_w[:, 7:10]\n",
    "        base_ang_vel_w = self._asset.data.root_state_w[:, 10:13]\n",
    "\n",
    "        # foot position, orientation in bf\n",
    "        fl_foot_pos_b, fl_foot_orient_b = math_utils.subtract_frame_transforms(base_pose_w, base_orient_w, fl_foot_pos_w, fl_foot_orient_w)\n",
    "        fr_foot_pos_b, fr_foot_orient_b = math_utils.subtract_frame_transforms(base_pose_w, base_orient_w, fr_foot_pos_w, fr_foot_orient_w)\n",
    "        rl_foot_pos_b, rl_foot_orient_b = math_utils.subtract_frame_transforms(base_pose_w, base_orient_w, rl_foot_pos_w, rl_foot_orient_w)\n",
    "        rr_foot_pos_b, rr_foot_orient_b = math_utils.subtract_frame_transforms(base_pose_w, base_orient_w, rr_foot_pos_w, rr_foot_orient_w)\n",
    "\n",
    "        # foot joint position\n",
    "        fl_joint_pos = self._asset.data.joint_pos[:, fl_joints]\n",
    "        fr_joint_pos = self._asset.data.joint_pos[:, fr_joints]\n",
    "        rl_joint_pos = self._asset.data.joint_pos[:, rl_joints]\n",
    "        rr_joint_pos = self._asset.data.joint_pos[:, rr_joints]\n",
    "\n",
    "        # foot joint velocity\n",
    "        fl_joint_vel = self._asset.data.joint_vel[:, fl_joints]\n",
    "        fr_joint_vel = self._asset.data.joint_vel[:, fr_joints]\n",
    "        rl_joint_vel = self._asset.data.joint_vel[:, rl_joints]\n",
    "        rr_joint_vel = self._asset.data.joint_vel[:, rr_joints]\n",
    "\n",
    "        print('alo')"
   ]
  },
  {
   "cell_type": "markdown",
   "metadata": {},
   "source": [
    "# Stance Leg controller"
   ]
  },
  {
   "cell_type": "code",
   "execution_count": null,
   "metadata": {},
   "outputs": [
    {
     "name": "stdout",
     "output_type": "stream",
     "text": [
      "Random Tensor Shape: torch.Size([2, 4, 3, 5])\n",
      "Random Tensor:\n",
      "tensor([[[[-1.0008,  0.7120, -0.1742, -1.4273, -0.2322],\n",
      "          [ 0.4963, -0.0760,  0.7140,  0.5691, -0.4790],\n",
      "          [-0.2406,  0.7622,  0.0441, -2.3687,  0.6843]],\n",
      "\n",
      "         [[-1.1865, -0.2030, -0.8373,  1.5632, -0.9582],\n",
      "          [-1.6118,  0.9994,  0.2950,  1.7622, -0.6367],\n",
      "          [-0.9983,  0.1925,  1.1585, -0.3202, -0.7383]],\n",
      "\n",
      "         [[ 0.9787,  0.0971,  0.9300, -1.4056,  0.0978],\n",
      "          [-0.8115,  0.1189,  1.5842,  0.1966,  1.0970],\n",
      "          [-0.2550, -2.1972, -0.2008, -0.6315,  0.5687]],\n",
      "\n",
      "         [[ 0.8719, -0.0730, -0.2174,  0.8004, -0.7905],\n",
      "          [ 0.4587, -0.1622,  0.8989,  1.1916,  0.8667],\n",
      "          [ 0.1111, -1.7449,  0.0858,  1.7471,  0.4848]]],\n",
      "\n",
      "\n",
      "        [[[-2.6416,  1.3883,  1.4118, -0.1556, -0.0260],\n",
      "          [ 0.0520, -1.5354, -0.1618, -0.0765,  0.7076],\n",
      "          [ 0.6039, -0.3753, -0.7691,  0.4189, -1.3773]],\n",
      "\n",
      "         [[-0.7048,  1.1861, -0.2367, -0.0804,  0.8997],\n",
      "          [ 1.2829, -0.1929, -0.9965, -0.4421,  0.7688],\n",
      "          [-1.1038, -0.4555, -0.1341,  0.7287,  0.5386]],\n",
      "\n",
      "         [[ 2.1951, -0.3242, -0.6417,  0.2766, -0.3449],\n",
      "          [ 1.1949,  0.4038,  0.8481, -0.8909,  1.4892],\n",
      "          [ 2.1680,  0.3773, -1.4098,  0.2815, -1.8475]],\n",
      "\n",
      "         [[-0.1910, -0.9337, -0.8457,  2.0190,  0.9930],\n",
      "          [-0.3845, -0.0142,  1.1648,  0.6924,  0.3329],\n",
      "          [ 0.6188,  0.0251, -0.0031, -0.2717,  1.0208]]]])\n"
     ]
    }
   ],
   "source": [
    "import torch\n",
    "\n",
    "# Define symbolic variables\n",
    "batch_size = 2\n",
    "num_legs = 4\n",
    "num_joints_per_leg = 5\n",
    "\n",
    "# Instantiate the tensor with symbolic shape\n",
    "shape = (batch_size, num_legs, 3, num_joints_per_leg)\n",
    "tensor = torch.randn(*shape)\n",
    "\n",
    "print(\"Random Tensor Shape:\", tensor.shape)\n",
    "print(\"Random Tensor:\")\n",
    "print(tensor)\n"
   ]
  },
  {
   "cell_type": "code",
   "execution_count": null,
   "metadata": {},
   "outputs": [
    {
     "name": "stdout",
     "output_type": "stream",
     "text": [
      "Boolean Tensor Shape: torch.Size([2, 4])\n",
      "Boolean Tensor:\n",
      "tensor([[ True,  True, False, False],\n",
      "        [False,  True, False,  True]])\n"
     ]
    }
   ],
   "source": [
    "c0 = torch.randint(0, 2, (batch_size, num_legs), dtype=torch.bool)\n",
    "\n",
    "print(\"Boolean Tensor Shape:\", c0.shape)\n",
    "print(\"Boolean Tensor:\")\n",
    "print(c0)"
   ]
  },
  {
   "cell_type": "code",
   "execution_count": null,
   "metadata": {},
   "outputs": [],
   "source": [
    "jacobian = torch.randn(batch_size, num_legs, 3, num_joints_per_leg)\n",
    "F0_star = torch.randn(batch_size, num_legs, 3)"
   ]
  },
  {
   "cell_type": "code",
   "execution_count": null,
   "metadata": {},
   "outputs": [
    {
     "name": "stdout",
     "output_type": "stream",
     "text": [
      "Jacobian   shape : torch.Size([2, 4, 3, 5])\n",
      "Jacobian.T shape : torch.Size([2, 4, 5, 3])\n",
      "   GRF     shape : torch.Size([2, 4, 3])\n",
      "   GRF 2   shape : torch.Size([2, 4, 3, 1])\n",
      "     q     shape : torch.Size([2, 4, 5, 1])\n",
      "     q2    shape : torch.Size([2, 4, 5])\n",
      "\n",
      "Jacobian : \n",
      "tensor([[ 1.8449, -0.1331, -0.4473, -0.3967, -0.5775],\n",
      "        [-0.1599, -0.0411,  0.1473, -0.2492,  1.2638],\n",
      "        [-1.4937, -1.0205, -0.9950,  0.1527,  1.4755]])\n",
      "\n",
      "GRF : \n",
      "tensor([ 0.8727, -0.0659, -0.1853])\n",
      "\n",
      "Joints : \n",
      "tensor([-1.1362, -1.4506, -0.6089,  2.4870,  1.3955])\n",
      "\n",
      "Torques : \n",
      "tensor([[[-0.0000,  0.0000,  0.0000, -0.0000, -0.0000],\n",
      "         [ 0.0000, -0.0000,  0.0000, -0.0000,  0.0000],\n",
      "         [-1.8240,  0.8967, -0.6014,  0.1919,  0.6543],\n",
      "         [-0.0195, -0.1334, -1.3107,  0.5556, -2.4532]],\n",
      "\n",
      "        [[ 0.4518,  1.8152,  1.0578, -2.1407,  0.1980],\n",
      "         [-0.0000, -0.0000,  0.0000,  0.0000, -0.0000],\n",
      "         [-1.1362, -1.4506, -0.6089,  2.4870,  1.3955],\n",
      "         [ 0.0000,  0.0000, -0.0000, -0.0000, -0.0000]]])\n"
     ]
    },
    {
     "data": {
      "text/plain": [
       "5"
      ]
     },
     "execution_count": 10,
     "metadata": {},
     "output_type": "execute_result"
    }
   ],
   "source": [
    "# jacobian = torch.randn(batch_size, num_legs, 3, num_joints_per_leg)\n",
    "jacobian_T = jacobian.transpose(-1,-2).detach().clone() # Transpose last two dimensions\n",
    "print('Jacobian   shape :',jacobian.shape)\n",
    "print('Jacobian.T shape :',jacobian_T.shape)\n",
    "\n",
    "# F0_star = torch.randn(batch_size, num_legs, 3)\n",
    "F0_star2 = F0_star.unsqueeze(-1).detach().clone() \n",
    "print('   GRF     shape :',F0_star.shape)\n",
    "print('   GRF 2   shape :',F0_star2.shape)\n",
    "\n",
    "q = torch.matmul(jacobian_T, F0_star.unsqueeze(-1))\n",
    "q2 = q.squeeze(-1).clone().detach()\n",
    "print('     q     shape :',q.shape)\n",
    "print('     q2    shape :',q2.shape)\n",
    "\n",
    "print('')\n",
    "print('Jacobian : ')\n",
    "print(jacobian[1,3,:,:])\n",
    "\n",
    "print('')\n",
    "print('GRF : ')\n",
    "print(F0_star[1,3,:])\n",
    "\n",
    "print('')\n",
    "print('Joints : ')\n",
    "print(q2[1,2,:])\n",
    "\n",
    "T = q2 * ~c0.unsqueeze(-1).expand(*[-1] * len(c0.shape), T.shape[-1])\n",
    "print('')\n",
    "print('Torques : ')\n",
    "print(T[:,:,:])\n",
    "\n",
    "T.shape[-1]"
   ]
  },
  {
   "cell_type": "code",
   "execution_count": null,
   "metadata": {},
   "outputs": [
    {
     "name": "stdout",
     "output_type": "stream",
     "text": [
      "torch.Size([2, 4, 5])\n",
      "tensor([[[-0.0000,  0.0000,  0.0000, -0.0000, -0.0000],\n",
      "         [ 0.0000, -0.0000,  0.0000, -0.0000,  0.0000],\n",
      "         [-1.8240,  0.8967, -0.6014,  0.1919,  0.6543],\n",
      "         [-0.0195, -0.1334, -1.3107,  0.5556, -2.4532]],\n",
      "\n",
      "        [[ 0.4518,  1.8152,  1.0578, -2.1407,  0.1980],\n",
      "         [-0.0000, -0.0000,  0.0000,  0.0000, -0.0000],\n",
      "         [-1.1362, -1.4506, -0.6089,  2.4870,  1.3955],\n",
      "         [ 0.0000,  0.0000, -0.0000, -0.0000, -0.0000]]])\n",
      "tensor([[-0.0000,  0.0000,  0.6543, -2.4532],\n",
      "        [ 0.1980, -0.0000,  1.3955, -0.0000]])\n"
     ]
    }
   ],
   "source": [
    "print(T.shape)\n",
    "print(T)\n",
    "print(T[:,:,4])"
   ]
  },
  {
   "cell_type": "code",
   "execution_count": null,
   "metadata": {},
   "outputs": [
    {
     "name": "stdout",
     "output_type": "stream",
     "text": [
      "Jacobian     Shape: torch.Size([2, 4, 3, 5])\n",
      "Jacobian dot Shape: torch.Size([2, 4, 3, 5])\n",
      "     q   dot Shape: torch.Size([2, 4, 5])\n",
      "Mass Matrix  Shape: torch.Size([2, 4, 5, 5])\n",
      "     h       Shape: torch.Size([2, 4, 5])\n"
     ]
    }
   ],
   "source": [
    "import torch\n",
    "\n",
    "# Define symbolic variables\n",
    "batch_size = 2\n",
    "num_legs = 4\n",
    "num_joints_per_leg = 5\n",
    "\n",
    "jacobian = torch.randn(batch_size, num_legs, 3, num_joints_per_leg)\n",
    "jacobian_dot = torch.randn(batch_size, num_legs, 3, num_joints_per_leg)\n",
    "q_dot = torch.randn(batch_size, num_legs, num_joints_per_leg)\n",
    "mass_matrix = torch.randn(batch_size, num_legs, num_joints_per_leg, num_joints_per_leg)\n",
    "h = torch.randn(batch_size, num_legs, num_joints_per_leg)\n",
    "\n",
    "print(\"Jacobian     Shape:\", jacobian.shape)\n",
    "print(\"Jacobian dot Shape:\", jacobian_dot.shape)\n",
    "print(\"     q   dot Shape:\", q_dot.shape)\n",
    "print(\"Mass Matrix  Shape:\", mass_matrix.shape)\n",
    "print(\"     h       Shape:\", h.shape)"
   ]
  },
  {
   "cell_type": "code",
   "execution_count": null,
   "metadata": {},
   "outputs": [
    {
     "name": "stdout",
     "output_type": "stream",
     "text": [
      "                   J_dot_x_q_dot Shape: torch.Size([2, 4, 3])\n",
      "                   jacobian_inv  Shape: torch.Size([2, 4, 5, 3])\n",
      "     J⁻¹[p_dot_dot - J(q)*q_dot] Shape: torch.Size([2, 4, 5])\n",
      "M(q)*J⁻¹[p_dot_dot - J(q)*q_dot] Shape: torch.Size([2, 4, 5])\n",
      "                              T  Shape: torch.Size([2, 4, 5])\n"
     ]
    }
   ],
   "source": [
    "J_dot_x_q_dot = torch.matmul(jacobian_dot, q_dot.unsqueeze(-1)).squeeze(-1)\n",
    "print(\"                   J_dot_x_q_dot Shape:\", J_dot_x_q_dot.shape)\n",
    "\n",
    "jacobian_inv = torch.linalg.pinv(jacobian)\n",
    "print(\"                   jacobian_inv  Shape:\", jacobian_inv.shape)\n",
    "\n",
    "J_inv_p_dot_dot_min_J_dot_x_q_dot = torch.matmul(jacobian_inv, J_dot_x_q_dot.unsqueeze(-1)).squeeze(-1)\n",
    "print(\"     J⁻¹[p_dot_dot - J(q)*q_dot] Shape:\", J_inv_p_dot_dot_min_J_dot_x_q_dot.shape)\n",
    "\n",
    "M_J_inv_p_dot_dot_min_J_dot_x_q_dot = torch.matmul(mass_matrix, J_inv_p_dot_dot_min_J_dot_x_q_dot.unsqueeze(-1)).squeeze(-1)\n",
    "print('M(q)*J⁻¹[p_dot_dot - J(q)*q_dot] Shape:', M_J_inv_p_dot_dot_min_J_dot_x_q_dot.shape)\n",
    "\n",
    "# Final step\n",
    "T = torch.add(M_J_inv_p_dot_dot_min_J_dot_x_q_dot, h)\n",
    "print('                              T  Shape:', T.shape)"
   ]
  },
  {
   "cell_type": "markdown",
   "metadata": {},
   "source": [
    "## Jacobian dim"
   ]
  },
  {
   "cell_type": "code",
   "execution_count": null,
   "metadata": {},
   "outputs": [
    {
     "name": "stdout",
     "output_type": "stream",
     "text": [
      "torch.Size([5, 17, 6, 18])\n"
     ]
    }
   ],
   "source": [
    "import torch\n",
    "\n",
    "# Define symbolic variables\n",
    "batch_size = 5\n",
    "num_legs = 4\n",
    "num_joints_per_leg = 3\n",
    "\n",
    "_foot_idx = [13,14,15,16]\n",
    "_joint_idx = [[0,4,8],[1,5,9],[2,6,10],[3,7,11]]\n",
    "# _joint_idx = [[[[0,4,8]],[[1,5,9]],[[2,6,10]],[[3,7,11]]]]\n",
    "_joint_idx_tensor = torch.Tensor(_joint_idx)\n",
    "\n",
    "jacobian = torch.randn(batch_size, 17, 6, 18)\n",
    "print(jacobian.shape)"
   ]
  },
  {
   "cell_type": "code",
   "execution_count": null,
   "metadata": {},
   "outputs": [
    {
     "name": "stdout",
     "output_type": "stream",
     "text": [
      "torch.Size([5, 4, 3, 18])\n",
      "0\n",
      "[0, 4, 8]\n",
      "1\n",
      "[1, 5, 9]\n",
      "2\n",
      "[2, 6, 10]\n",
      "3\n",
      "[3, 7, 11]\n"
     ]
    }
   ],
   "source": [
    "print(jacobian[:,_foot_idx,:3,:].shape)\n",
    "\n",
    "for leg_i, joints_in_leg_i in enumerate(_joint_idx):\n",
    "    print(leg_i)\n",
    "    print(joints_in_leg_i)"
   ]
  },
  {
   "cell_type": "code",
   "execution_count": null,
   "metadata": {},
   "outputs": [
    {
     "name": "stdout",
     "output_type": "stream",
     "text": [
      "torch.Size([5, 1, 3, 3])\n",
      "torch.Size([5, 3, 3, 3])\n",
      "torch.Size([5, 3, 3, 3])\n"
     ]
    }
   ],
   "source": [
    "import numpy as np\n",
    "jacob1 = jacobian[:, 0, :3, [0,4,8]].unsqueeze(1)\n",
    "jacob2 = jacobian[:, 1, :3, [1,5,9]].unsqueeze(1)\n",
    "jacob3 = jacobian[:, 2, :3, [2,6,10]].unsqueeze(1)\n",
    "print(jacob1.shape)\n",
    "print(torch.cat((jacob1, jacob2, jacob3), dim=1).shape)\n",
    "\n",
    "jacob = []\n",
    "jacob.append(jacobian[:, 0, :3, 6+np.asarray([0,4,8])].unsqueeze(1))\n",
    "jacob.append(jacobian[:, 1, :3, [1,5,9]].unsqueeze(1))\n",
    "jacob.append(jacobian[:, 2, :3, [2,6,10]].unsqueeze(1))\n",
    "print(torch.cat((jacob), dim=1).shape)"
   ]
  },
  {
   "cell_type": "code",
   "execution_count": null,
   "metadata": {},
   "outputs": [
    {
     "data": {
      "text/plain": [
       "4"
      ]
     },
     "execution_count": 121,
     "metadata": {},
     "output_type": "execute_result"
    }
   ],
   "source": [
    "12//3"
   ]
  },
  {
   "cell_type": "code",
   "execution_count": null,
   "metadata": {},
   "outputs": [
    {
     "name": "stdout",
     "output_type": "stream",
     "text": [
      "tensor([[[1.0000, 2.0000, 2.1000],\n",
      "         [3.0000, 4.0000, 4.1000]],\n",
      "\n",
      "        [[5.0000, 6.0000, 6.1000],\n",
      "         [7.0000, 8.0000, 8.1000]]])\n",
      "\n"
     ]
    },
    {
     "data": {
      "text/plain": [
       "tensor([[1.0000, 3.0000, 2.0000, 4.0000, 2.1000, 4.1000],\n",
       "        [5.0000, 7.0000, 6.0000, 8.0000, 6.1000, 8.1000]])"
      ]
     },
     "execution_count": 20,
     "metadata": {},
     "output_type": "execute_result"
    }
   ],
   "source": [
    "import torch\n",
    "\n",
    "a = torch.tensor([[[1.0, 2.0, 2.1], [3.0, 4.0, 4.1]], [[5,6, 6.1] , [7, 8, 8.1]]])\n",
    "print(a)\n",
    "print()\n",
    "a.permute(0,2,1).reshape(2,6)\n",
    "# a.view(2,6)"
   ]
  },
  {
   "cell_type": "markdown",
   "metadata": {},
   "source": [
    "# Extract Touch Down Pos : Convolutions\n",
    "\n",
    "        # Utiliser une convolution sur c (contact sequence) pour trouver le point de départ et d'arriver du pied.\n",
    "        # Avec un filtre genre f = [0, 1], pour ne garder que les flancs montants\n",
    "        # Imaginons p = [p1, p2, p3, p4, p5, p6, p7, p8, p9, p10]\n",
    "        #           c = [ 1,  1,  0,  0,  0,  1,  1,  0,  0,   1]\n",
    "        # Les points de départ serait p1, p6 et p10 les points d'arrivé p6 et p10\n",
    "        # Il faudrait retourner qqch comme \n",
    "        #        key =  [1,   0,  0,  0,  0,  1,  0,  0,  0,   1]\n",
    "        # Qui permetrait d'extraire facilement [p1, p6, p10] avec p[key]"
   ]
  },
  {
   "cell_type": "code",
   "execution_count": null,
   "metadata": {},
   "outputs": [
    {
     "data": {
      "text/plain": [
       "tensor([[[0., 0., 0., 0., 1., 0., 0., 0., 1., 1.],\n",
       "         [0., 0., 1., 0., 0., 0., 0., 0., 1., 0.],\n",
       "         [0., 0., 0., 0., 0., 0., 0., 0., 0., 0.],\n",
       "         [0., 0., 0., 0., 0., 0., 0., 0., 1., 0.]],\n",
       "\n",
       "        [[0., 0., 0., 0., 0., 0., 0., 0., 1., 0.],\n",
       "         [1., 0., 0., 0., 0., 0., 1., 0., 0., 0.],\n",
       "         [1., 0., 0., 0., 1., 0., 1., 0., 1., 0.],\n",
       "         [0., 0., 0., 1., 0., 1., 0., 0., 1., 0.]]])"
      ]
     },
     "execution_count": 128,
     "metadata": {},
     "output_type": "execute_result"
    }
   ],
   "source": [
    "import torch\n",
    "\n",
    "batch_size = 2\n",
    "num_legs = 4\n",
    "time_horizon = 10\n",
    "\n",
    "c = torch.empty(batch_size, num_legs, time_horizon).bernoulli(0.2)\n",
    "c"
   ]
  },
  {
   "cell_type": "code",
   "execution_count": null,
   "metadata": {},
   "outputs": [
    {
     "data": {
      "text/plain": [
       "tensor([[[ 0.0000, -0.0000, -0.0000, -0.0000,  0.2320, -0.0000, -0.0000,\n",
       "           0.0000,  0.2659, -1.4655],\n",
       "         [ 0.0000, -0.0000,  0.6376,  0.0000,  0.0000, -0.0000,  0.0000,\n",
       "           0.0000,  1.6942,  0.0000],\n",
       "         [ 0.0000, -0.0000,  0.0000,  0.0000,  0.0000, -0.0000, -0.0000,\n",
       "           0.0000,  0.0000,  0.0000],\n",
       "         [ 0.0000,  0.0000,  0.0000,  0.0000,  0.0000, -0.0000, -0.0000,\n",
       "           0.0000,  1.2197,  0.0000]],\n",
       "\n",
       "        [[ 0.0000,  0.0000,  0.0000,  0.0000,  0.0000,  0.0000,  0.0000,\n",
       "          -0.0000, -0.3521,  0.0000],\n",
       "         [ 0.6727,  0.0000,  0.0000, -0.0000, -0.0000, -0.0000, -0.4122,\n",
       "           0.0000, -0.0000,  0.0000],\n",
       "         [ 1.9076,  0.0000,  0.0000, -0.0000,  3.6689, -0.0000, -0.4448,\n",
       "          -0.0000,  0.4419,  0.0000],\n",
       "         [-0.0000,  0.0000, -0.0000, -0.7543, -0.0000,  0.6289,  0.0000,\n",
       "           0.0000, -1.0148,  0.0000]]])"
      ]
     },
     "execution_count": 129,
     "metadata": {},
     "output_type": "execute_result"
    }
   ],
   "source": [
    "p = torch.randn(c.shape)\n",
    "p2 = p * c\n",
    "p2"
   ]
  },
  {
   "cell_type": "code",
   "execution_count": null,
   "metadata": {},
   "outputs": [
    {
     "data": {
      "text/plain": [
       "tensor([[4, 2, 0, 8],\n",
       "        [8, 0, 0, 3]])"
      ]
     },
     "execution_count": 133,
     "metadata": {},
     "output_type": "execute_result"
    }
   ],
   "source": [
    "indx = torch.argmax((c!=0).float(), dim=-1)\n",
    "indx"
   ]
  },
  {
   "cell_type": "code",
   "execution_count": null,
   "metadata": {},
   "outputs": [
    {
     "data": {
      "text/plain": [
       "tensor([[ 0.2320,  0.6376,  1.4360,  1.2197],\n",
       "        [-0.3521,  0.6727,  1.9076, -0.7543]])"
      ]
     },
     "execution_count": 135,
     "metadata": {},
     "output_type": "execute_result"
    }
   ],
   "source": [
    "torch.gather(p, -1, indx.unsqueeze(-1)).squeeze(-1)"
   ]
  },
  {
   "cell_type": "code",
   "execution_count": null,
   "metadata": {},
   "outputs": [
    {
     "ename": "RuntimeError",
     "evalue": "expected padding to be a single integer value or a list of 1 values to match the convolution dimensions, but got padding=[0, 1]",
     "output_type": "error",
     "traceback": [
      "\u001b[0;31m---------------------------------------------------------------------------\u001b[0m",
      "\u001b[0;31mRuntimeError\u001b[0m                              Traceback (most recent call last)",
      "Cell \u001b[0;32mIn[66], line 3\u001b[0m\n\u001b[1;32m      1\u001b[0m kernel \u001b[38;5;241m=\u001b[39m torch\u001b[38;5;241m.\u001b[39mtensor([\u001b[38;5;241m-\u001b[39m\u001b[38;5;241m1\u001b[39m, \u001b[38;5;241m1\u001b[39m], dtype\u001b[38;5;241m=\u001b[39mtorch\u001b[38;5;241m.\u001b[39mfloat32)\n\u001b[1;32m      2\u001b[0m kernel \u001b[38;5;241m=\u001b[39m kernel\u001b[38;5;241m.\u001b[39munsqueeze(\u001b[38;5;241m0\u001b[39m)\u001b[38;5;241m.\u001b[39munsqueeze(\u001b[38;5;241m0\u001b[39m)\u001b[38;5;241m.\u001b[39mexpand(\u001b[38;5;241m4\u001b[39m,\u001b[38;5;241m1\u001b[39m,\u001b[38;5;241m2\u001b[39m)\n\u001b[0;32m----> 3\u001b[0m \u001b[43mtorch\u001b[49m\u001b[38;5;241;43m.\u001b[39;49m\u001b[43mconv1d\u001b[49m\u001b[43m(\u001b[49m\u001b[43mc\u001b[49m\u001b[43m,\u001b[49m\u001b[43m \u001b[49m\u001b[43mkernel\u001b[49m\u001b[43m,\u001b[49m\u001b[43m \u001b[49m\u001b[43mgroups\u001b[49m\u001b[38;5;241;43m=\u001b[39;49m\u001b[38;5;241;43m4\u001b[39;49m\u001b[43m,\u001b[49m\u001b[43m \u001b[49m\u001b[43mpadding\u001b[49m\u001b[38;5;241;43m=\u001b[39;49m\u001b[43m(\u001b[49m\u001b[38;5;241;43m0\u001b[39;49m\u001b[43m,\u001b[49m\u001b[38;5;241;43m1\u001b[39;49m\u001b[43m)\u001b[49m\u001b[43m)\u001b[49m\n",
      "\u001b[0;31mRuntimeError\u001b[0m: expected padding to be a single integer value or a list of 1 values to match the convolution dimensions, but got padding=[0, 1]"
     ]
    }
   ],
   "source": [
    "kernel = torch.tensor([-1, 1], dtype=torch.float32)\n",
    "kernel = kernel.unsqueeze(0).unsqueeze(0).expand(4,1,2)\n",
    "torch.conv1d(c, kernel, groups=4, padding=(0,1))"
   ]
  },
  {
   "cell_type": "code",
   "execution_count": null,
   "metadata": {},
   "outputs": [
    {
     "name": "stdout",
     "output_type": "stream",
     "text": [
      "tensor([-1.,  1.])\n",
      "torch.Size([2])\n",
      "\n",
      "tensor([[[-1.,  1.]],\n",
      "\n",
      "        [[-1.,  1.]],\n",
      "\n",
      "        [[-1.,  1.]],\n",
      "\n",
      "        [[-1.,  1.]]])\n",
      "torch.Size([4, 1, 2])\n",
      "\n"
     ]
    }
   ],
   "source": [
    "print(kernel)\n",
    "print(kernel.shape)\n",
    "print()\n",
    "\n",
    "kernel2 = kernel.unsqueeze(0).unsqueeze(0).expand(4,1,2)\n",
    "print(kernel2)\n",
    "print(kernel2.shape)\n",
    "print()"
   ]
  },
  {
   "cell_type": "code",
   "execution_count": null,
   "metadata": {},
   "outputs": [
    {
     "name": "stdout",
     "output_type": "stream",
     "text": [
      "torch.Size([2, 4, 3])\n"
     ]
    },
    {
     "data": {
      "text/plain": [
       "torch.Size([2, 8, 3])"
      ]
     },
     "execution_count": 9,
     "metadata": {},
     "output_type": "execute_result"
    }
   ],
   "source": [
    "import torch\n",
    "a = torch.tensor([[[1,1,1,1],[2,2,2,2],[3,3,3,3]], [[4,4,4,4], [5,5,5,5], [6,6,6,6]]]).transpose(-1,-2)\n",
    "b = torch.tensor([[[1,2,3,4],[2,2,2,2],[3,3,3,3]], [[4,4,4,4], [5,5,5,5], [6,6,6,6]]]).transpose(-1,-2)\n",
    "print(a.shape)\n",
    "\n",
    "c = torch.cat((a,b), dim=1)\n",
    "c.shape\n",
    "\n",
    "\n"
   ]
  },
  {
   "cell_type": "code",
   "execution_count": null,
   "metadata": {},
   "outputs": [
    {
     "name": "stdout",
     "output_type": "stream",
     "text": [
      "torch.Size([2, 3])\n",
      "torch.Size([2, 3])\n",
      "torch.Size([2, 3])\n",
      "tensor([[0.9700, 0.4700, 0.3033],\n",
      "        [0.2200, 0.1700, 0.1367]])\n",
      "\n",
      "tensor([[0.9000, 0.8000, 0.7000],\n",
      "        [0.6000, 0.5000, 0.4000]])\n",
      "\n",
      "tensor([[0.9000, 0.4000, 0.2333],\n",
      "        [0.1500, 0.1000, 0.0667]])\n",
      "\n",
      "tensor([[0.9700, 0.4700, 0.3033],\n",
      "        [0.2200, 0.1700, 0.1367]])\n"
     ]
    }
   ],
   "source": [
    "import torch\n",
    "f = torch.tensor([[1,2,3], [4, 5, 6]])\n",
    "d = torch.tensor([[0.1,0.2,0.3], [0.4, 0.5, 0.6]])\n",
    "print(f.shape)\n",
    "print(d.shape)\n",
    "\n",
    "swing_period = ((1-d) / f) + 0.07\n",
    "print(swing_period.shape)\n",
    "print(swing_period)\n",
    "print()\n",
    "print(1-d)\n",
    "print()\n",
    "print((1-d)/f)\n",
    "print()\n",
    "print((1-d)/f + 0.07)"
   ]
  },
  {
   "cell_type": "code",
   "execution_count": null,
   "metadata": {},
   "outputs": [
    {
     "data": {
      "text/plain": [
       "tensor([[1, 2, 1],\n",
       "        [4, 5, 1]])"
      ]
     },
     "execution_count": 3,
     "metadata": {},
     "output_type": "execute_result"
    }
   ],
   "source": [
    "f[:,-1] = 1\n",
    "f"
   ]
  },
  {
   "cell_type": "code",
   "execution_count": null,
   "metadata": {},
   "outputs": [
    {
     "name": "stdout",
     "output_type": "stream",
     "text": [
      "tensor([[ True, False, False],\n",
      "        [False, False, False]])\n"
     ]
    }
   ],
   "source": [
    "c = torch.empty(2, 3).bernoulli(0.5).bool()\n",
    "print(c)"
   ]
  },
  {
   "cell_type": "code",
   "execution_count": null,
   "metadata": {},
   "outputs": [
    {
     "data": {
      "text/plain": [
       "tensor([[1.0000, 0.2000, 0.3000],\n",
       "        [0.4000, 0.5000, 0.6000]])"
      ]
     },
     "execution_count": 5,
     "metadata": {},
     "output_type": "execute_result"
    }
   ],
   "source": [
    "(f * c) + (d * ~c)"
   ]
  },
  {
   "cell_type": "code",
   "execution_count": null,
   "metadata": {},
   "outputs": [
    {
     "name": "stdout",
     "output_type": "stream",
     "text": [
      "torch.Size([2, 4])\n"
     ]
    },
    {
     "data": {
      "text/plain": [
       "tensor([[[1.0000, 2.0000, 0.0500],\n",
       "         [1.5000, 2.0000, 0.0500],\n",
       "         [2.0000, 2.0000, 0.0500],\n",
       "         [2.5000, 2.0000, 0.0500]],\n",
       "\n",
       "        [[4.0000, 5.0000, 0.0500],\n",
       "         [4.0000, 5.0000, 0.0500],\n",
       "         [4.0000, 5.0000, 0.0500],\n",
       "         [4.0000, 5.0000, 0.0500]]])"
      ]
     },
     "execution_count": 30,
     "metadata": {},
     "output_type": "execute_result"
    }
   ],
   "source": [
    "print(a.shape[:-1])\n",
    "x = (a[:,:,:2] + b[:,:,:2]) / 2\n",
    "torch.cat((x,0.05*torch.ones_like(a[:,:, :1])), dim=2)"
   ]
  },
  {
   "cell_type": "code",
   "execution_count": null,
   "metadata": {},
   "outputs": [
    {
     "name": "stdout",
     "output_type": "stream",
     "text": [
      "tensor([[0.1000, 0.2000, 0.3000],\n",
      "        [0.4000, 0.5000, 0.6000]])\n",
      "\n",
      "tensor([[1, 2, 3],\n",
      "        [4, 5, 6]])\n",
      "\n"
     ]
    },
    {
     "data": {
      "text/plain": [
       "tensor([[0.1000, 0.0400, 0.0270],\n",
       "        [0.0256, 0.0312, 0.0467]])"
      ]
     },
     "execution_count": 5,
     "metadata": {},
     "output_type": "execute_result"
    }
   ],
   "source": [
    "print(d)\n",
    "print()\n",
    "print(f)\n",
    "print()\n",
    "\n",
    "d**f"
   ]
  },
  {
   "cell_type": "code",
   "execution_count": null,
   "metadata": {},
   "outputs": [
    {
     "name": "stdout",
     "output_type": "stream",
     "text": [
      "torch.Size([2, 4, 3])\n",
      "\n",
      "tensor([[[1, 2, 3],\n",
      "         [1, 2, 3],\n",
      "         [1, 2, 3],\n",
      "         [1, 2, 3]],\n",
      "\n",
      "        [[4, 5, 6],\n",
      "         [4, 5, 6],\n",
      "         [4, 5, 6],\n",
      "         [4, 5, 6]]])\n",
      "tensor([[2, 2, 2, 2],\n",
      "        [5, 5, 5, 5]])\n",
      "torch.Size([2, 4])\n",
      "\n",
      "tensor([[2, 2, 2, 2],\n",
      "        [5, 5, 5, 5]])\n",
      "torch.Size([2, 4])\n",
      "\n"
     ]
    }
   ],
   "source": [
    "print(a.shape)\n",
    "print()\n",
    "print(a)\n",
    "\n",
    "print(a[..., 1])\n",
    "print(a[..., 1].shape)\n",
    "print()\n",
    "\n",
    "print(a[:,:, 1])\n",
    "print(a[:,:, 1].shape)\n",
    "print()"
   ]
  },
  {
   "cell_type": "code",
   "execution_count": null,
   "metadata": {},
   "outputs": [],
   "source": [
    "import jax\n",
    "jax.devices()\n",
    "\n",
    "import os\n",
    "print(os.environ.get(\"CUDA_HOME\"))  # Check CUDA_HOME\n",
    "print(os.environ.get(\"LD_LIBRARY_PATH\"))  # Check LD_LIBRARY_PATH (Linux/macOS)\n",
    "print(os.environ.get(\"PATH\"))  # Check PATH (Windows)\n",
    "\n",
    "print('-------------')\n",
    "import torch\n",
    "print(torch.backends.cudnn.version())"
   ]
  },
  {
   "cell_type": "code",
   "execution_count": null,
   "metadata": {},
   "outputs": [
    {
     "ename": "",
     "evalue": "",
     "output_type": "error",
     "traceback": [
      "\u001b[1;31mRunning cells with 'orbit (Python 3.10.14)' requires the ipykernel package.\n",
      "\u001b[1;31mRun the following command to install 'ipykernel' into the Python environment. \n",
      "\u001b[1;31mCommand: 'conda install -n orbit ipykernel --update-deps --force-reinstall'"
     ]
    }
   ],
   "source": [
    "import torch\n",
    "\n",
    "\"\"\" Given feet position sequence and contact sequence -> compute swing trajectories by fitting a cubic spline between\n",
    "the lift-off and the touch down define in the contact sequence. \n",
    "- Swing frequency and duty cycle are used to compute the swing period\n",
    "- A middle point is used for the interpolation : which is heuristically defined. It defines the step height\n",
    "- p1 (middle point) and p2 (touch-down) are updated each time, while p0 is conserved (always the same lift off position)\n",
    "\n",
    "Args:\n",
    "    - p   (torch.Tensor): Foot position sequence                of shape(batch_size, num_legs, 3, time_horizon)\n",
    "    - c   (torch.Tensor): Foot contact sequence                 of shape(c)\n",
    "    - f   (torch.Tensor): Leg frequency                         of shape(batch_size, num_legs)\n",
    "    - d   (torch.Tensor): Stepping duty cycle                   of shape(batch_size, num_legs)\n",
    "    - decimation   (int): Number of timestep for the traj.\n",
    "\n",
    "Returns:\n",
    "    - pt  (torch.Tensor): Desired Swing Leg trajectories        of shape(batch_size, num_legs, 9, decimation)   (9 = xyz_pos, xzy_vel, xyz_acc)\n",
    "\"\"\"\n",
    "\n",
    "batch_size = 3\n",
    "num_legs = 4\n",
    "time_horizon = 5\n",
    "dt_out = 0.1\n",
    "\n",
    "c = torch.randn(batch_size, num_legs, time_horizon)\n",
    "c_prev = c\n",
    "p0 = torch.randn(batch_size, num_legs, 3)\n",
    "swing_time = torch.randn(batch_size, num_legs)\n",
    "\n",
    "\n",
    "# Step 0. Define and Compute usefull variables\n",
    "\n",
    "# Heuristic TODO Save that on the right place, could also be a RL variable\n",
    "step_height = 0.05\n",
    "\n",
    "# Time during wich the leg is in swing. TODO Why +0.07 ? Is it an heuristic also ?\n",
    "# Shape (batch_size, num_legs)\n",
    "swing_period = ((1-d) / f) + 0.07\n",
    "\n",
    "half_swing_period = swing_period / 2\n",
    "time_fac = 1 / (swing_period / 2) #bezier_time_factor\n",
    "\n",
    "\n",
    "# Step 1. Retrieve the three interpolation points : p0, p1, p2 (lift-off, middle point, touch down)\n",
    "\n",
    "# Retrieve p0 : If c(0)=0 and c(-1)=1 : The leg lift-off -> p0 = p(0) # TODO p(0) or must it be from simulation data ? TODO Must it be p(0) or p(-1)\n",
    "# Update only the p0 that are new lift off positions\n",
    "# shape (batch_size, num_legs, 3) \n",
    "lifting_off = (c[:,:,0]==0) * (c_prev == 1)\n",
    "p0 = (p[:,:,:,0] * lifting_off) + (p0 * ~lifting_off)  \n",
    "\n",
    "# Retrieve p2 : Retrieve the index of the touch down in the contact sequence : First Non-zero Index\n",
    "# Set the last value of c as ONE to avoid the case of only 0 in the contact sequence, wich return the first element (make more sense to retrun the last)\n",
    "# With the touch_down index, retrieve the touch down foot position : p2\n",
    "# shape (batch_size, num_legs, 3) \n",
    "c[:,:,-1] = 1 # TODO Does it modify c also outside this function ?\n",
    "first_non_zero_indx = torch.argmax((c!=0).float(), dim=-1)\n",
    "p2 = torch.gather(p, -1, first_non_zero_indx.unsqueeze(-1)).squeeze(-1)\n",
    "\n",
    "# Retrieve p1 : (x,y) position are define as the middle point between p0 and p1 (lift-off and touch-down). z is heuristcally define\n",
    "# shape (batch_size, num_legs, 3)\n",
    "p1 = (p0[:,:,:2] + p2[:,:,:2]) / 2     # p1(x,y) is in the middle of p0 and p2\n",
    "p1 = torch.cat((p1, step_height*torch.ones_like(p1[:,:,:1])), dim=2) # Append a third dimension z : defined as step_height\n",
    "\n",
    "# Step 2. Compute the parameters for the interpolation\n",
    "\n",
    "# Swing time : reset if lifting off, then increment by one time step (outer loop)\n",
    "# then compute t in [0, Delta_t/2], which would be use for the spline interpolation\n",
    "# shape (batch_size, num_legs)\n",
    "swing_time = (swing_time * ~lifting_off) + dt_out\n",
    "t = swing_time % half_swing_period  # Swing time (half)\n",
    "\n",
    "# Compute the a,b,c,d polynimial coefficient for the cubic interpolation S(t) = a*t^3 + b*t^2 + c*t + d\n",
    "# If swing_time < swing period/2 -> S_0(t) (ie. first interpolation), otherwise -> S_1(t - delta_t/2) (ie. second interpolation)\n",
    "# cp_x shape (batch_size, num_legs, 3)\n",
    "is_S0 = (swing_time <=  half_swing_period).unsqueeze(-1).expand(*[-1] * len(swing_time.shape), 3)  # shape (batch_size, num_legs, 3)\n",
    "cp1 = (p0 * is_S0)                                         + (p1 * ~is_S0)\n",
    "cp2 = (p0 * is_S0)                                         + (torch.cat((p2[:,:,:2], p1[:,:,2:]), dim=2)* ~is_S0)\n",
    "cp3 = (torch.cat((p0[:,:,:2], p1[:,:,2:]), dim=2) * is_S0) + (p2 * ~is_S0)\n",
    "cp4 = (p1 * is_S0)                                              + (p2 * ~is_S0)\n",
    "\n",
    "# Step 3. Compute the interpolation trajectory\n",
    "desired_foot_pos_traj = cp1*(1 - time_fac*t)**3 + 3*cp2*(time_fac*t)*(1 - time_fac*t)**2 + 3*cp3*((time_fac*t)**2)*(1 - time_fac*t) + cp4*(time_fac*t)**3\n",
    "desired_foot_vel_traj = 3*(cp2 - cp1)*(1 - time_fac*t)**2 + 6*(cp3 - cp2)*(1 - time_fac*t)*(time_fac*t) + 3*(cp4 - cp3)*(time_fac*t)**2\n",
    "desired_foot_acc_traj = 6*(1 - time_fac*t) * (cp3 - 2*cp2 + cp1) + 6 * (time_fac*t) * (cp4 - 2*cp3 + cp2)\n",
    "pt = torch.cat((desired_foot_pos_traj, desired_foot_vel_traj, desired_foot_acc_traj), dim=2)"
   ]
  }
 ],
 "metadata": {
  "kernelspec": {
   "display_name": "orbit",
   "language": "python",
   "name": "python3"
  },
  "language_info": {
   "codemirror_mode": {
    "name": "ipython",
    "version": 3
   },
   "file_extension": ".py",
   "mimetype": "text/x-python",
   "name": "python",
   "nbconvert_exporter": "python",
   "pygments_lexer": "ipython3",
   "version": "3.10.14"
  }
 },
 "nbformat": 4,
 "nbformat_minor": 2
}
