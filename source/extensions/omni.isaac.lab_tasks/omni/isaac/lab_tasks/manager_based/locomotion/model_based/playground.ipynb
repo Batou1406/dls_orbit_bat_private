{
 "cells": [
  {
   "cell_type": "code",
   "execution_count": 1,
   "metadata": {},
   "outputs": [],
   "source": [
    "import torch"
   ]
  },
  {
   "cell_type": "code",
   "execution_count": 2,
   "metadata": {},
   "outputs": [],
   "source": [
    "class term():\n",
    "    joint_ids = ['FL_hip_joint', 'FR_hip_joint', 'RL_hip_joint', 'RR_hip_joint', 'FL_thigh_joint', 'FR_thigh_joint', 'RL_thigh_joint', 'RR_thigh_joint', 'FL_calf_joint', 'FR_calf_joint', 'RL_calf_joint', 'RR_calf_joint']#['RR_hip', 'RR_joint', 'RR_calf']\n",
    "    num_envs = 64\n",
    "    _num_legs = 4\n",
    "    _prevision_horizon = 10\n",
    "\n",
    "    def __init__(self):\n",
    "        self._num_joints = len(self.joint_ids)\n",
    "        self.f = torch.zeros(self.num_envs, self._num_legs)\n",
    "        self.d = torch.zeros(self.num_envs, self._num_legs)\n",
    "        self.p = torch.zeros(self.num_envs, self._num_legs, self._prevision_horizon)\n",
    "        self.F = torch.zeros(self.num_envs, self._num_legs, self._prevision_horizon)\n",
    "        self.z = [self.f, self.d, self.p, self.F]\n",
    "\n",
    "        # create tensors for raw and processed actions\n",
    "        self._raw_actions = torch.zeros(self.num_envs, self.action_dim2)\n",
    "        self._processed_actions = torch.zeros_like(self.raw_actions)\n",
    "\n",
    "    @property\n",
    "    def action_dim(self) -> int:\n",
    "        return self._num_joints\n",
    "    \n",
    "    @property\n",
    "    def action_dim2(self) -> int:\n",
    "        return self.f.shape[1:].numel() + self.d.shape[1:].numel() + self.p.shape[1:].numel() + self.F.shape[1:].numel()\n",
    "    \n",
    "    @property\n",
    "    def action_dim3(self) -> int:\n",
    "        return sum(variable.shape[1:].numel() for variable in self.z)\n",
    "    \n",
    "    @property\n",
    "    def raw_actions(self) -> torch.Tensor:\n",
    "        return self._raw_actions\n",
    "\n",
    "    @property\n",
    "    def processed_actions(self) -> torch.Tensor:\n",
    "        return self._processed_actions"
   ]
  },
  {
   "cell_type": "code",
   "execution_count": 3,
   "metadata": {},
   "outputs": [],
   "source": [
    "term1 = term()"
   ]
  },
  {
   "cell_type": "code",
   "execution_count": 4,
   "metadata": {},
   "outputs": [
    {
     "data": {
      "text/plain": [
       "88"
      ]
     },
     "execution_count": 4,
     "metadata": {},
     "output_type": "execute_result"
    }
   ],
   "source": [
    "term1.action_dim2"
   ]
  },
  {
   "cell_type": "code",
   "execution_count": 5,
   "metadata": {},
   "outputs": [
    {
     "data": {
      "text/plain": [
       "88"
      ]
     },
     "execution_count": 5,
     "metadata": {},
     "output_type": "execute_result"
    }
   ],
   "source": [
    "term1.action_dim3"
   ]
  },
  {
   "cell_type": "code",
   "execution_count": 6,
   "metadata": {},
   "outputs": [
    {
     "data": {
      "text/plain": [
       "torch.Size([64, 88])"
      ]
     },
     "execution_count": 6,
     "metadata": {},
     "output_type": "execute_result"
    }
   ],
   "source": [
    "term1.raw_actions.shape"
   ]
  },
  {
   "cell_type": "code",
   "execution_count": 7,
   "metadata": {},
   "outputs": [
    {
     "data": {
      "text/plain": [
       "tensor([[0., 0., 0., 0.],\n",
       "        [0., 0., 0., 0.],\n",
       "        [0., 0., 0., 0.],\n",
       "        [0., 0., 0., 0.],\n",
       "        [0., 0., 0., 0.],\n",
       "        [0., 0., 0., 0.],\n",
       "        [0., 0., 0., 0.],\n",
       "        [0., 0., 0., 0.],\n",
       "        [0., 0., 0., 0.],\n",
       "        [0., 0., 0., 0.],\n",
       "        [0., 0., 0., 0.],\n",
       "        [0., 0., 0., 0.],\n",
       "        [0., 0., 0., 0.],\n",
       "        [0., 0., 0., 0.],\n",
       "        [0., 0., 0., 0.],\n",
       "        [0., 0., 0., 0.],\n",
       "        [0., 0., 0., 0.],\n",
       "        [0., 0., 0., 0.],\n",
       "        [0., 0., 0., 0.],\n",
       "        [0., 0., 0., 0.],\n",
       "        [0., 0., 0., 0.],\n",
       "        [0., 0., 0., 0.],\n",
       "        [0., 0., 0., 0.],\n",
       "        [0., 0., 0., 0.],\n",
       "        [0., 0., 0., 0.],\n",
       "        [0., 0., 0., 0.],\n",
       "        [0., 0., 0., 0.],\n",
       "        [0., 0., 0., 0.],\n",
       "        [0., 0., 0., 0.],\n",
       "        [0., 0., 0., 0.],\n",
       "        [0., 0., 0., 0.],\n",
       "        [0., 0., 0., 0.],\n",
       "        [0., 0., 0., 0.],\n",
       "        [0., 0., 0., 0.],\n",
       "        [0., 0., 0., 0.],\n",
       "        [0., 0., 0., 0.],\n",
       "        [0., 0., 0., 0.],\n",
       "        [0., 0., 0., 0.],\n",
       "        [0., 0., 0., 0.],\n",
       "        [0., 0., 0., 0.],\n",
       "        [0., 0., 0., 0.],\n",
       "        [0., 0., 0., 0.],\n",
       "        [0., 0., 0., 0.],\n",
       "        [0., 0., 0., 0.],\n",
       "        [0., 0., 0., 0.],\n",
       "        [0., 0., 0., 0.],\n",
       "        [0., 0., 0., 0.],\n",
       "        [0., 0., 0., 0.],\n",
       "        [0., 0., 0., 0.],\n",
       "        [0., 0., 0., 0.],\n",
       "        [0., 0., 0., 0.],\n",
       "        [0., 0., 0., 0.],\n",
       "        [0., 0., 0., 0.],\n",
       "        [0., 0., 0., 0.],\n",
       "        [0., 0., 0., 0.],\n",
       "        [0., 0., 0., 0.],\n",
       "        [0., 0., 0., 0.],\n",
       "        [0., 0., 0., 0.],\n",
       "        [0., 0., 0., 0.],\n",
       "        [0., 0., 0., 0.],\n",
       "        [0., 0., 0., 0.],\n",
       "        [0., 0., 0., 0.],\n",
       "        [0., 0., 0., 0.],\n",
       "        [0., 0., 0., 0.]])"
      ]
     },
     "execution_count": 7,
     "metadata": {},
     "output_type": "execute_result"
    }
   ],
   "source": [
    "term1.z[1]"
   ]
  },
  {
   "cell_type": "code",
   "execution_count": 8,
   "metadata": {},
   "outputs": [
    {
     "data": {
      "text/plain": [
       "64"
      ]
     },
     "execution_count": 8,
     "metadata": {},
     "output_type": "execute_result"
    }
   ],
   "source": [
    "term1.num_envs"
   ]
  },
  {
   "cell_type": "code",
   "execution_count": 9,
   "metadata": {},
   "outputs": [
    {
     "name": "stdout",
     "output_type": "stream",
     "text": [
      "tensor : tensor([[[0., 0.],\n",
      "         [0., 0.],\n",
      "         [0., 0.],\n",
      "         ...,\n",
      "         [0., 0.],\n",
      "         [0., 0.],\n",
      "         [0., 0.]],\n",
      "\n",
      "        [[0., 0.],\n",
      "         [0., 0.],\n",
      "         [0., 0.],\n",
      "         ...,\n",
      "         [0., 0.],\n",
      "         [0., 0.],\n",
      "         [0., 0.]],\n",
      "\n",
      "        [[0., 0.],\n",
      "         [0., 0.],\n",
      "         [0., 0.],\n",
      "         ...,\n",
      "         [0., 0.],\n",
      "         [0., 0.],\n",
      "         [0., 0.]],\n",
      "\n",
      "        ...,\n",
      "\n",
      "        [[0., 0.],\n",
      "         [0., 0.],\n",
      "         [0., 0.],\n",
      "         ...,\n",
      "         [0., 0.],\n",
      "         [0., 0.],\n",
      "         [0., 0.]],\n",
      "\n",
      "        [[0., 0.],\n",
      "         [0., 0.],\n",
      "         [0., 0.],\n",
      "         ...,\n",
      "         [0., 0.],\n",
      "         [0., 0.],\n",
      "         [0., 0.]],\n",
      "\n",
      "        [[0., 0.],\n",
      "         [0., 0.],\n",
      "         [0., 0.],\n",
      "         ...,\n",
      "         [0., 0.],\n",
      "         [0., 0.],\n",
      "         [0., 0.]]])\n",
      "shape : 24\n",
      "torch.Size([1536])\n"
     ]
    }
   ],
   "source": [
    "a = torch.zeros(term1.num_envs, term1.action_dim,2)\n",
    "print('tensor :',a)\n",
    "print('shape :', a.shape[1:].numel())\n",
    "\n",
    "print(a.flatten().shape)"
   ]
  },
  {
   "cell_type": "code",
   "execution_count": 10,
   "metadata": {},
   "outputs": [
    {
     "ename": "ModuleNotFoundError",
     "evalue": "No module named 'omni.physics'",
     "output_type": "error",
     "traceback": [
      "\u001b[0;31m---------------------------------------------------------------------------\u001b[0m",
      "\u001b[0;31mModuleNotFoundError\u001b[0m                       Traceback (most recent call last)",
      "Cell \u001b[0;32mIn[10], line 3\u001b[0m\n\u001b[1;32m      1\u001b[0m \u001b[38;5;28;01mfrom\u001b[39;00m \u001b[38;5;21;01m__future__\u001b[39;00m \u001b[38;5;28;01mimport\u001b[39;00m annotations\n\u001b[0;32m----> 3\u001b[0m \u001b[38;5;28;01mfrom\u001b[39;00m \u001b[38;5;21;01momni\u001b[39;00m\u001b[38;5;21;01m.\u001b[39;00m\u001b[38;5;21;01misaac\u001b[39;00m\u001b[38;5;21;01m.\u001b[39;00m\u001b[38;5;21;01morbit\u001b[39;00m\u001b[38;5;21;01m.\u001b[39;00m\u001b[38;5;21;01massets\u001b[39;00m \u001b[38;5;28;01mimport\u001b[39;00m AssetBase\n\u001b[1;32m      4\u001b[0m \u001b[38;5;28;01mfrom\u001b[39;00m \u001b[38;5;21;01momni\u001b[39;00m\u001b[38;5;21;01m.\u001b[39;00m\u001b[38;5;21;01misaac\u001b[39;00m\u001b[38;5;21;01m.\u001b[39;00m\u001b[38;5;21;01morbit\u001b[39;00m\u001b[38;5;21;01m.\u001b[39;00m\u001b[38;5;21;01massets\u001b[39;00m\u001b[38;5;21;01m.\u001b[39;00m\u001b[38;5;21;01marticulation\u001b[39;00m \u001b[38;5;28;01mimport\u001b[39;00m Articulation\n\u001b[1;32m      5\u001b[0m \u001b[38;5;28;01mfrom\u001b[39;00m \u001b[38;5;21;01momni\u001b[39;00m\u001b[38;5;21;01m.\u001b[39;00m\u001b[38;5;21;01misaac\u001b[39;00m\u001b[38;5;21;01m.\u001b[39;00m\u001b[38;5;21;01morbit_tasks\u001b[39;00m\u001b[38;5;21;01m.\u001b[39;00m\u001b[38;5;21;01mlocomotion\u001b[39;00m\u001b[38;5;21;01m.\u001b[39;00m\u001b[38;5;21;01mmodel_based\u001b[39;00m\u001b[38;5;21;01m.\u001b[39;00m\u001b[38;5;21;01mmodel_based_env_cfg\u001b[39;00m \u001b[38;5;28;01mimport\u001b[39;00m LocomotionModelBasedEnvCfg\n",
      "File \u001b[0;32m~/Documents/dls_orbit_bat_private/source/extensions/omni.isaac.orbit/omni/isaac/orbit/assets/__init__.py:41\u001b[0m\n\u001b[1;32m      1\u001b[0m \u001b[38;5;66;03m# Copyright (c) 2022-2024, The ORBIT Project Developers.\u001b[39;00m\n\u001b[1;32m      2\u001b[0m \u001b[38;5;66;03m# All rights reserved.\u001b[39;00m\n\u001b[1;32m      3\u001b[0m \u001b[38;5;66;03m#\u001b[39;00m\n\u001b[1;32m      4\u001b[0m \u001b[38;5;66;03m# SPDX-License-Identifier: BSD-3-Clause\u001b[39;00m\n\u001b[1;32m      6\u001b[0m \u001b[38;5;124;03m\"\"\"Sub-package for different assets, such as rigid objects and articulations.\u001b[39;00m\n\u001b[1;32m      7\u001b[0m \n\u001b[1;32m      8\u001b[0m \u001b[38;5;124;03mAn asset is a physical object that can be spawned in the simulation. The class handles both\u001b[39;00m\n\u001b[0;32m   (...)\u001b[0m\n\u001b[1;32m     38\u001b[0m \u001b[38;5;124;03mthe corresponding actuator torques.\u001b[39;00m\n\u001b[1;32m     39\u001b[0m \u001b[38;5;124;03m\"\"\"\u001b[39;00m\n\u001b[0;32m---> 41\u001b[0m \u001b[38;5;28;01mfrom\u001b[39;00m \u001b[38;5;21;01m.\u001b[39;00m\u001b[38;5;21;01marticulation\u001b[39;00m \u001b[38;5;28;01mimport\u001b[39;00m Articulation, ArticulationCfg, ArticulationData\n\u001b[1;32m     42\u001b[0m \u001b[38;5;28;01mfrom\u001b[39;00m \u001b[38;5;21;01m.\u001b[39;00m\u001b[38;5;21;01masset_base\u001b[39;00m \u001b[38;5;28;01mimport\u001b[39;00m AssetBase\n\u001b[1;32m     43\u001b[0m \u001b[38;5;28;01mfrom\u001b[39;00m \u001b[38;5;21;01m.\u001b[39;00m\u001b[38;5;21;01masset_base_cfg\u001b[39;00m \u001b[38;5;28;01mimport\u001b[39;00m AssetBaseCfg\n",
      "File \u001b[0;32m~/Documents/dls_orbit_bat_private/source/extensions/omni.isaac.orbit/omni/isaac/orbit/assets/articulation/__init__.py:8\u001b[0m\n\u001b[1;32m      1\u001b[0m \u001b[38;5;66;03m# Copyright (c) 2022-2024, The ORBIT Project Developers.\u001b[39;00m\n\u001b[1;32m      2\u001b[0m \u001b[38;5;66;03m# All rights reserved.\u001b[39;00m\n\u001b[1;32m      3\u001b[0m \u001b[38;5;66;03m#\u001b[39;00m\n\u001b[1;32m      4\u001b[0m \u001b[38;5;66;03m# SPDX-License-Identifier: BSD-3-Clause\u001b[39;00m\n\u001b[1;32m      6\u001b[0m \u001b[38;5;124;03m\"\"\"Sub-module for rigid articulated assets.\"\"\"\u001b[39;00m\n\u001b[0;32m----> 8\u001b[0m \u001b[38;5;28;01mfrom\u001b[39;00m \u001b[38;5;21;01m.\u001b[39;00m\u001b[38;5;21;01marticulation\u001b[39;00m \u001b[38;5;28;01mimport\u001b[39;00m Articulation\n\u001b[1;32m      9\u001b[0m \u001b[38;5;28;01mfrom\u001b[39;00m \u001b[38;5;21;01m.\u001b[39;00m\u001b[38;5;21;01marticulation_cfg\u001b[39;00m \u001b[38;5;28;01mimport\u001b[39;00m ArticulationCfg\n\u001b[1;32m     10\u001b[0m \u001b[38;5;28;01mfrom\u001b[39;00m \u001b[38;5;21;01m.\u001b[39;00m\u001b[38;5;21;01marticulation_data\u001b[39;00m \u001b[38;5;28;01mimport\u001b[39;00m ArticulationData\n",
      "File \u001b[0;32m~/Documents/dls_orbit_bat_private/source/extensions/omni.isaac.orbit/omni/isaac/orbit/assets/articulation/articulation.py:18\u001b[0m\n\u001b[1;32m     15\u001b[0m \u001b[38;5;28;01mfrom\u001b[39;00m \u001b[38;5;21;01mtyping\u001b[39;00m \u001b[38;5;28;01mimport\u001b[39;00m TYPE_CHECKING\n\u001b[1;32m     17\u001b[0m \u001b[38;5;28;01mimport\u001b[39;00m \u001b[38;5;21;01mcarb\u001b[39;00m\n\u001b[0;32m---> 18\u001b[0m \u001b[38;5;28;01mimport\u001b[39;00m \u001b[38;5;21;01momni\u001b[39;00m\u001b[38;5;21;01m.\u001b[39;00m\u001b[38;5;21;01mphysics\u001b[39;00m\u001b[38;5;21;01m.\u001b[39;00m\u001b[38;5;21;01mtensors\u001b[39;00m\u001b[38;5;21;01m.\u001b[39;00m\u001b[38;5;21;01mimpl\u001b[39;00m\u001b[38;5;21;01m.\u001b[39;00m\u001b[38;5;21;01mapi\u001b[39;00m \u001b[38;5;28;01mas\u001b[39;00m \u001b[38;5;21;01mphysx\u001b[39;00m\n\u001b[1;32m     19\u001b[0m \u001b[38;5;28;01mfrom\u001b[39;00m \u001b[38;5;21;01momni\u001b[39;00m\u001b[38;5;21;01m.\u001b[39;00m\u001b[38;5;21;01misaac\u001b[39;00m\u001b[38;5;21;01m.\u001b[39;00m\u001b[38;5;21;01mcore\u001b[39;00m\u001b[38;5;21;01m.\u001b[39;00m\u001b[38;5;21;01mutils\u001b[39;00m\u001b[38;5;21;01m.\u001b[39;00m\u001b[38;5;21;01mtypes\u001b[39;00m \u001b[38;5;28;01mimport\u001b[39;00m ArticulationActions\n\u001b[1;32m     20\u001b[0m \u001b[38;5;28;01mfrom\u001b[39;00m \u001b[38;5;21;01mpxr\u001b[39;00m \u001b[38;5;28;01mimport\u001b[39;00m UsdPhysics\n",
      "\u001b[0;31mModuleNotFoundError\u001b[0m: No module named 'omni.physics'"
     ]
    }
   ],
   "source": [
    "from __future__ import annotations\n",
    "\n",
    "from omni.isaac.orbit.assets import AssetBase\n",
    "from omni.isaac.orbit.assets.articulation import Articulation\n",
    "from omni.isaac.orbit_tasks.locomotion.model_based.model_based_env_cfg import LocomotionModelBasedEnvCfg\n",
    "from omni.isaac.orbit_tasks.locomotion.model_based.config.unitree_aliengo.aliengo_base_env_cfg import UnitreeAliengoBaseEnvCfg"
   ]
  },
  {
   "cell_type": "code",
   "execution_count": null,
   "metadata": {},
   "outputs": [],
   "source": [
    "import jax.numpy as jnp\n",
    "import jax\n",
    "seed = 42\n",
    "key = jax.random.key(seed)"
   ]
  },
  {
   "cell_type": "code",
   "execution_count": null,
   "metadata": {},
   "outputs": [
    {
     "name": "stdout",
     "output_type": "stream",
     "text": [
      "available devices: 1\n",
      "current device: 0\n"
     ]
    },
    {
     "data": {
      "text/plain": [
       "'NVIDIA GeForce RTX 3060'"
      ]
     },
     "execution_count": 35,
     "metadata": {},
     "output_type": "execute_result"
    }
   ],
   "source": [
    "print(f'available devices: {torch.cuda.device_count()}')\n",
    "print(f'current device: { torch.cuda.current_device()}')\n",
    "torch.cuda.get_device_name(0)"
   ]
  },
  {
   "cell_type": "code",
   "execution_count": null,
   "metadata": {},
   "outputs": [
    {
     "name": "stdout",
     "output_type": "stream",
     "text": [
      "shape :  torch.Size([64, 12])\n",
      "device :  cuda:0\n"
     ]
    }
   ],
   "source": [
    "output_torques = (torch.rand(term1.num_envs, term1._num_joints, device='cuda') * 80) - 40\n",
    "print('shape : ',output_torques.shape)\n",
    "print('device : ',output_torques.device)"
   ]
  },
  {
   "cell_type": "code",
   "execution_count": null,
   "metadata": {},
   "outputs": [],
   "source": [
    "output_torques_jax = jax.random.normal(key=key, shape=output_torques.shape)"
   ]
  },
  {
   "cell_type": "code",
   "execution_count": null,
   "metadata": {},
   "outputs": [
    {
     "name": "stdout",
     "output_type": "stream",
     "text": [
      "--- Torch ---\n",
      "Shape :  torch.Size([64, 12])\n",
      "Type :  torch.FloatTensor\n",
      "Type :  <class 'torch.Tensor'>\n",
      "\n",
      "--- Jax ---\n",
      "Shape :  (64, 12)\n",
      "Type :  <class 'jaxlib.xla_extension.ArrayImpl'>\n"
     ]
    }
   ],
   "source": [
    "print('--- Torch ---')\n",
    "print('Shape : ', output_torques.shape)\n",
    "print('Type : ', output_torques.type())\n",
    "print('Type : ', type(output_torques))\n",
    "\n",
    "print('')\n",
    "print('--- Jax ---')\n",
    "print('Shape : ', output_torques_jax.shape)\n",
    "print('Type : ', type(output_torques_jax))"
   ]
  },
  {
   "cell_type": "code",
   "execution_count": null,
   "metadata": {},
   "outputs": [
    {
     "data": {
      "text/plain": [
       "Array(1.0063325, dtype=float32)"
      ]
     },
     "execution_count": 15,
     "metadata": {},
     "output_type": "execute_result"
    }
   ],
   "source": [
    "output_torques_jax.std()"
   ]
  },
  {
   "cell_type": "code",
   "execution_count": null,
   "metadata": {},
   "outputs": [
    {
     "name": "stdout",
     "output_type": "stream",
     "text": [
      "[1 2 3]\n"
     ]
    }
   ],
   "source": [
    "import jax\n",
    "import jax.dlpack\n",
    "import torch\n",
    "import torch.utils.dlpack\n",
    "\n",
    "def jax_to_torch(x):\n",
    "    return torch.utils.dlpack.from_dlpack(jax.dlpack.to_dlpack(x))\n",
    "def torch_to_jax(x):\n",
    "    return jax.dlpack.from_dlpack(torch.utils.dlpack.to_dlpack(x))\n",
    "\n",
    "a = torch.tensor([1,2,3]).cuda()\n",
    "a_jax = torch_to_jax(a)\n",
    "print(a_jax)"
   ]
  },
  {
   "cell_type": "code",
   "execution_count": null,
   "metadata": {},
   "outputs": [
    {
     "data": {
      "text/plain": [
       "device(type='cuda', index=0)"
      ]
     },
     "execution_count": 18,
     "metadata": {},
     "output_type": "execute_result"
    }
   ],
   "source": [
    "a.device"
   ]
  },
  {
   "cell_type": "code",
   "execution_count": null,
   "metadata": {},
   "outputs": [
    {
     "data": {
      "text/plain": [
       "{cuda(id=0)}"
      ]
     },
     "execution_count": 28,
     "metadata": {},
     "output_type": "execute_result"
    }
   ],
   "source": [
    "a_jax.devices()"
   ]
  },
  {
   "cell_type": "code",
   "execution_count": null,
   "metadata": {},
   "outputs": [
    {
     "name": "stdout",
     "output_type": "stream",
     "text": [
      "shape :  torch.Size([64, 12])\n",
      "device :  cuda:0\n",
      "Type :  <class 'torch.Tensor'>\n"
     ]
    }
   ],
   "source": [
    "output_torques = (torch.rand(term1.num_envs, term1._num_joints, device='cuda') * 80) - 40\n",
    "print('shape : ',output_torques.shape)\n",
    "print('device : ',output_torques.device)\n",
    "print('Type : ', type(output_torques))"
   ]
  },
  {
   "cell_type": "code",
   "execution_count": null,
   "metadata": {},
   "outputs": [
    {
     "name": "stdout",
     "output_type": "stream",
     "text": [
      "Shape :  (64, 12)\n",
      "device :  {cuda(id=0)}\n",
      "Type :  <class 'jaxlib.xla_extension.ArrayImpl'>\n"
     ]
    }
   ],
   "source": [
    "output_torques_jax = torch_to_jax(output_torques)\n",
    "print('Shape : ', output_torques_jax.shape)\n",
    "print('device : ',output_torques_jax.devices())\n",
    "print('Type : ', type(output_torques_jax))"
   ]
  },
  {
   "cell_type": "code",
   "execution_count": null,
   "metadata": {},
   "outputs": [],
   "source": [
    "def alo() -> tuple[int, int, str]:\n",
    "    a = 2\n",
    "    b = 3\n",
    "    c = 4\n",
    "    return a, b, str(c)\n",
    "\n",
    "def alo2():\n",
    "    a = 2\n",
    "    b = 3\n",
    "    c = 4\n",
    "    return a, b, str(c)"
   ]
  },
  {
   "cell_type": "code",
   "execution_count": null,
   "metadata": {},
   "outputs": [
    {
     "data": {
      "text/plain": [
       "(2, 3, '4')"
      ]
     },
     "execution_count": 24,
     "metadata": {},
     "output_type": "execute_result"
    }
   ],
   "source": [
    "alo()"
   ]
  },
  {
   "cell_type": "code",
   "execution_count": null,
   "metadata": {},
   "outputs": [
    {
     "data": {
      "text/plain": [
       "(2, 3, '4')"
      ]
     },
     "execution_count": 26,
     "metadata": {},
     "output_type": "execute_result"
    }
   ],
   "source": [
    "alo2()"
   ]
  },
  {
   "cell_type": "code",
   "execution_count": null,
   "metadata": {},
   "outputs": [
    {
     "name": "stdout",
     "output_type": "stream",
     "text": [
      "<class 'tuple'>\n",
      "<class 'tuple'>\n"
     ]
    }
   ],
   "source": [
    "print(type(alo()))\n",
    "print(type(alo2()))"
   ]
  },
  {
   "cell_type": "code",
   "execution_count": null,
   "metadata": {},
   "outputs": [
    {
     "data": {
      "text/plain": [
       "tuple"
      ]
     },
     "execution_count": 10,
     "metadata": {},
     "output_type": "execute_result"
    }
   ],
   "source": [
    "a = tuple[2,3,4]\n",
    "alo()\n",
    "\n",
    "d, f, e = alo()\n",
    "type(alo())"
   ]
  },
  {
   "cell_type": "code",
   "execution_count": null,
   "metadata": {},
   "outputs": [
    {
     "name": "stdout",
     "output_type": "stream",
     "text": [
      "torch.float32\n",
      "torch.bool\n",
      "tensor([[0.5317, 0.4781, 0.3271],\n",
      "        [0.3938, 0.3433, 0.9002]])\n",
      "tensor([[ True, False,  True],\n",
      "        [False,  True, False]])\n"
     ]
    },
    {
     "data": {
      "text/plain": [
       "tensor([[0.5317, 0.0000, 0.3271],\n",
       "        [0.0000, 0.3433, 0.0000]])"
      ]
     },
     "execution_count": 31,
     "metadata": {},
     "output_type": "execute_result"
    }
   ],
   "source": [
    "import torch\n",
    "\n",
    "a = torch.tensor([0, 1.21, 2])\n",
    "b = torch.tensor([True, True, False])\n",
    "\n",
    "shape = [2,3]\n",
    "a = torch.rand(shape)\n",
    "b = torch.empty(shape, dtype=torch.bool).bernoulli(0.5)\n",
    "\n",
    "\n",
    "print(a.dtype)\n",
    "print(b.dtype)\n",
    "print(a)\n",
    "print(b)\n",
    "\n",
    "a*b"
   ]
  },
  {
   "cell_type": "code",
   "execution_count": null,
   "metadata": {},
   "outputs": [
    {
     "ename": "RuntimeError",
     "evalue": "shape '[5, 4, 3]' is invalid for input of size 20",
     "output_type": "error",
     "traceback": [
      "\u001b[0;31m---------------------------------------------------------------------------\u001b[0m",
      "\u001b[0;31mRuntimeError\u001b[0m                              Traceback (most recent call last)",
      "Cell \u001b[0;32mIn[43], line 10\u001b[0m\n\u001b[1;32m      7\u001b[0m number_of_joint_per_leg \u001b[38;5;241m=\u001b[39m \u001b[38;5;241m3\u001b[39m\n\u001b[1;32m      9\u001b[0m \u001b[38;5;66;03m# Modify the tensor to shape (batch_size, num_legs, number_of_joint_per_leg)\u001b[39;00m\n\u001b[0;32m---> 10\u001b[0m modified_tensor \u001b[38;5;241m=\u001b[39m \u001b[43mtorch\u001b[49m\u001b[38;5;241;43m.\u001b[39;49m\u001b[43mreshape\u001b[49m\u001b[43m(\u001b[49m\u001b[43mtensor\u001b[49m\u001b[43m,\u001b[49m\u001b[43m \u001b[49m\u001b[43m(\u001b[49m\u001b[43mtensor\u001b[49m\u001b[38;5;241;43m.\u001b[39;49m\u001b[43mshape\u001b[49m\u001b[43m[\u001b[49m\u001b[38;5;241;43m0\u001b[39;49m\u001b[43m]\u001b[49m\u001b[43m,\u001b[49m\u001b[43m \u001b[49m\u001b[43mtensor\u001b[49m\u001b[38;5;241;43m.\u001b[39;49m\u001b[43mshape\u001b[49m\u001b[43m[\u001b[49m\u001b[38;5;241;43m1\u001b[39;49m\u001b[43m]\u001b[49m\u001b[43m,\u001b[49m\u001b[43m \u001b[49m\u001b[43mnumber_of_joint_per_leg\u001b[49m\u001b[43m)\u001b[49m\u001b[43m)\u001b[49m\n\u001b[1;32m     12\u001b[0m \u001b[38;5;66;03m# Check the shape of the modified tensor\u001b[39;00m\n\u001b[1;32m     13\u001b[0m \u001b[38;5;28mprint\u001b[39m(\u001b[38;5;124m\"\u001b[39m\u001b[38;5;124mModified tensor shape:\u001b[39m\u001b[38;5;124m\"\u001b[39m, modified_tensor\u001b[38;5;241m.\u001b[39mshape)\n",
      "\u001b[0;31mRuntimeError\u001b[0m: shape '[5, 4, 3]' is invalid for input of size 20"
     ]
    }
   ],
   "source": [
    "import torch\n",
    "\n",
    "# Assuming you have a tensor of shape (batch_size, num_legs)\n",
    "tensor = torch.randn(5, 4)  # Example tensor with shape (5, 4)\n",
    "\n",
    "# Define the number of joints per leg\n",
    "number_of_joint_per_leg = 3\n",
    "\n",
    "# Modify the tensor to shape (batch_size, num_legs, number_of_joint_per_leg)\n",
    "modified_tensor = torch.reshape(tensor, (tensor.shape[0], tensor.shape[1], number_of_joint_per_leg))\n",
    "\n",
    "# Check the shape of the modified tensor\n",
    "print(\"Modified tensor shape:\", modified_tensor.shape)"
   ]
  },
  {
   "cell_type": "code",
   "execution_count": null,
   "metadata": {},
   "outputs": [
    {
     "name": "stdout",
     "output_type": "stream",
     "text": [
      "Time taken: 0.00016944000124931335 seconds\n"
     ]
    }
   ],
   "source": [
    "import torch\n",
    "import time\n",
    "\n",
    "# Create some tensors for demonstration\n",
    "T_shape = [4096,4,3]\n",
    "c_shape = [4096,4]\n",
    "T_1 = torch.rand(T_shape).cuda()\n",
    "T_2 = torch.rand(T_shape).cuda()\n",
    "c = torch.empty(c_shape, dtype=torch.bool).bernoulli(0.5).cuda()\n",
    "\n",
    "\n",
    "# Create CUDA events\n",
    "start_event = torch.cuda.Event(enable_timing=True)\n",
    "end_event = torch.cuda.Event(enable_timing=True)\n",
    "\n",
    "# Record start event\n",
    "start_event.record()\n",
    "\n",
    "# Example operation (e.g., matrix multiplication)\n",
    "\n",
    "result = (T_1 * c.unsqueeze(-1)) + (T_2 * (~c).unsqueeze(-1))\n",
    "\n",
    "# Record end event\n",
    "end_event.record()\n",
    "\n",
    "# Wait for computations to finish\n",
    "torch.cuda.synchronize()\n",
    "\n",
    "# Calculate elapsed time\n",
    "elapsed_time = start_event.elapsed_time(end_event) / 1000  # Convert to seconds\n",
    "print(\"Time taken:\", elapsed_time, \"seconds\")"
   ]
  },
  {
   "cell_type": "code",
   "execution_count": null,
   "metadata": {},
   "outputs": [
    {
     "name": "stdout",
     "output_type": "stream",
     "text": [
      "(3, 4, 5)\n"
     ]
    }
   ],
   "source": [
    "import jax\n",
    "def custom_operation(T_1, T_2, c_star):\n",
    "    # Element-wise multiplication with c_star and its complement\n",
    "    term1 = T_1 * c_star[..., None]\n",
    "    term2 = T_2 * (~c_star)[..., None]\n",
    "    \n",
    "    # Sum the terms along the joint dimension\n",
    "    T = term1 + term2\n",
    "    \n",
    "    return T\n",
    "\n",
    "# Example usage\n",
    "batch_size = 3\n",
    "num_legs = 4\n",
    "num_of_joints_per_leg = 5\n",
    "\n",
    "# Random tensors for T_1, T_2, and c_star\n",
    "T_1 = jax.random.normal(jax.random.PRNGKey(0), (batch_size, num_legs, num_of_joints_per_leg))\n",
    "T_2 = jax.random.normal(jax.random.PRNGKey(1), (batch_size, num_legs, num_of_joints_per_leg))\n",
    "c_star = jax.random.randint(jax.random.PRNGKey(2), (batch_size, num_legs), 0, 2)\n",
    "\n",
    "# Perform custom operation\n",
    "T = custom_operation(T_1, T_2, c_star)\n",
    "\n",
    "print(T.shape)  # Output shape should be (batch_size, num_legs, num_of_joints_per_leg)"
   ]
  },
  {
   "cell_type": "code",
   "execution_count": null,
   "metadata": {},
   "outputs": [
    {
     "name": "stdout",
     "output_type": "stream",
     "text": [
      "(3, 4, 5)\n"
     ]
    }
   ],
   "source": [
    "import jax\n",
    "import jax.numpy as jnp\n",
    "from jax import jit\n",
    "\n",
    "@jit\n",
    "def custom_operation(T_1, T_2, c_star):\n",
    "    # Element-wise multiplication with c_star and its complement\n",
    "    term1 = T_1 * c_star[..., None]\n",
    "    term2 = T_2 * (~c_star)[..., None]\n",
    "    \n",
    "    # Sum the terms along the joint dimension\n",
    "    T = term1 + term2\n",
    "    \n",
    "    return T\n",
    "\n",
    "# Example usage\n",
    "batch_size = 3\n",
    "num_legs = 4\n",
    "num_of_joints_per_leg = 5\n",
    "\n",
    "# Random tensors for T_1, T_2, and c_star\n",
    "T_1 = jax.random.normal(jax.random.PRNGKey(0), (batch_size, num_legs, num_of_joints_per_leg))\n",
    "T_2 = jax.random.normal(jax.random.PRNGKey(1), (batch_size, num_legs, num_of_joints_per_leg))\n",
    "c_star = jax.random.randint(jax.random.PRNGKey(2), (batch_size, num_legs), 0, 2)\n",
    "\n",
    "# Move tensors to GPU\n",
    "T_1 = jax.device_put(T_1, jax.devices('gpu')[0])\n",
    "T_2 = jax.device_put(T_2, jax.devices('gpu')[0])\n",
    "c_star = jax.device_put(c_star, jax.devices('gpu')[0])\n",
    "\n",
    "# Perform custom operation\n",
    "T = custom_operation(T_1, T_2, c_star)\n",
    "\n",
    "print(T.shape)  # Output shape should be (batch_size, num_legs, num_of_joints_per_leg)"
   ]
  },
  {
   "cell_type": "code",
   "execution_count": null,
   "metadata": {},
   "outputs": [
    {
     "name": "stdout",
     "output_type": "stream",
     "text": [
      "Time taken: 0.00010966400057077407 seconds\n"
     ]
    }
   ],
   "source": [
    "# Create some tensors for demonstration\n",
    "batch_size = 4096\n",
    "num_legs = 4\n",
    "num_of_joints_per_leg = 3\n",
    "T_1 = jax.random.normal(jax.random.PRNGKey(0), (batch_size, num_legs, num_of_joints_per_leg))\n",
    "T_2 = jax.random.normal(jax.random.PRNGKey(1), (batch_size, num_legs, num_of_joints_per_leg))\n",
    "c_star = jax.random.randint(jax.random.PRNGKey(2), (batch_size, num_legs), 0, 2)\n",
    "\n",
    "# Create CUDA events\n",
    "start_event = torch.cuda.Event(enable_timing=True)\n",
    "end_event = torch.cuda.Event(enable_timing=True)\n",
    "\n",
    "# Record start event\n",
    "start_event.record()\n",
    "\n",
    "# Example operation (e.g., matrix multiplication)\n",
    "T = custom_operation(T_1, T_2, c_star)\n",
    "\n",
    "# result = (T_1 * c.unsqueeze(-1)) + (T_2 * (~c).unsqueeze(-1))\n",
    "\n",
    "# Record end event\n",
    "end_event.record()\n",
    "\n",
    "# Wait for computations to finish\n",
    "torch.cuda.synchronize()\n",
    "\n",
    "# Calculate elapsed time\n",
    "elapsed_time = start_event.elapsed_time(end_event) / 1000  # Convert to seconds\n",
    "print(\"Time taken:\", elapsed_time, \"seconds\")"
   ]
  },
  {
   "cell_type": "code",
   "execution_count": null,
   "metadata": {},
   "outputs": [
    {
     "data": {
      "text/plain": [
       "[0, 1, 2, 3, 4, 5, 6, 7, 8, 9, 10]"
      ]
     },
     "execution_count": 5,
     "metadata": {},
     "output_type": "execute_result"
    }
   ],
   "source": [
    "a = [0,1,2,3,4,5,6,7,8,9,10]\n",
    "num_legs = 4\n",
    "a"
   ]
  },
  {
   "cell_type": "code",
   "execution_count": null,
   "metadata": {},
   "outputs": [
    {
     "name": "stdout",
     "output_type": "stream",
     "text": [
      "[0, 1, 2, 3]\n",
      "[4, 5, 6, 7]\n",
      "[8, 9, 10]\n"
     ]
    }
   ],
   "source": [
    "print(a[:num_legs])\n",
    "print(a[num_legs:2*num_legs])\n",
    "print(a[2*num_legs:])"
   ]
  },
  {
   "cell_type": "markdown",
   "metadata": {},
   "source": [
    "## Gait Generator\n",
    "from : f, d, phase, time_horizon  \n",
    "return : c, new_phase"
   ]
  },
  {
   "cell_type": "code",
   "execution_count": null,
   "metadata": {},
   "outputs": [],
   "source": [
    "import torch"
   ]
  },
  {
   "cell_type": "markdown",
   "metadata": {},
   "source": [
    "        Args:\n",
    "            - f   (torch.Tensor): Leg frequency                         of shape(batch_size, num_legs, parallel_rollout)\n",
    "            - d   (torch.Tensor): Stepping duty cycle                   of shape(batch_size, num_legs, parallel_rollout)\n",
    "            - phase (tch.Tensor): phase of leg                          of shape(batch_size, num_legs, parallel_rollout)\n",
    "            - time_horizon (int): Time horizon for the contact sequence\n",
    "\n",
    "        Returns:\n",
    "            - c     (torch.bool): Foot contact sequence                 of shape(batch_size, num_legs, time_horizon, parallel_rollout)\n",
    "            - phase (tch.Tensor): The phase updated by one time steps   of shape(batch_size, num_legs, parallel_rollout)"
   ]
  },
  {
   "cell_type": "code",
   "execution_count": null,
   "metadata": {},
   "outputs": [
    {
     "name": "stdout",
     "output_type": "stream",
     "text": [
      "---- Leg Frequency : f ----\n",
      "f shape: torch.Size([1, 2, 3])\n",
      "f : tensor([[[1., 2., 3.],\n",
      "         [1., 2., 3.]]])\n",
      "\n",
      "---- Stepping duty cycle : d ----\n",
      "d shape: torch.Size([1, 2, 3])\n",
      "d : tensor([[[2., 2., 2.],\n",
      "         [2., 2., 2.]]])\n",
      "\n",
      "---- Phase ----\n",
      "phase shape: torch.Size([1, 2, 3])\n",
      "phase : tensor([[[1., 2., 3.],\n",
      "         [1., 2., 3.]]])\n",
      "\n"
     ]
    }
   ],
   "source": [
    "num_envs = 1\n",
    "_num_legs = 2\n",
    "parallel_rollout = 3\n",
    "device = 'cpu'\n",
    "\n",
    "time_horizon = 4\n",
    "dt = 0.1\n",
    "\n",
    "f = torch.zeros(num_envs, _num_legs, parallel_rollout, device=device)\n",
    "f = torch.Tensor([1,2,3]).expand(num_envs,_num_legs, parallel_rollout)\n",
    "print('---- Leg Frequency : f ----')\n",
    "print('f shape:', f.shape)\n",
    "print('f :', f)\n",
    "print()\n",
    "\n",
    "d = torch.zeros(num_envs, _num_legs, parallel_rollout, device=device)\n",
    "d = d+2\n",
    "print('---- Stepping duty cycle : d ----')\n",
    "print('d shape:', d.shape)\n",
    "print('d :', d)\n",
    "print()\n",
    "\n",
    "phase = torch.zeros(num_envs, _num_legs, parallel_rollout, device=device)\n",
    "phase = torch.Tensor([1,2,3]).expand(num_envs,_num_legs, parallel_rollout)\n",
    "print('---- Phase ----')\n",
    "print('phase shape:', phase.shape)\n",
    "print('phase :', phase)\n",
    "print()"
   ]
  },
  {
   "cell_type": "code",
   "execution_count": null,
   "metadata": {},
   "outputs": [
    {
     "data": {
      "text/plain": [
       "tensor([0.1000, 0.2000, 0.3000, 0.4000])"
      ]
     },
     "execution_count": 129,
     "metadata": {},
     "output_type": "execute_result"
    }
   ],
   "source": [
    "torch.linspace(start=1, end=time_horizon, steps=time_horizon)*dt"
   ]
  },
  {
   "cell_type": "code",
   "execution_count": null,
   "metadata": {},
   "outputs": [
    {
     "name": "stdout",
     "output_type": "stream",
     "text": [
      "torch.Size([1, 2, 3])\n",
      "torch.Size([1, 2, 3, 1])\n",
      "torch.Size([1, 2, 3, 4])\n"
     ]
    },
    {
     "data": {
      "text/plain": [
       "tensor([[[[1., 1., 1., 1.],\n",
       "          [2., 2., 2., 2.],\n",
       "          [3., 3., 3., 3.]],\n",
       "\n",
       "         [[1., 1., 1., 1.],\n",
       "          [2., 2., 2., 2.],\n",
       "          [3., 3., 3., 3.]]]])"
      ]
     },
     "execution_count": 130,
     "metadata": {},
     "output_type": "execute_result"
    }
   ],
   "source": [
    "print(phase.shape)\n",
    "print(phase.unsqueeze(-1).shape)\n",
    "print(phase.unsqueeze(-1).expand(*[-1] * len(phase.shape),time_horizon).shape)\n",
    "phase.unsqueeze(-1).expand(num_envs,_num_legs,parallel_rollout,time_horizon)"
   ]
  },
  {
   "cell_type": "code",
   "execution_count": null,
   "metadata": {},
   "outputs": [
    {
     "name": "stdout",
     "output_type": "stream",
     "text": [
      "torch.Size([1, 2, 3, 4])\n"
     ]
    },
    {
     "data": {
      "text/plain": [
       "tensor([[[[1.1000, 1.2000, 1.3000, 1.4000],\n",
       "          [2.2000, 2.4000, 2.6000, 2.8000],\n",
       "          [3.3000, 3.6000, 3.9000, 4.2000]],\n",
       "\n",
       "         [[1.1000, 1.2000, 1.3000, 1.4000],\n",
       "          [2.2000, 2.4000, 2.6000, 2.8000],\n",
       "          [3.3000, 3.6000, 3.9000, 4.2000]]]])"
      ]
     },
     "execution_count": 134,
     "metadata": {},
     "output_type": "execute_result"
    }
   ],
   "source": [
    "new_phases = phase.unsqueeze(-1).expand(num_envs,_num_legs,parallel_rollout,time_horizon) + f.unsqueeze(-1).expand(num_envs,_num_legs,parallel_rollout,time_horizon)*torch.linspace(start=1, end=time_horizon, steps=time_horizon)*dt\n",
    "\n",
    "print(new_phases.shape)\n",
    "new_phases"
   ]
  },
  {
   "cell_type": "code",
   "execution_count": null,
   "metadata": {},
   "outputs": [
    {
     "name": "stdout",
     "output_type": "stream",
     "text": [
      "torch.Size([1, 2, 3, 4])\n"
     ]
    },
    {
     "data": {
      "text/plain": [
       "tensor([[[[0.1000, 0.2000, 0.3000, 0.4000],\n",
       "          [0.2000, 0.4000, 0.6000, 0.8000],\n",
       "          [0.3000, 0.6000, 0.9000, 0.2000]],\n",
       "\n",
       "         [[0.1000, 0.2000, 0.3000, 0.4000],\n",
       "          [0.2000, 0.4000, 0.6000, 0.8000],\n",
       "          [0.3000, 0.6000, 0.9000, 0.2000]]]])"
      ]
     },
     "execution_count": 135,
     "metadata": {},
     "output_type": "execute_result"
    }
   ],
   "source": [
    "new_phases = new_phases%1\n",
    "\n",
    "print(new_phases.shape)\n",
    "new_phases"
   ]
  },
  {
   "cell_type": "code",
   "execution_count": null,
   "metadata": {},
   "outputs": [
    {
     "name": "stdout",
     "output_type": "stream",
     "text": [
      "torch.Size([1, 2, 3])\n"
     ]
    },
    {
     "data": {
      "text/plain": [
       "tensor([[[0.1000, 0.2000, 0.3000],\n",
       "         [0.1000, 0.2000, 0.3000]]])"
      ]
     },
     "execution_count": 166,
     "metadata": {},
     "output_type": "execute_result"
    }
   ],
   "source": [
    "new_phase = new_phases[...,0]\n",
    "\n",
    "print(new_phase.shape)\n",
    "new_phase"
   ]
  },
  {
   "cell_type": "code",
   "execution_count": null,
   "metadata": {},
   "outputs": [
    {
     "name": "stdout",
     "output_type": "stream",
     "text": [
      "torch.Size([1, 2, 3, 4])\n"
     ]
    },
    {
     "data": {
      "text/plain": [
       "4"
      ]
     },
     "execution_count": 168,
     "metadata": {},
     "output_type": "execute_result"
    }
   ],
   "source": [
    "c = new_phases > d.unsqueeze(-1).expand(*[-1] * len(d.shape),time_horizon)\n",
    "\n",
    "print(c.shape)\n",
    "c.dim()"
   ]
  },
  {
   "cell_type": "code",
   "execution_count": null,
   "metadata": {},
   "outputs": [],
   "source": [
    "def gait_generator(f, d, phase, time_horizon):\n",
    "    new_phases = phase.unsqueeze(-1).expand(*[-1] * len(phase.shape),time_horizon) + f.unsqueeze(-1).expand(*[-1] * len(f.shape),time_horizon)*torch.linspace(start=1, end=time_horizon, steps=time_horizon)*dt\n",
    "\n",
    "    new_phases = new_phases%1\n",
    "\n",
    "    new_phase = new_phases[..., 0]\n",
    "\n",
    "    c = new_phases > d.unsqueeze(-1).expand(*[-1] * len(d.shape),time_horizon)\n",
    "\n",
    "    return c, new_phase\n"
   ]
  },
  {
   "cell_type": "code",
   "execution_count": null,
   "metadata": {},
   "outputs": [
    {
     "name": "stdout",
     "output_type": "stream",
     "text": [
      "Original tensor shape: torch.Size([1, 2, 1, 3, 1])\n",
      "Tensor shape after squeezing: torch.Size([2, 3])\n"
     ]
    }
   ],
   "source": [
    "import torch\n",
    "\n",
    "# Create a tensor (size can be unknown)\n",
    "tensor = torch.randn(1, 2, 1, 3, 1)\n",
    "\n",
    "# Squeeze out singleton dimensions\n",
    "unsqueezed_tensor = tensor.squeeze()\n",
    "\n",
    "print(\"Original tensor shape:\", tensor.shape)\n",
    "print(\"Tensor shape after squeezing:\", unsqueezed_tensor.shape)\n"
   ]
  },
  {
   "cell_type": "markdown",
   "metadata": {},
   "source": [
    "# Saved Hsitory of Development"
   ]
  },
  {
   "cell_type": "code",
   "execution_count": null,
   "metadata": {},
   "outputs": [],
   "source": [
    "        # # parse the body index\n",
    "        # body_ids, body_names = self._asset.find_bodies(self.cfg.body_name)\n",
    "        # if len(body_ids) != 1:\n",
    "        #     raise ValueError(\n",
    "        #         f\"Expected one match for the body name: {self.cfg.body_name}. Found {len(body_ids)}: {body_names}.\"\n",
    "        #     )\n",
    "        # # save only the first body index\n",
    "        # self._body_idx = body_ids[0]\n",
    "        # self._body_name = body_names[0]\n",
    "        # # check if articulation is fixed-base\n",
    "        # # if fixed-base then the jacobian for the base is not computed\n",
    "        # # this means that number of bodies is one less than the articulation's number of bodies\n",
    "        # if self._asset.is_fixed_base:\n",
    "        #     self._jacobi_body_idx = self._body_idx - 1\n",
    "        # else:\n",
    "        #     self._jacobi_body_idx = self._body_idx\n",
    "        # carb.log_info(  # log info for debugging\n",
    "        #     f\"Resolved body name for the action term {self.__class__.__name__}: {self._body_name} [{self._body_idx}]\"\n",
    "        # )\n",
    "\n",
    "        # # convert the fixed offsets to torch tensors of batched shape\n",
    "        # if self.cfg.body_offset is not None:\n",
    "        #     self._offset_pos = torch.tensor(self.cfg.body_offset.pos, device=self.device).repeat(self.num_envs, 1)\n",
    "        #     self._offset_rot = torch.tensor(self.cfg.body_offset.rot, device=self.device).repeat(self.num_envs, 1)\n",
    "        # else:\n",
    "        #     self._offset_pos, self._offset_rot = None, None"
   ]
  },
  {
   "cell_type": "code",
   "execution_count": null,
   "metadata": {},
   "outputs": [],
   "source": [
    "   # Stolen from DifferentialInverseKinematicsAction\n",
    "    def _compute_frame_jacobian(self):\n",
    "        \"\"\"Computes the geometric Jacobian of the target frame in the root frame.\n",
    "\n",
    "        This function accounts for the target frame offset and applies the necessary transformations to obtain\n",
    "        the right Jacobian from the parent body Jacobian.\n",
    "        \"\"\"\n",
    "        # read the parent jacobian\n",
    "        jacobian = self._asset.root_physx_view.get_jacobians()[:, self._jacobi_body_idx, :, self._joint_ids]\n",
    "\n",
    "        jacobian = self._asset.root_physx_view.get_jacobians()\n",
    "\n",
    "        \"\"\"Ordered names of bodies in articulation (through rigid body view).\"\"\"\n",
    "        prim_paths = self._asset.body_physx_view.prim_paths[: self._asset.num_bodies]\n",
    "        body_names = [path.split(\"/\")[-1] for path in prim_paths]\n",
    "        print(\"Link names through body view: \", body_names) #['base', 'FL_hip', 'FL_thigh', 'FL_calf', 'FL_foot', 'FR_hip', 'FR_thigh', 'FR_calf', 'FR_foot', 'RL_hip', 'RL_thigh', 'RL_calf', 'RL_foot', 'RR_hip', 'RR_thigh', 'RR_calf', 'RR_foot']\n",
    "\n",
    "        \"\"\"Ordered names of bodies in articulation (through articulation view).\"\"\"\n",
    "        body_names = self._asset.root_physx_view.shared_metatype.link_names\n",
    "        print(\"Link names through articulation view: \", body_names) #['base', 'FL_hip', 'FR_hip', 'RL_hip', 'RR_hip', 'FL_thigh', 'FR_thigh', 'RL_thigh', 'RR_thigh', 'FL_calf', 'FR_calf', 'RL_calf', 'RR_calf', 'FL_foot', 'FR_foot', 'RL_foot', 'RR_foot']\n",
    "\n",
    "        # account for the offset\n",
    "        if self.cfg.body_offset is not None:\n",
    "            # Modify the jacobian to account for the offset\n",
    "            # -- translational part\n",
    "            # v_link = v_ee + w_ee x r_link_ee = v_J_ee * q + w_J_ee * q x r_link_ee\n",
    "            #        = (v_J_ee + w_J_ee x r_link_ee ) * q\n",
    "            #        = (v_J_ee - r_link_ee_[x] @ w_J_ee) * q\n",
    "            jacobian[:, 0:3, :] += torch.bmm(-math_utils.skew_symmetric_matrix(self._offset_pos), jacobian[:, 3:, :])\n",
    "            # -- rotational part\n",
    "            # w_link = R_link_ee @ w_ee\n",
    "            jacobian[:, 3:, :] = torch.bmm(math_utils.matrix_from_quat(self._offset_rot), jacobian[:, 3:, :])\n",
    "\n",
    "        return jacobian"
   ]
  },
  {
   "cell_type": "code",
   "execution_count": null,
   "metadata": {},
   "outputs": [],
   "source": [
    "    def apply_actions(self):\n",
    "        \"\"\"Applies the actions to the asset managed by the term.\n",
    "        Note: This is called at every simulation step by the manager.\n",
    "        \"\"\"\n",
    "        output_torques = (torch.rand(self.num_envs, self._num_joints, device=self.device))# * 80) - 40\n",
    "\n",
    "        # print('--- Torch ---')\n",
    "        # print('shape : ',output_torques.shape)\n",
    "        # print('device : ',output_torques.device)\n",
    "        # print('Type : ', type(output_torques))\n",
    "        \n",
    "        output_torques_jax = torch_to_jax(output_torques)\n",
    "        output_torques_jax = (output_torques_jax * 80) - 40\n",
    "\n",
    "        # print('')\n",
    "        # print('--- Jax ---')\n",
    "        # print('Shape : ', output_torques_jax.shape)\n",
    "        # print('device : ',output_torques_jax.devices())\n",
    "        # print('Type : ', type(output_torques_jax))\n",
    "\n",
    "        output_torques2 = jax_to_torch(output_torques_jax)\n",
    "\n",
    "        # set joint effort targets (should be equivalent to torque) : Torque controlled robot\n",
    "        self._asset.set_joint_effort_target(output_torques2, joint_ids=self._joint_ids)"
   ]
  },
  {
   "cell_type": "code",
   "execution_count": null,
   "metadata": {},
   "outputs": [],
   "source": [
    "    def get_robot_state2(self):\n",
    "        \"\"\" TODO Write description\n",
    "        \"\"\"\n",
    "\n",
    "        # Joint Index\n",
    "        fl_joints = self._asset.find_joints(\"FL.*\")[0]\t\t# list [0, 4,  8]\n",
    "        fr_joints = self._asset.find_joints(\"FR.*\")[0]\t\t# list [1, 5,  9]\n",
    "        rl_joints = self._asset.find_joints(\"RL.*\")[0]\t\t# list [2, 6, 10]\n",
    "        rr_joints = self._asset.find_joints(\"RR.*\")[0]\t\t# list [3, 7, 11]\n",
    "\n",
    "        # Body Index\n",
    "        foot_idx = self._asset.find_bodies(\".*foot\")[0]\n",
    "\n",
    "        # 'FL_foot', 'FR_foot', 'RL_foot', 'RR_foot'\n",
    "        fl_jacobian = self._asset.root_physx_view.get_jacobians()[:, foot_idx[0], 0:3, fl_joints]# + 6]\n",
    "        fr_jacobian = self._asset.root_physx_view.get_jacobians()[:, foot_idx[1], 0:3, fr_joints]# + 6]\n",
    "        rl_jacobian = self._asset.root_physx_view.get_jacobians()[:, foot_idx[2], 0:3, rl_joints]# + 6]\n",
    "        rr_jacobian = self._asset.root_physx_view.get_jacobians()[:, foot_idx[3], 0:3, rr_joints]# + 6]\n",
    "\n",
    "        # foot position in wf\n",
    "        fl_foot_pos_w = self._asset.data.body_state_w[:, foot_idx[0], 0:3]\n",
    "        fr_foot_pos_w = self._asset.data.body_state_w[:, foot_idx[1], 0:3]\n",
    "        rl_foot_pos_w = self._asset.data.body_state_w[:, foot_idx[2], 0:3]\n",
    "        rr_foot_pos_w = self._asset.data.body_state_w[:, foot_idx[3], 0:3]\n",
    "\n",
    "        # foot orientation in wf\n",
    "        fl_foot_orient_w = self._asset.data.body_state_w[:, foot_idx[0], 3:7]\n",
    "        fr_foot_orient_w = self._asset.data.body_state_w[:, foot_idx[1], 3:7]\n",
    "        rl_foot_orient_w = self._asset.data.body_state_w[:, foot_idx[2], 3:7]\n",
    "        rr_foot_orient_w = self._asset.data.body_state_w[:, foot_idx[3], 3:7]\n",
    "\n",
    "        # Root state ``[pos, quat, lin_vel, ang_vel]`` in simulation world frame. Shape is (num_instances, 13)\n",
    "        base_pose_w = self._asset.data.root_state_w[:, 0:3]\n",
    "        base_orient_w = self._asset.data.root_state_w[:, 3:7]\n",
    "        base_lin_vel_w = self._asset.data.root_state_w[:, 7:10]\n",
    "        base_ang_vel_w = self._asset.data.root_state_w[:, 10:13]\n",
    "\n",
    "        # foot position, orientation in bf\n",
    "        fl_foot_pos_b, fl_foot_orient_b = math_utils.subtract_frame_transforms(base_pose_w, base_orient_w, fl_foot_pos_w, fl_foot_orient_w)\n",
    "        fr_foot_pos_b, fr_foot_orient_b = math_utils.subtract_frame_transforms(base_pose_w, base_orient_w, fr_foot_pos_w, fr_foot_orient_w)\n",
    "        rl_foot_pos_b, rl_foot_orient_b = math_utils.subtract_frame_transforms(base_pose_w, base_orient_w, rl_foot_pos_w, rl_foot_orient_w)\n",
    "        rr_foot_pos_b, rr_foot_orient_b = math_utils.subtract_frame_transforms(base_pose_w, base_orient_w, rr_foot_pos_w, rr_foot_orient_w)\n",
    "\n",
    "        # foot joint position\n",
    "        fl_joint_pos = self._asset.data.joint_pos[:, fl_joints]\n",
    "        fr_joint_pos = self._asset.data.joint_pos[:, fr_joints]\n",
    "        rl_joint_pos = self._asset.data.joint_pos[:, rl_joints]\n",
    "        rr_joint_pos = self._asset.data.joint_pos[:, rr_joints]\n",
    "\n",
    "        # foot joint velocity\n",
    "        fl_joint_vel = self._asset.data.joint_vel[:, fl_joints]\n",
    "        fr_joint_vel = self._asset.data.joint_vel[:, fr_joints]\n",
    "        rl_joint_vel = self._asset.data.joint_vel[:, rl_joints]\n",
    "        rr_joint_vel = self._asset.data.joint_vel[:, rr_joints]\n",
    "\n",
    "        print('alo')"
   ]
  },
  {
   "cell_type": "markdown",
   "metadata": {},
   "source": [
    "# Stance Leg controller"
   ]
  },
  {
   "cell_type": "code",
   "execution_count": null,
   "metadata": {},
   "outputs": [
    {
     "name": "stdout",
     "output_type": "stream",
     "text": [
      "Random Tensor Shape: torch.Size([2, 4, 3, 5])\n",
      "Random Tensor:\n",
      "tensor([[[[-1.0008,  0.7120, -0.1742, -1.4273, -0.2322],\n",
      "          [ 0.4963, -0.0760,  0.7140,  0.5691, -0.4790],\n",
      "          [-0.2406,  0.7622,  0.0441, -2.3687,  0.6843]],\n",
      "\n",
      "         [[-1.1865, -0.2030, -0.8373,  1.5632, -0.9582],\n",
      "          [-1.6118,  0.9994,  0.2950,  1.7622, -0.6367],\n",
      "          [-0.9983,  0.1925,  1.1585, -0.3202, -0.7383]],\n",
      "\n",
      "         [[ 0.9787,  0.0971,  0.9300, -1.4056,  0.0978],\n",
      "          [-0.8115,  0.1189,  1.5842,  0.1966,  1.0970],\n",
      "          [-0.2550, -2.1972, -0.2008, -0.6315,  0.5687]],\n",
      "\n",
      "         [[ 0.8719, -0.0730, -0.2174,  0.8004, -0.7905],\n",
      "          [ 0.4587, -0.1622,  0.8989,  1.1916,  0.8667],\n",
      "          [ 0.1111, -1.7449,  0.0858,  1.7471,  0.4848]]],\n",
      "\n",
      "\n",
      "        [[[-2.6416,  1.3883,  1.4118, -0.1556, -0.0260],\n",
      "          [ 0.0520, -1.5354, -0.1618, -0.0765,  0.7076],\n",
      "          [ 0.6039, -0.3753, -0.7691,  0.4189, -1.3773]],\n",
      "\n",
      "         [[-0.7048,  1.1861, -0.2367, -0.0804,  0.8997],\n",
      "          [ 1.2829, -0.1929, -0.9965, -0.4421,  0.7688],\n",
      "          [-1.1038, -0.4555, -0.1341,  0.7287,  0.5386]],\n",
      "\n",
      "         [[ 2.1951, -0.3242, -0.6417,  0.2766, -0.3449],\n",
      "          [ 1.1949,  0.4038,  0.8481, -0.8909,  1.4892],\n",
      "          [ 2.1680,  0.3773, -1.4098,  0.2815, -1.8475]],\n",
      "\n",
      "         [[-0.1910, -0.9337, -0.8457,  2.0190,  0.9930],\n",
      "          [-0.3845, -0.0142,  1.1648,  0.6924,  0.3329],\n",
      "          [ 0.6188,  0.0251, -0.0031, -0.2717,  1.0208]]]])\n"
     ]
    }
   ],
   "source": [
    "import torch\n",
    "\n",
    "# Define symbolic variables\n",
    "batch_size = 2\n",
    "num_legs = 4\n",
    "num_joints_per_leg = 5\n",
    "\n",
    "# Instantiate the tensor with symbolic shape\n",
    "shape = (batch_size, num_legs, 3, num_joints_per_leg)\n",
    "tensor = torch.randn(*shape)\n",
    "\n",
    "print(\"Random Tensor Shape:\", tensor.shape)\n",
    "print(\"Random Tensor:\")\n",
    "print(tensor)\n"
   ]
  },
  {
   "cell_type": "code",
   "execution_count": null,
   "metadata": {},
   "outputs": [
    {
     "name": "stdout",
     "output_type": "stream",
     "text": [
      "Boolean Tensor Shape: torch.Size([2, 4])\n",
      "Boolean Tensor:\n",
      "tensor([[ True,  True, False, False],\n",
      "        [False,  True, False,  True]])\n"
     ]
    }
   ],
   "source": [
    "c0 = torch.randint(0, 2, (batch_size, num_legs), dtype=torch.bool)\n",
    "\n",
    "print(\"Boolean Tensor Shape:\", c0.shape)\n",
    "print(\"Boolean Tensor:\")\n",
    "print(c0)"
   ]
  },
  {
   "cell_type": "code",
   "execution_count": null,
   "metadata": {},
   "outputs": [],
   "source": [
    "jacobian = torch.randn(batch_size, num_legs, 3, num_joints_per_leg)\n",
    "F0_star = torch.randn(batch_size, num_legs, 3)"
   ]
  },
  {
   "cell_type": "code",
   "execution_count": null,
   "metadata": {},
   "outputs": [
    {
     "name": "stdout",
     "output_type": "stream",
     "text": [
      "Jacobian   shape : torch.Size([2, 4, 3, 5])\n",
      "Jacobian.T shape : torch.Size([2, 4, 5, 3])\n",
      "   GRF     shape : torch.Size([2, 4, 3])\n",
      "   GRF 2   shape : torch.Size([2, 4, 3, 1])\n",
      "     q     shape : torch.Size([2, 4, 5, 1])\n",
      "     q2    shape : torch.Size([2, 4, 5])\n",
      "\n",
      "Jacobian : \n",
      "tensor([[ 1.8449, -0.1331, -0.4473, -0.3967, -0.5775],\n",
      "        [-0.1599, -0.0411,  0.1473, -0.2492,  1.2638],\n",
      "        [-1.4937, -1.0205, -0.9950,  0.1527,  1.4755]])\n",
      "\n",
      "GRF : \n",
      "tensor([ 0.8727, -0.0659, -0.1853])\n",
      "\n",
      "Joints : \n",
      "tensor([-1.1362, -1.4506, -0.6089,  2.4870,  1.3955])\n",
      "\n",
      "Torques : \n",
      "tensor([[[-0.0000,  0.0000,  0.0000, -0.0000, -0.0000],\n",
      "         [ 0.0000, -0.0000,  0.0000, -0.0000,  0.0000],\n",
      "         [-1.8240,  0.8967, -0.6014,  0.1919,  0.6543],\n",
      "         [-0.0195, -0.1334, -1.3107,  0.5556, -2.4532]],\n",
      "\n",
      "        [[ 0.4518,  1.8152,  1.0578, -2.1407,  0.1980],\n",
      "         [-0.0000, -0.0000,  0.0000,  0.0000, -0.0000],\n",
      "         [-1.1362, -1.4506, -0.6089,  2.4870,  1.3955],\n",
      "         [ 0.0000,  0.0000, -0.0000, -0.0000, -0.0000]]])\n"
     ]
    },
    {
     "data": {
      "text/plain": [
       "5"
      ]
     },
     "execution_count": 10,
     "metadata": {},
     "output_type": "execute_result"
    }
   ],
   "source": [
    "# jacobian = torch.randn(batch_size, num_legs, 3, num_joints_per_leg)\n",
    "jacobian_T = jacobian.transpose(-1,-2).detach().clone() # Transpose last two dimensions\n",
    "print('Jacobian   shape :',jacobian.shape)\n",
    "print('Jacobian.T shape :',jacobian_T.shape)\n",
    "\n",
    "# F0_star = torch.randn(batch_size, num_legs, 3)\n",
    "F0_star2 = F0_star.unsqueeze(-1).detach().clone() \n",
    "print('   GRF     shape :',F0_star.shape)\n",
    "print('   GRF 2   shape :',F0_star2.shape)\n",
    "\n",
    "q = torch.matmul(jacobian_T, F0_star.unsqueeze(-1))\n",
    "q2 = q.squeeze(-1).clone().detach()\n",
    "print('     q     shape :',q.shape)\n",
    "print('     q2    shape :',q2.shape)\n",
    "\n",
    "print('')\n",
    "print('Jacobian : ')\n",
    "print(jacobian[1,3,:,:])\n",
    "\n",
    "print('')\n",
    "print('GRF : ')\n",
    "print(F0_star[1,3,:])\n",
    "\n",
    "print('')\n",
    "print('Joints : ')\n",
    "print(q2[1,2,:])\n",
    "\n",
    "T = q2 * ~c0.unsqueeze(-1).expand(*[-1] * len(c0.shape), T.shape[-1])\n",
    "print('')\n",
    "print('Torques : ')\n",
    "print(T[:,:,:])\n",
    "\n",
    "T.shape[-1]"
   ]
  },
  {
   "cell_type": "code",
   "execution_count": null,
   "metadata": {},
   "outputs": [
    {
     "name": "stdout",
     "output_type": "stream",
     "text": [
      "torch.Size([2, 4, 5])\n",
      "tensor([[[-0.0000,  0.0000,  0.0000, -0.0000, -0.0000],\n",
      "         [ 0.0000, -0.0000,  0.0000, -0.0000,  0.0000],\n",
      "         [-1.8240,  0.8967, -0.6014,  0.1919,  0.6543],\n",
      "         [-0.0195, -0.1334, -1.3107,  0.5556, -2.4532]],\n",
      "\n",
      "        [[ 0.4518,  1.8152,  1.0578, -2.1407,  0.1980],\n",
      "         [-0.0000, -0.0000,  0.0000,  0.0000, -0.0000],\n",
      "         [-1.1362, -1.4506, -0.6089,  2.4870,  1.3955],\n",
      "         [ 0.0000,  0.0000, -0.0000, -0.0000, -0.0000]]])\n",
      "tensor([[-0.0000,  0.0000,  0.6543, -2.4532],\n",
      "        [ 0.1980, -0.0000,  1.3955, -0.0000]])\n"
     ]
    }
   ],
   "source": [
    "print(T.shape)\n",
    "print(T)\n",
    "print(T[:,:,4])"
   ]
  },
  {
   "cell_type": "code",
   "execution_count": null,
   "metadata": {},
   "outputs": [
    {
     "name": "stdout",
     "output_type": "stream",
     "text": [
      "Jacobian     Shape: torch.Size([2, 4, 3, 5])\n",
      "Jacobian dot Shape: torch.Size([2, 4, 3, 5])\n",
      "     q   dot Shape: torch.Size([2, 4, 5])\n",
      "Mass Matrix  Shape: torch.Size([2, 4, 5, 5])\n",
      "     h       Shape: torch.Size([2, 4, 5])\n"
     ]
    }
   ],
   "source": [
    "import torch\n",
    "\n",
    "# Define symbolic variables\n",
    "batch_size = 2\n",
    "num_legs = 4\n",
    "num_joints_per_leg = 5\n",
    "\n",
    "jacobian = torch.randn(batch_size, num_legs, 3, num_joints_per_leg)\n",
    "jacobian_dot = torch.randn(batch_size, num_legs, 3, num_joints_per_leg)\n",
    "q_dot = torch.randn(batch_size, num_legs, num_joints_per_leg)\n",
    "mass_matrix = torch.randn(batch_size, num_legs, num_joints_per_leg, num_joints_per_leg)\n",
    "h = torch.randn(batch_size, num_legs, num_joints_per_leg)\n",
    "\n",
    "print(\"Jacobian     Shape:\", jacobian.shape)\n",
    "print(\"Jacobian dot Shape:\", jacobian_dot.shape)\n",
    "print(\"     q   dot Shape:\", q_dot.shape)\n",
    "print(\"Mass Matrix  Shape:\", mass_matrix.shape)\n",
    "print(\"     h       Shape:\", h.shape)"
   ]
  },
  {
   "cell_type": "code",
   "execution_count": null,
   "metadata": {},
   "outputs": [
    {
     "name": "stdout",
     "output_type": "stream",
     "text": [
      "                   J_dot_x_q_dot Shape: torch.Size([2, 4, 3])\n",
      "                   jacobian_inv  Shape: torch.Size([2, 4, 5, 3])\n",
      "     J⁻¹[p_dot_dot - J(q)*q_dot] Shape: torch.Size([2, 4, 5])\n",
      "M(q)*J⁻¹[p_dot_dot - J(q)*q_dot] Shape: torch.Size([2, 4, 5])\n",
      "                              T  Shape: torch.Size([2, 4, 5])\n"
     ]
    }
   ],
   "source": [
    "J_dot_x_q_dot = torch.matmul(jacobian_dot, q_dot.unsqueeze(-1)).squeeze(-1)\n",
    "print(\"                   J_dot_x_q_dot Shape:\", J_dot_x_q_dot.shape)\n",
    "\n",
    "jacobian_inv = torch.linalg.pinv(jacobian)\n",
    "print(\"                   jacobian_inv  Shape:\", jacobian_inv.shape)\n",
    "\n",
    "J_inv_p_dot_dot_min_J_dot_x_q_dot = torch.matmul(jacobian_inv, J_dot_x_q_dot.unsqueeze(-1)).squeeze(-1)\n",
    "print(\"     J⁻¹[p_dot_dot - J(q)*q_dot] Shape:\", J_inv_p_dot_dot_min_J_dot_x_q_dot.shape)\n",
    "\n",
    "M_J_inv_p_dot_dot_min_J_dot_x_q_dot = torch.matmul(mass_matrix, J_inv_p_dot_dot_min_J_dot_x_q_dot.unsqueeze(-1)).squeeze(-1)\n",
    "print('M(q)*J⁻¹[p_dot_dot - J(q)*q_dot] Shape:', M_J_inv_p_dot_dot_min_J_dot_x_q_dot.shape)\n",
    "\n",
    "# Final step\n",
    "T = torch.add(M_J_inv_p_dot_dot_min_J_dot_x_q_dot, h)\n",
    "print('                              T  Shape:', T.shape)"
   ]
  },
  {
   "cell_type": "markdown",
   "metadata": {},
   "source": [
    "## Jacobian dim"
   ]
  },
  {
   "cell_type": "code",
   "execution_count": null,
   "metadata": {},
   "outputs": [
    {
     "name": "stdout",
     "output_type": "stream",
     "text": [
      "torch.Size([5, 17, 6, 18])\n"
     ]
    }
   ],
   "source": [
    "import torch\n",
    "\n",
    "# Define symbolic variables\n",
    "batch_size = 5\n",
    "num_legs = 4\n",
    "num_joints_per_leg = 3\n",
    "\n",
    "_foot_idx = [13,14,15,16]\n",
    "_joint_idx = [[0,4,8],[1,5,9],[2,6,10],[3,7,11]]\n",
    "# _joint_idx = [[[[0,4,8]],[[1,5,9]],[[2,6,10]],[[3,7,11]]]]\n",
    "_joint_idx_tensor = torch.Tensor(_joint_idx)\n",
    "\n",
    "jacobian = torch.randn(batch_size, 17, 6, 18)\n",
    "print(jacobian.shape)"
   ]
  },
  {
   "cell_type": "code",
   "execution_count": null,
   "metadata": {},
   "outputs": [
    {
     "name": "stdout",
     "output_type": "stream",
     "text": [
      "torch.Size([5, 4, 3, 18])\n",
      "0\n",
      "[0, 4, 8]\n",
      "1\n",
      "[1, 5, 9]\n",
      "2\n",
      "[2, 6, 10]\n",
      "3\n",
      "[3, 7, 11]\n"
     ]
    }
   ],
   "source": [
    "print(jacobian[:,_foot_idx,:3,:].shape)\n",
    "\n",
    "for leg_i, joints_in_leg_i in enumerate(_joint_idx):\n",
    "    print(leg_i)\n",
    "    print(joints_in_leg_i)"
   ]
  },
  {
   "cell_type": "code",
   "execution_count": null,
   "metadata": {},
   "outputs": [
    {
     "name": "stdout",
     "output_type": "stream",
     "text": [
      "torch.Size([5, 1, 3, 3])\n",
      "torch.Size([5, 3, 3, 3])\n",
      "torch.Size([5, 3, 3, 3])\n"
     ]
    }
   ],
   "source": [
    "import numpy as np\n",
    "jacob1 = jacobian[:, 0, :3, [0,4,8]].unsqueeze(1)\n",
    "jacob2 = jacobian[:, 1, :3, [1,5,9]].unsqueeze(1)\n",
    "jacob3 = jacobian[:, 2, :3, [2,6,10]].unsqueeze(1)\n",
    "print(jacob1.shape)\n",
    "print(torch.cat((jacob1, jacob2, jacob3), dim=1).shape)\n",
    "\n",
    "jacob = []\n",
    "jacob.append(jacobian[:, 0, :3, 6+np.asarray([0,4,8])].unsqueeze(1))\n",
    "jacob.append(jacobian[:, 1, :3, [1,5,9]].unsqueeze(1))\n",
    "jacob.append(jacobian[:, 2, :3, [2,6,10]].unsqueeze(1))\n",
    "print(torch.cat((jacob), dim=1).shape)"
   ]
  },
  {
   "cell_type": "code",
   "execution_count": null,
   "metadata": {},
   "outputs": [
    {
     "data": {
      "text/plain": [
       "4"
      ]
     },
     "execution_count": 121,
     "metadata": {},
     "output_type": "execute_result"
    }
   ],
   "source": [
    "12//3"
   ]
  },
  {
   "cell_type": "code",
   "execution_count": null,
   "metadata": {},
   "outputs": [
    {
     "name": "stdout",
     "output_type": "stream",
     "text": [
      "tensor([[[1.0000, 2.0000, 2.1000],\n",
      "         [3.0000, 4.0000, 4.1000]],\n",
      "\n",
      "        [[5.0000, 6.0000, 6.1000],\n",
      "         [7.0000, 8.0000, 8.1000]]])\n",
      "\n"
     ]
    },
    {
     "data": {
      "text/plain": [
       "tensor([[1.0000, 3.0000, 2.0000, 4.0000, 2.1000, 4.1000],\n",
       "        [5.0000, 7.0000, 6.0000, 8.0000, 6.1000, 8.1000]])"
      ]
     },
     "execution_count": 20,
     "metadata": {},
     "output_type": "execute_result"
    }
   ],
   "source": [
    "import torch\n",
    "\n",
    "a = torch.tensor([[[1.0, 2.0, 2.1], [3.0, 4.0, 4.1]], [[5,6, 6.1] , [7, 8, 8.1]]])\n",
    "print(a)\n",
    "print()\n",
    "a.permute(0,2,1).reshape(2,6)\n",
    "# a.view(2,6)"
   ]
  },
  {
   "cell_type": "markdown",
   "metadata": {},
   "source": [
    "# Extract Touch Down Pos : Convolutions\n",
    "\n",
    "        # Utiliser une convolution sur c (contact sequence) pour trouver le point de départ et d'arriver du pied.\n",
    "        # Avec un filtre genre f = [0, 1], pour ne garder que les flancs montants\n",
    "        # Imaginons p = [p1, p2, p3, p4, p5, p6, p7, p8, p9, p10]\n",
    "        #           c = [ 1,  1,  0,  0,  0,  1,  1,  0,  0,   1]\n",
    "        # Les points de départ serait p1, p6 et p10 les points d'arrivé p6 et p10\n",
    "        # Il faudrait retourner qqch comme \n",
    "        #        key =  [1,   0,  0,  0,  0,  1,  0,  0,  0,   1]\n",
    "        # Qui permetrait d'extraire facilement [p1, p6, p10] avec p[key]"
   ]
  },
  {
   "cell_type": "code",
   "execution_count": null,
   "metadata": {},
   "outputs": [
    {
     "data": {
      "text/plain": [
       "tensor([[[0., 0., 0., 0., 1., 0., 0., 0., 1., 1.],\n",
       "         [0., 0., 1., 0., 0., 0., 0., 0., 1., 0.],\n",
       "         [0., 0., 0., 0., 0., 0., 0., 0., 0., 0.],\n",
       "         [0., 0., 0., 0., 0., 0., 0., 0., 1., 0.]],\n",
       "\n",
       "        [[0., 0., 0., 0., 0., 0., 0., 0., 1., 0.],\n",
       "         [1., 0., 0., 0., 0., 0., 1., 0., 0., 0.],\n",
       "         [1., 0., 0., 0., 1., 0., 1., 0., 1., 0.],\n",
       "         [0., 0., 0., 1., 0., 1., 0., 0., 1., 0.]]])"
      ]
     },
     "execution_count": 128,
     "metadata": {},
     "output_type": "execute_result"
    }
   ],
   "source": [
    "import torch\n",
    "\n",
    "batch_size = 2\n",
    "num_legs = 4\n",
    "time_horizon = 10\n",
    "\n",
    "c = torch.empty(batch_size, num_legs, time_horizon).bernoulli(0.2)\n",
    "c"
   ]
  },
  {
   "cell_type": "code",
   "execution_count": null,
   "metadata": {},
   "outputs": [
    {
     "data": {
      "text/plain": [
       "tensor([[[ 0.0000, -0.0000, -0.0000, -0.0000,  0.2320, -0.0000, -0.0000,\n",
       "           0.0000,  0.2659, -1.4655],\n",
       "         [ 0.0000, -0.0000,  0.6376,  0.0000,  0.0000, -0.0000,  0.0000,\n",
       "           0.0000,  1.6942,  0.0000],\n",
       "         [ 0.0000, -0.0000,  0.0000,  0.0000,  0.0000, -0.0000, -0.0000,\n",
       "           0.0000,  0.0000,  0.0000],\n",
       "         [ 0.0000,  0.0000,  0.0000,  0.0000,  0.0000, -0.0000, -0.0000,\n",
       "           0.0000,  1.2197,  0.0000]],\n",
       "\n",
       "        [[ 0.0000,  0.0000,  0.0000,  0.0000,  0.0000,  0.0000,  0.0000,\n",
       "          -0.0000, -0.3521,  0.0000],\n",
       "         [ 0.6727,  0.0000,  0.0000, -0.0000, -0.0000, -0.0000, -0.4122,\n",
       "           0.0000, -0.0000,  0.0000],\n",
       "         [ 1.9076,  0.0000,  0.0000, -0.0000,  3.6689, -0.0000, -0.4448,\n",
       "          -0.0000,  0.4419,  0.0000],\n",
       "         [-0.0000,  0.0000, -0.0000, -0.7543, -0.0000,  0.6289,  0.0000,\n",
       "           0.0000, -1.0148,  0.0000]]])"
      ]
     },
     "execution_count": 129,
     "metadata": {},
     "output_type": "execute_result"
    }
   ],
   "source": [
    "p = torch.randn(c.shape)\n",
    "p2 = p * c\n",
    "p2"
   ]
  },
  {
   "cell_type": "code",
   "execution_count": null,
   "metadata": {},
   "outputs": [
    {
     "data": {
      "text/plain": [
       "tensor([[4, 2, 0, 8],\n",
       "        [8, 0, 0, 3]])"
      ]
     },
     "execution_count": 133,
     "metadata": {},
     "output_type": "execute_result"
    }
   ],
   "source": [
    "indx = torch.argmax((c!=0).float(), dim=-1)\n",
    "indx"
   ]
  },
  {
   "cell_type": "code",
   "execution_count": null,
   "metadata": {},
   "outputs": [
    {
     "data": {
      "text/plain": [
       "tensor([[ 0.2320,  0.6376,  1.4360,  1.2197],\n",
       "        [-0.3521,  0.6727,  1.9076, -0.7543]])"
      ]
     },
     "execution_count": 135,
     "metadata": {},
     "output_type": "execute_result"
    }
   ],
   "source": [
    "torch.gather(p, -1, indx.unsqueeze(-1)).squeeze(-1)"
   ]
  },
  {
   "cell_type": "code",
   "execution_count": null,
   "metadata": {},
   "outputs": [
    {
     "ename": "RuntimeError",
     "evalue": "expected padding to be a single integer value or a list of 1 values to match the convolution dimensions, but got padding=[0, 1]",
     "output_type": "error",
     "traceback": [
      "\u001b[0;31m---------------------------------------------------------------------------\u001b[0m",
      "\u001b[0;31mRuntimeError\u001b[0m                              Traceback (most recent call last)",
      "Cell \u001b[0;32mIn[66], line 3\u001b[0m\n\u001b[1;32m      1\u001b[0m kernel \u001b[38;5;241m=\u001b[39m torch\u001b[38;5;241m.\u001b[39mtensor([\u001b[38;5;241m-\u001b[39m\u001b[38;5;241m1\u001b[39m, \u001b[38;5;241m1\u001b[39m], dtype\u001b[38;5;241m=\u001b[39mtorch\u001b[38;5;241m.\u001b[39mfloat32)\n\u001b[1;32m      2\u001b[0m kernel \u001b[38;5;241m=\u001b[39m kernel\u001b[38;5;241m.\u001b[39munsqueeze(\u001b[38;5;241m0\u001b[39m)\u001b[38;5;241m.\u001b[39munsqueeze(\u001b[38;5;241m0\u001b[39m)\u001b[38;5;241m.\u001b[39mexpand(\u001b[38;5;241m4\u001b[39m,\u001b[38;5;241m1\u001b[39m,\u001b[38;5;241m2\u001b[39m)\n\u001b[0;32m----> 3\u001b[0m \u001b[43mtorch\u001b[49m\u001b[38;5;241;43m.\u001b[39;49m\u001b[43mconv1d\u001b[49m\u001b[43m(\u001b[49m\u001b[43mc\u001b[49m\u001b[43m,\u001b[49m\u001b[43m \u001b[49m\u001b[43mkernel\u001b[49m\u001b[43m,\u001b[49m\u001b[43m \u001b[49m\u001b[43mgroups\u001b[49m\u001b[38;5;241;43m=\u001b[39;49m\u001b[38;5;241;43m4\u001b[39;49m\u001b[43m,\u001b[49m\u001b[43m \u001b[49m\u001b[43mpadding\u001b[49m\u001b[38;5;241;43m=\u001b[39;49m\u001b[43m(\u001b[49m\u001b[38;5;241;43m0\u001b[39;49m\u001b[43m,\u001b[49m\u001b[38;5;241;43m1\u001b[39;49m\u001b[43m)\u001b[49m\u001b[43m)\u001b[49m\n",
      "\u001b[0;31mRuntimeError\u001b[0m: expected padding to be a single integer value or a list of 1 values to match the convolution dimensions, but got padding=[0, 1]"
     ]
    }
   ],
   "source": [
    "kernel = torch.tensor([-1, 1], dtype=torch.float32)\n",
    "kernel = kernel.unsqueeze(0).unsqueeze(0).expand(4,1,2)\n",
    "torch.conv1d(c, kernel, groups=4, padding=(0,1))"
   ]
  },
  {
   "cell_type": "code",
   "execution_count": null,
   "metadata": {},
   "outputs": [
    {
     "name": "stdout",
     "output_type": "stream",
     "text": [
      "tensor([-1.,  1.])\n",
      "torch.Size([2])\n",
      "\n",
      "tensor([[[-1.,  1.]],\n",
      "\n",
      "        [[-1.,  1.]],\n",
      "\n",
      "        [[-1.,  1.]],\n",
      "\n",
      "        [[-1.,  1.]]])\n",
      "torch.Size([4, 1, 2])\n",
      "\n"
     ]
    }
   ],
   "source": [
    "print(kernel)\n",
    "print(kernel.shape)\n",
    "print()\n",
    "\n",
    "kernel2 = kernel.unsqueeze(0).unsqueeze(0).expand(4,1,2)\n",
    "print(kernel2)\n",
    "print(kernel2.shape)\n",
    "print()"
   ]
  },
  {
   "cell_type": "code",
   "execution_count": null,
   "metadata": {},
   "outputs": [
    {
     "name": "stdout",
     "output_type": "stream",
     "text": [
      "torch.Size([2, 4, 3])\n"
     ]
    },
    {
     "data": {
      "text/plain": [
       "torch.Size([2, 8, 3])"
      ]
     },
     "execution_count": 9,
     "metadata": {},
     "output_type": "execute_result"
    }
   ],
   "source": [
    "import torch\n",
    "a = torch.tensor([[[1,1,1,1],[2,2,2,2],[3,3,3,3]], [[4,4,4,4], [5,5,5,5], [6,6,6,6]]]).transpose(-1,-2)\n",
    "b = torch.tensor([[[1,2,3,4],[2,2,2,2],[3,3,3,3]], [[4,4,4,4], [5,5,5,5], [6,6,6,6]]]).transpose(-1,-2)\n",
    "print(a.shape)\n",
    "\n",
    "c = torch.cat((a,b), dim=1)\n",
    "c.shape\n",
    "\n",
    "\n"
   ]
  },
  {
   "cell_type": "code",
   "execution_count": null,
   "metadata": {},
   "outputs": [
    {
     "name": "stdout",
     "output_type": "stream",
     "text": [
      "torch.Size([2, 3])\n",
      "torch.Size([2, 3])\n",
      "torch.Size([2, 3])\n",
      "tensor([[0.9700, 0.4700, 0.3033],\n",
      "        [0.2200, 0.1700, 0.1367]])\n",
      "\n",
      "tensor([[0.9000, 0.8000, 0.7000],\n",
      "        [0.6000, 0.5000, 0.4000]])\n",
      "\n",
      "tensor([[0.9000, 0.4000, 0.2333],\n",
      "        [0.1500, 0.1000, 0.0667]])\n",
      "\n",
      "tensor([[0.9700, 0.4700, 0.3033],\n",
      "        [0.2200, 0.1700, 0.1367]])\n"
     ]
    }
   ],
   "source": [
    "import torch\n",
    "f = torch.tensor([[1,2,3], [4, 5, 6]])\n",
    "d = torch.tensor([[0.1,0.2,0.3], [0.4, 0.5, 0.6]])\n",
    "print(f.shape)\n",
    "print(d.shape)\n",
    "\n",
    "swing_period = ((1-d) / f) + 0.07\n",
    "print(swing_period.shape)\n",
    "print(swing_period)\n",
    "print()\n",
    "print(1-d)\n",
    "print()\n",
    "print((1-d)/f)\n",
    "print()\n",
    "print((1-d)/f + 0.07)"
   ]
  },
  {
   "cell_type": "code",
   "execution_count": null,
   "metadata": {},
   "outputs": [
    {
     "data": {
      "text/plain": [
       "tensor([[1, 2, 1],\n",
       "        [4, 5, 1]])"
      ]
     },
     "execution_count": 3,
     "metadata": {},
     "output_type": "execute_result"
    }
   ],
   "source": [
    "f[:,-1] = 1\n",
    "f"
   ]
  },
  {
   "cell_type": "code",
   "execution_count": null,
   "metadata": {},
   "outputs": [
    {
     "name": "stdout",
     "output_type": "stream",
     "text": [
      "tensor([[ True, False, False],\n",
      "        [False, False, False]])\n"
     ]
    }
   ],
   "source": [
    "c = torch.empty(2, 3).bernoulli(0.5).bool()\n",
    "print(c)"
   ]
  },
  {
   "cell_type": "code",
   "execution_count": null,
   "metadata": {},
   "outputs": [
    {
     "data": {
      "text/plain": [
       "tensor([[1.0000, 0.2000, 0.3000],\n",
       "        [0.4000, 0.5000, 0.6000]])"
      ]
     },
     "execution_count": 5,
     "metadata": {},
     "output_type": "execute_result"
    }
   ],
   "source": [
    "(f * c) + (d * ~c)"
   ]
  },
  {
   "cell_type": "code",
   "execution_count": null,
   "metadata": {},
   "outputs": [
    {
     "name": "stdout",
     "output_type": "stream",
     "text": [
      "torch.Size([2, 4])\n"
     ]
    },
    {
     "data": {
      "text/plain": [
       "tensor([[[1.0000, 2.0000, 0.0500],\n",
       "         [1.5000, 2.0000, 0.0500],\n",
       "         [2.0000, 2.0000, 0.0500],\n",
       "         [2.5000, 2.0000, 0.0500]],\n",
       "\n",
       "        [[4.0000, 5.0000, 0.0500],\n",
       "         [4.0000, 5.0000, 0.0500],\n",
       "         [4.0000, 5.0000, 0.0500],\n",
       "         [4.0000, 5.0000, 0.0500]]])"
      ]
     },
     "execution_count": 30,
     "metadata": {},
     "output_type": "execute_result"
    }
   ],
   "source": [
    "print(a.shape[:-1])\n",
    "x = (a[:,:,:2] + b[:,:,:2]) / 2\n",
    "torch.cat((x,0.05*torch.ones_like(a[:,:, :1])), dim=2)"
   ]
  },
  {
   "cell_type": "code",
   "execution_count": null,
   "metadata": {},
   "outputs": [
    {
     "name": "stdout",
     "output_type": "stream",
     "text": [
      "tensor([[0.1000, 0.2000, 0.3000],\n",
      "        [0.4000, 0.5000, 0.6000]])\n",
      "\n",
      "tensor([[1, 2, 3],\n",
      "        [4, 5, 6]])\n",
      "\n"
     ]
    },
    {
     "data": {
      "text/plain": [
       "tensor([[0.1000, 0.0400, 0.0270],\n",
       "        [0.0256, 0.0312, 0.0467]])"
      ]
     },
     "execution_count": 5,
     "metadata": {},
     "output_type": "execute_result"
    }
   ],
   "source": [
    "print(d)\n",
    "print()\n",
    "print(f)\n",
    "print()\n",
    "\n",
    "d**f"
   ]
  },
  {
   "cell_type": "code",
   "execution_count": null,
   "metadata": {},
   "outputs": [
    {
     "name": "stdout",
     "output_type": "stream",
     "text": [
      "torch.Size([2, 4, 3])\n",
      "\n",
      "tensor([[[1, 2, 3],\n",
      "         [1, 2, 3],\n",
      "         [1, 2, 3],\n",
      "         [1, 2, 3]],\n",
      "\n",
      "        [[4, 5, 6],\n",
      "         [4, 5, 6],\n",
      "         [4, 5, 6],\n",
      "         [4, 5, 6]]])\n",
      "tensor([[2, 2, 2, 2],\n",
      "        [5, 5, 5, 5]])\n",
      "torch.Size([2, 4])\n",
      "\n",
      "tensor([[2, 2, 2, 2],\n",
      "        [5, 5, 5, 5]])\n",
      "torch.Size([2, 4])\n",
      "\n"
     ]
    }
   ],
   "source": [
    "print(a.shape)\n",
    "print()\n",
    "print(a)\n",
    "\n",
    "print(a[..., 1])\n",
    "print(a[..., 1].shape)\n",
    "print()\n",
    "\n",
    "print(a[:,:, 1])\n",
    "print(a[:,:, 1].shape)\n",
    "print()"
   ]
  },
  {
   "cell_type": "code",
   "execution_count": null,
   "metadata": {},
   "outputs": [],
   "source": [
    "import jax\n",
    "jax.devices()\n",
    "\n",
    "import os\n",
    "print(os.environ.get(\"CUDA_HOME\"))  # Check CUDA_HOME\n",
    "print(os.environ.get(\"LD_LIBRARY_PATH\"))  # Check LD_LIBRARY_PATH (Linux/macOS)\n",
    "print(os.environ.get(\"PATH\"))  # Check PATH (Windows)\n",
    "\n",
    "print('-------------')\n",
    "import torch\n",
    "print(torch.backends.cudnn.version())"
   ]
  },
  {
   "cell_type": "code",
   "execution_count": 38,
   "metadata": {},
   "outputs": [
    {
     "name": "stdout",
     "output_type": "stream",
     "text": [
      "\n",
      " p0 shape : torch.Size([3, 4, 3])\n",
      " p1 shape : torch.Size([3, 4, 3])\n",
      " p2 shape : torch.Size([3, 4, 3])\n",
      " is_S0 shape : torch.Size([3, 4, 3])\n",
      "\n",
      " cp1 shape : torch.Size([3, 4, 3])\n",
      " cp2 shape : torch.Size([3, 4, 3])\n",
      " cp3 shape : torch.Size([3, 4, 3])\n",
      " cp4 shape : torch.Size([3, 4, 3])\n",
      " time_fac shape : torch.Size([3, 4])\n",
      " t shape : torch.Size([3, 4])\n",
      "\n",
      "time traj shape : torch.Size([3, 4, 5])\n",
      "\n",
      "time traj shape : torch.Size([3, 4, 1, 5])\n",
      " cp1 shape : torch.Size([3, 4, 3, 1])\n",
      " cp2 shape : torch.Size([3, 4, 3, 1])\n",
      " cp3 shape : torch.Size([3, 4, 3, 1])\n",
      " cp4 shape : torch.Size([3, 4, 3, 1])\n",
      "\n",
      "desired_foot_pos_traj shape : torch.Size([3, 4, 3, 5])\n",
      "desired_foot_vel_traj shape : torch.Size([3, 4, 3, 5])\n",
      "desired_foot_acc_traj shape : torch.Size([3, 4, 3, 5])\n"
     ]
    }
   ],
   "source": [
    "import torch\n",
    "\n",
    "\"\"\" Given feet position sequence and contact sequence -> compute swing trajectories by fitting a cubic spline between\n",
    "the lift-off and the touch down define in the contact sequence. \n",
    "- Swing frequency and duty cycle are used to compute the swing period\n",
    "- A middle point is used for the interpolation : which is heuristically defined. It defines the step height\n",
    "- p1 (middle point) and p2 (touch-down) are updated each time, while p0 is conserved (always the same lift off position)\n",
    "\n",
    "Args:\n",
    "    - p   (torch.Tensor): Foot position sequence                of shape(batch_size, num_legs, 3, time_horizon)\n",
    "    - c   (torch.Tensor): Foot contact sequence                 of shape(c)\n",
    "    - f   (torch.Tensor): Leg frequency                         of shape(batch_size, num_legs)\n",
    "    - d   (torch.Tensor): Stepping duty cycle                   of shape(batch_size, num_legs)\n",
    "    - decimation   (int): Number of timestep for the traj.\n",
    "\n",
    "Returns:\n",
    "    - pt  (torch.Tensor): Desired Swing Leg trajectories        of shape(batch_size, num_legs, 9, decimation)   (9 = xyz_pos, xzy_vel, xyz_acc)\n",
    "\"\"\"\n",
    "\n",
    "batch_size = 3\n",
    "num_legs = 4\n",
    "time_horizon = 5\n",
    "dt_out = 0.1\n",
    "dt_in = 0.1\n",
    "\n",
    "d = torch.randn(batch_size, num_legs)\n",
    "f = torch.randn(batch_size, num_legs)\n",
    "p = torch.randn(batch_size, num_legs, 3, time_horizon)\n",
    "c = torch.empty(batch_size, num_legs, time_horizon).bernoulli(0.5).bool()\n",
    "c_prev = torch.randn(batch_size, num_legs)\n",
    "p0 = torch.randn(batch_size, num_legs, 3)\n",
    "swing_time = torch.randn(batch_size, num_legs)\n",
    "\n",
    "\n",
    "# Step 0. Define and Compute usefull variables\n",
    "\n",
    "# Heuristic TODO Save that on the right place, could also be a RL variable\n",
    "step_height = 0.05\n",
    "\n",
    "# Time during wich the leg is in swing. TODO Why +0.07 ? Is it an heuristic also ?\n",
    "# Shape (batch_size, num_legs)\n",
    "swing_period = ((1-d) / f) + 0.07\n",
    "\n",
    "half_swing_period = swing_period / 2\n",
    "time_fac = 1 / (swing_period / 2) #bezier_time_factor\n",
    "\n",
    "\n",
    "# Step 1. Retrieve the three interpolation points : p0, p1, p2 (lift-off, middle point, touch down)\n",
    "\n",
    "# Retrieve p0 : If c(0)=0 and c(-1)=1 : The leg lift-off -> p0 = p(0) # TODO p(0) or must it be from simulation data ? TODO Must it be p(0) or p(-1)\n",
    "# Update only the p0 that are new lift off positions (unsqueeze lifting off -> shape(batc_size, num_legs, 1) to make it compatible for multiplication with p shape)\n",
    "# shape (batch_size, num_legs, 3) \n",
    "lifting_off = ((c[:,:,0]==0) * (c_prev == 1)).unsqueeze(-1)\n",
    "p0 = (p[:,:,:,0] * lifting_off) + (p0 * ~lifting_off)  \n",
    "\n",
    "# Retrieve p2 : Retrieve the index of the touch down in the contact sequence : First Non-zero Index : shape(batch_size, num_legs)\n",
    "# Set the last value of c as ONE to avoid the case of only 0 in the contact sequence, wich return the first element (make more sense to retrun the last)\n",
    "# With the touch_down index, retrieve the touch down foot position : p2. !!! Need to chanhe Idx shape from (batch_size, num_legs) to (batch_size, num_legs, 3, 1)!!!\n",
    "# shape (batch_size, num_legs, 3) \n",
    "c[:,:,-1] = 1 # TODO Does it modify c also outside this function ?\n",
    "first_non_zero_indx = torch.argmax((c!=0).float(), dim=-1)\n",
    "\n",
    "# print(' p shape :', p.shape)\n",
    "# print(' Idx shape :', first_non_zero_indx.shape)\n",
    "# print(first_non_zero_indx)\n",
    "# print()\n",
    "# print(' Idx shape :', first_non_zero_indx.unsqueeze(-1).expand(-1,-1,3).shape)\n",
    "# print(first_non_zero_indx.unsqueeze(-1).expand(-1,-1,3))\n",
    "# print()\n",
    "# print()\n",
    "p2 = torch.gather(p, -1, first_non_zero_indx.unsqueeze(-1).unsqueeze(-1)).squeeze(-1)\n",
    "p2 = torch.gather(p, -1, first_non_zero_indx.unsqueeze(-1).expand(-1,-1,3).unsqueeze(-1)).squeeze(-1)\n",
    "\n",
    "# Retrieve p1 : (x,y) position are define as the middle point between p0 and p1 (lift-off and touch-down). z is heuristcally define\n",
    "# shape (batch_size, num_legs, 3)\n",
    "p1 = (p0[:,:,:2] + p2[:,:,:2]) / 2     # p1(x,y) is in the middle of p0 and p2\n",
    "p1 = torch.cat((p1, step_height*torch.ones_like(p1[:,:,:1])), dim=2) # Append a third dimension z : defined as step_height\n",
    "\n",
    "# Step 2. Compute the parameters for the interpolation\n",
    "\n",
    "# Swing time : reset if lifting off, then increment by one time step (outer loop) (squeeze lifting_off : (batch_size, num_legs, 1)->(batch_size, num_legs))\n",
    "# then compute t in [0, Delta_t/2], which would be use for the spline interpolation\n",
    "# shape (batch_size, num_legs)\n",
    "# print()\n",
    "# print(' swing_time shape :', swing_time.shape)\n",
    "# print(' lifting_off shape :', lifting_off.shape)\n",
    "swing_time = (swing_time * ~lifting_off.squeeze(-1)) + dt_out\n",
    "t = swing_time % half_swing_period  # Swing time (half)\n",
    "\n",
    "# Compute the a,b,c,d polynimial coefficient for the cubic interpolation S(t) = a*t^3 + b*t^2 + c*t + d\n",
    "# If swing_time < swing period/2 -> S_0(t) (ie. first interpolation), otherwise -> S_1(t - delta_t/2) (ie. second interpolation)\n",
    "# cp_x shape (batch_size, num_legs, 3)\n",
    "print()\n",
    "print(' p0 shape :', p0.shape)\n",
    "print(' p1 shape :', p1.shape)\n",
    "print(' p2 shape :', p2.shape)\n",
    "print(' is_S0 shape :', is_S0.shape)\n",
    "\n",
    "is_S0 = (swing_time <=  half_swing_period).unsqueeze(-1).expand(*[-1] * len(swing_time.shape), 3)  # shape (batch_size, num_legs, 3)\n",
    "cp1 = (p0 * is_S0)                                         + (p1 * ~is_S0)\n",
    "cp2 = (p0 * is_S0)                                         + (torch.cat((p2[:,:,:2], p1[:,:,2:]), dim=2)* ~is_S0)\n",
    "cp3 = (torch.cat((p0[:,:,:2], p1[:,:,2:]), dim=2) * is_S0) + (p2 * ~is_S0)\n",
    "cp4 = (p1 * is_S0)                                              + (p2 * ~is_S0)\n",
    "\n",
    "print()\n",
    "print(' cp1 shape :', cp1.shape)\n",
    "print(' cp2 shape :', cp2.shape)\n",
    "print(' cp3 shape :', cp3.shape)\n",
    "print(' cp4 shape :', cp4.shape)\n",
    "print(' time_fac shape :', time_fac.shape)\n",
    "print(' t shape :', t.shape)\n",
    "\n",
    "\n",
    "# time_fac, t : shape(batch_size, num_legs) -> unsqueezed(-1) -> Shape (batch_size, num_legs, 1)\n",
    "# (arrange = [0,1,2,...])*dt.unsqueeze(0).unsqueeze(-1)       -> Shape (1, 1, time_horizon)\n",
    "# time traj : Shape (batch_size, num_legs, time_horizon)\n",
    "time_traj = (time_fac*t).unsqueeze(-1) + (torch.arange(time_horizon)*dt_in).unsqueeze(0).unsqueeze(0)\n",
    "print()\n",
    "print('time traj shape :', time_traj.shape)\n",
    "\n",
    "cp1 = cp1.unsqueeze(-1)\n",
    "cp2 = cp2.unsqueeze(-1)\n",
    "cp3 = cp3.unsqueeze(-1)\n",
    "cp4 = cp4.unsqueeze(-1)\n",
    "\n",
    "time_traj = time_traj.unsqueeze(2)\n",
    "print()\n",
    "print('time traj shape :', time_traj.shape)\n",
    "print(' cp1 shape :', cp1.shape)\n",
    "print(' cp2 shape :', cp2.shape)\n",
    "print(' cp3 shape :', cp3.shape)\n",
    "print(' cp4 shape :', cp4.shape)\n",
    "\n",
    "\n",
    "# Step 3. Compute the interpolation trajectory\n",
    "desired_foot_pos_traj = cp1*(1 - time_traj)**3 + 3*cp2*(time_traj)*(1 - time_traj)**2 + 3*cp3*((time_traj)**2)*(1 - time_traj) + cp4*(time_traj)**3\n",
    "desired_foot_vel_traj = 3*(cp2 - cp1)*(1 - time_traj)**2 + 6*(cp3 - cp2)*(1 - time_traj)*(time_traj) + 3*(cp4 - cp3)*(time_traj)**2\n",
    "desired_foot_acc_traj = 6*(1 - time_traj) * (cp3 - 2*cp2 + cp1) + 6 * (time_traj) * (cp4 - 2*cp3 + cp2)\n",
    "pt = torch.cat((desired_foot_pos_traj, desired_foot_vel_traj, desired_foot_acc_traj), dim=2)\n",
    "\n",
    "print()\n",
    "print('desired_foot_pos_traj shape :', desired_foot_pos_traj.shape)\n",
    "print('desired_foot_vel_traj shape :', desired_foot_vel_traj.shape)\n",
    "print('desired_foot_acc_traj shape :', desired_foot_acc_traj.shape)"
   ]
  },
  {
   "cell_type": "code",
   "execution_count": null,
   "metadata": {},
   "outputs": [],
   "source": [
    "def swing_trajectory_generator(self, p: torch.Tensor, c: torch.Tensor, f: torch.Tensor, d: torch.Tensor) -> torch.Tensor:\n",
    "        \"\"\" Given feet position sequence and contact sequence -> compute swing trajectories by fitting a cubic spline between\n",
    "        the lift-off and the touch down define in the contact sequence. \n",
    "        - Swing frequency and duty cycle are used to compute the swing period\n",
    "        - A middle point is used for the interpolation : which is heuristically defined. It defines the step height\n",
    "        - p1 (middle point) and p2 (touch-down) are updated each time, while p0 is conserved (always the same lift off position)\n",
    "\n",
    "        Args:\n",
    "            - p   (torch.Tensor): Foot position sequence                of shape(batch_size, num_legs, 3, time_horizon)\n",
    "            - c   (torch.Tensor): Foot contact sequence                 of shape(batch_size, num_legs, time_horizon)\n",
    "            - f   (torch.Tensor): Leg frequency                         of shape(batch_size, num_legs)\n",
    "            - d   (torch.Tensor): Stepping duty cycle                   of shape(batch_size, num_legs)\n",
    "\n",
    "        Returns:\n",
    "            - pt  (torch.Tensor): Desired Swing Leg trajectories        of shape(batch_size, num_legs, 9, decimation)   (9 = xyz_pos, xzy_vel, xyz_acc)\n",
    "        \"\"\"\n",
    "\n",
    "        # Step 0. Define and Compute usefull variables\n",
    "\n",
    "        # Heuristic TODO Save that on the right place, could also be a RL variable\n",
    "        step_height = 0.05\n",
    "\n",
    "        # Time during wich the leg is in swing.(add small numerical value to denominator to avoid division by 0)\n",
    "        # Shape (batch_size, num_legs)\n",
    "        swing_period = ((1-d) / (f.abs()+1e-10))\n",
    "        half_swing_period = swing_period / 2\n",
    "        time_fac = 1 / ((swing_period.abs()+1e-10) / 2) #bezier_time_factor\n",
    "\n",
    "\n",
    "        # Step 1. Retrieve the three interpolation points : p0, p1, p2 (lift-off, middle point, touch down)\n",
    "\n",
    "        # Retrieve p0 : If c(0)=0 and c(-1)=1 : The leg lift-off -> p0 = p(-1) (value from simulation : the last value where c=1)\n",
    "        # Update only the p0 that are new lift off positions (unsqueeze lifting off -> shape(batc_size, num_legs, 1) to make it compatible for multiplication with p shape)\n",
    "        # p0 shape (batch_size, num_legs, 3) \n",
    "        lifting_off = ((c[:,:,0]==0) * (self.c_prev == 1)).unsqueeze(-1)  \n",
    "        self.p0 = (self.p_sim_prev * lifting_off) + (self.p0 * ~lifting_off)  \n",
    "\n",
    "        # Retrieve p2 : Retrieve the index of the touch down in the contact sequence : First Non-zero Index : shape(batch_size, num_legs)\n",
    "        # Set the last value of c as ONE to avoid the case of only 0 in the contact sequence, wich return the first element (make more sense to retrun the last)\n",
    "        # With the touch_down index, retrieve the touch down foot position : p2\n",
    "        # Idx shape : (batch_size, num_legs) -> must transform to (batch_size, num_legs, 3, 1) to retrieve position from p of shape (batch_size, num_legs, 3, time_horizon)\n",
    "        # p2 shape (batch_size, num_legs, 3) \n",
    "        c[:,:,-1] = 1 # TODO Does it modify c also outside this function ?\n",
    "        first_non_zero_indx = torch.argmax((c!=0).float(), dim=-1)\n",
    "        p2 = torch.gather(p, -1, first_non_zero_indx.unsqueeze(-1).expand(-1,-1,3).unsqueeze(-1)).squeeze(-1)\n",
    "\n",
    "        # Retrieve p1 : (x,y) position are define as the middle point between p0 and p1 (lift-off and touch-down). z is heuristcally define\n",
    "        # p1 shape (batch_size, num_legs, 3)\n",
    "        p1 = (self.p0[:,:,:2] + p2[:,:,:2]) / 2     # p1(x,y) is in the middle of p0 and p2\n",
    "        p1 = torch.cat((p1, step_height*torch.ones_like(p1[:,:,:1])), dim=2) # Append a third dimension z : defined as step_height\n",
    "\n",
    "        # Step 2. Compute the parameters for the interpolation\n",
    "\n",
    "        # Swing time : reset if lifting off, then increment by one time step (outer loop)  (squeeze lifting_off : (batch_size, num_legs, 1)->(batch_size, num_legs))\n",
    "        # then compute t in [0, Delta_t/2], which would be use for the spline interpolation\n",
    "        # t & swing_time shape (batch_size, num_legs)\n",
    "        self.swing_time = (self.swing_time * ~lifting_off.squeeze(-1)) + self._dt_out\n",
    "        t = self.swing_time % (half_swing_period.abs() + 1e-10)  # Swing time (half) : add small numerical value to avoid nan when % 0\n",
    "\n",
    "        # Compute the a,b,c,d polynimial coefficient for the cubic interpolation S(t) = a*t^3 + b*t^2 + c*t + d\n",
    "        # If swing_time < swing period/2 -> S_0(t) (ie. first interpolation), otherwise -> S_1(t - delta_t/2) (ie. second interpolation)\n",
    "        # cp_x shape (batch_size, num_legs, 3)\n",
    "        is_S0 = (self.swing_time <=  half_swing_period).unsqueeze(-1).expand(*[-1] * len(self.swing_time.shape), 3)  # shape (batch_size, num_legs, 3)\n",
    "        cp1 = (self.p0 * is_S0)                                         + (p1 * ~is_S0)\n",
    "        cp2 = (self.p0 * is_S0)                                         + (torch.cat((p2[:,:,:2], p1[:,:,2:]), dim=2)* ~is_S0)\n",
    "        cp3 = (torch.cat((self.p0[:,:,:2], p1[:,:,2:]), dim=2) * is_S0) + (p2 * ~is_S0)\n",
    "        cp4 = (p1 * is_S0)                                              + (p2 * ~is_S0)\n",
    "\n",
    "        # Step 3. Prepare parameters to compute interpolation trajectory in one operation -> matrix multiplication\n",
    "        \n",
    "        # Generate the time trajectory t -> [t, t + dt, t+ 2*dt,...]\n",
    "        # time_fac, t : shape(batch_size, num_legs) -> unsqueezed(-1) -> Shape (batch_size, num_legs, 1)\n",
    "        # (arrange = [0,1,2,...])*dt.unsqueeze(0).unsqueeze(-1)       -> Shape (1, 1, decimation)\n",
    "        # time traj : Shape (batch_size, num_legs, decimation)\n",
    "        t_traj = (time_fac*t).unsqueeze(-1) + (torch.arange(self._decimation, device=self._device)*self._dt_in).unsqueeze(0).unsqueeze(0)\n",
    "\n",
    "        # Prepare cp_x to be mutltiplied by the time traj :  shape(batch_size, num_leg, 3) -> (batch_size, num_leg, 3, 1)\n",
    "        cp1 = cp1.unsqueeze(-1)\n",
    "        cp2 = cp2.unsqueeze(-1)\n",
    "        cp3 = cp3.unsqueeze(-1)\n",
    "        cp4 = cp4.unsqueeze(-1)\n",
    "\n",
    "        # Prepare time traj to be multplied by cp_x : shape(batch_size, num_leg, decimation) -> (batch_size, num_leg, 1, decimation)\n",
    "        t_traj = t_traj.unsqueeze(2)\n",
    "\n",
    "\n",
    "        # Step 4. Compute the interpolation trajectory\n",
    "        # shape (batch_size, num_legs, 3, decimation)\n",
    "        desired_foot_pos_traj = cp1*(1 - t_traj)**3 + 3*cp2*(t_traj)*(1 - t_traj)**2 + 3*cp3*((t_traj)**2)*(1 - t_traj) + cp4*(t_traj)**3\n",
    "        desired_foot_vel_traj = 3*(cp2 - cp1)*(1 - t_traj)**2 + 6*(cp3 - cp2)*(1 - t_traj)*(t_traj) + 3*(cp4 - cp3)*(t_traj)**2\n",
    "        desired_foot_acc_traj = 6*(1 - t_traj) * (cp3 - 2*cp2 + cp1) + 6 * (t_traj) * (cp4 - 2*cp3 + cp2)\n",
    "\n",
    "        # shape (batch_size, num_legs, 9, decimation) (9 = xyz_pos, xzy_vel, xyz_acc)\n",
    "        pt = torch.cat((desired_foot_pos_traj, desired_foot_vel_traj, desired_foot_acc_traj), dim=2)\n",
    "\n",
    "        if(pt.isnan().any()):\n",
    "            print('alo')\n",
    "        return pt"
   ]
  },
  {
   "cell_type": "code",
   "execution_count": 32,
   "metadata": {},
   "outputs": [
    {
     "data": {
      "text/plain": [
       "tensor([0., 1., 2., 3., 4., 5., 6., 7., 8., 9.])"
      ]
     },
     "execution_count": 32,
     "metadata": {},
     "output_type": "execute_result"
    }
   ],
   "source": [
    "torch.arange(10).float()"
   ]
  },
  {
   "cell_type": "code",
   "execution_count": 2,
   "metadata": {},
   "outputs": [
    {
     "data": {
      "text/plain": [
       "torch.Size([10, 4, 3, 3])"
      ]
     },
     "execution_count": 2,
     "metadata": {},
     "output_type": "execute_result"
    }
   ],
   "source": [
    "import torch\n",
    "\n",
    "J = torch.randn(10,4,3,3)\n",
    "R = torch.randn(10,3,3)\n",
    "\n",
    "torch.matmul(J,R.unsqueeze(1)).shape"
   ]
  },
  {
   "cell_type": "code",
   "execution_count": null,
   "metadata": {},
   "outputs": [],
   "source": [
    "        # Riccardo's Jacobian\n",
    "        from omni.isaac.orbit.managers import SceneEntityCfg\n",
    "\n",
    "        fl_entity_cfg = SceneEntityCfg(\"robot\", joint_names=[\"FL.*\"], body_names=[\"FL_foot\"])\n",
    "        fl_entity_cfg.resolve(self._env.scene)\n",
    "        fl_jacobi_idx = fl_entity_cfg.body_ids[0]\n",
    "        fl_jacobian = self._asset.root_physx_view.get_jacobians()[:, fl_jacobi_idx, :, np.array(fl_entity_cfg.joint_ids) + 6]"
   ]
  },
  {
   "cell_type": "code",
   "execution_count": null,
   "metadata": {},
   "outputs": [],
   "source": [
    "        # Retrieve p2 : Retrieve the index of the touch down in the contact sequence : First Non-zero Index : shape(batch_size, num_legs)\n",
    "        # Set the last value of c as ONE to avoid the case of only 0 in the contact sequence, wich return the first element (make more sense to retrun the last)\n",
    "        # With the touch_down index, retrieve the touch down foot position : p2\n",
    "        # Idx shape : (batch_size, num_legs) -> must transform to (batch_size, num_legs, 3, 1) to retrieve position from p of shape (batch_size, num_legs, 3, time_horizon)\n",
    "        # p2 shape (batch_size, num_legs, 3) \n",
    "        c[:,:,-1] = 1 # TODO Does it modify c also outside this function ?\n",
    "        first_non_zero_indx = torch.argmax((c!=0).float(), dim=-1)\n",
    "        p2 = torch.gather(p_b, -1, first_non_zero_indx.unsqueeze(-1).expand(-1,-1,3).unsqueeze(-1)).squeeze(-1)"
   ]
  },
  {
   "cell_type": "code",
   "execution_count": null,
   "metadata": {},
   "outputs": [],
   "source": [
    " def swing_trajectory_generator(self, p_lw: torch.Tensor, c: torch.Tensor, f: torch.Tensor, d: torch.Tensor) -> torch.Tensor:\n",
    "        \"\"\" Given feet position sequence and contact sequence -> compute swing trajectories by fitting a cubic spline between\n",
    "        the lift-off and the touch down define in the contact sequence. \n",
    "        - Swing frequency and duty cycle are used to compute the swing period\n",
    "        - A middle point is used for the interpolation : which is heuristically defined. It defines the step height\n",
    "        - p1 (middle point) and p2 (touch-down) are updated each time, while p0 is conserved (always the same lift off position)\n",
    "        Note :\n",
    "            The variable are in the 'local' world frame _wl. This notation is introduced to avoid confusion with the 'global' world frame, where all the batches coexists.\n",
    "        \n",
    "        Args:\n",
    "            - p_lw (trch.Tensor): Foot touch down postion in _lw        of shape(batch_size, num_legs, 3)\n",
    "            - c   (torch.Tensor): Foot contact sequence                 of shape(batch_size, num_legs, time_horizon)\n",
    "            - f   (torch.Tensor): Leg frequency                         of shape(batch_size, num_legs)\n",
    "            - d   (torch.Tensor): Stepping duty cycle                   of shape(batch_size, num_legs)\n",
    "\n",
    "        Returns:\n",
    "            - pt_lw (tch.Tensor): Desired Swing Leg traj. in _lw frame  of shape(batch_size, num_legs, 9, decimation)   (9 = xyz_pos, xzy_vel, xyz_acc)\n",
    "        \"\"\"\n",
    "\n",
    "        # Step 0. Define and Compute usefull variables\n",
    "\n",
    "        # Heuristic TODO Save that on the right place, could also be a RL variable\n",
    "        step_height = 0.05\n",
    "\n",
    "        # Time during wich the leg is in swing.(add small numerical value to denominator to avoid division by 0)\n",
    "        # Shape (batch_size, num_legs)\n",
    "        swing_period = ((1-d) / (f.abs()+1e-10))\n",
    "        half_swing_period = swing_period / 2\n",
    "        time_fac = 1 / ((swing_period.abs()+1e-10) / 2) #bezier_time_factor\n",
    "\n",
    "\n",
    "        # Step 1. Retrieve the three interpolation points : p0, p1, p2 (lift-off, middle point, touch down)\n",
    "\n",
    "        # Retrieve p0 : If c(0)=0 and c(-1)=1 : The leg lift-off -> p0 = p(-1) (value from simulation : the last value where c=1)\n",
    "        # Update only the p0 that are new lift off positions (unsqueeze lifting off -> shape(batc_size, num_legs, 1) to make it compatible for multiplication with p shape)\n",
    "        # p0 shape (batch_size, num_legs, 3) \n",
    "        # TODO Improve this and debug using viz\n",
    "        lifting_off = ((c[:,:,0]==0) * (self.c_prev == 1)).unsqueeze(-1)  \n",
    "        self.p0 = (self.p_lw_sim_prev * lifting_off) + (self.p0 * ~lifting_off)  \n",
    "\n",
    "        # Retrieve p2 : this is simply the foot touch down prior given as input\n",
    "        # p2 shape (batch_size, num_legs, 3) \n",
    "        p2 = p_lw \n",
    "\n",
    "        # Retrieve p1 : (x,y) position are define as the middle point between p0 and p1 (lift-off and touch-down). z is heuristcally define\n",
    "        # p1 shape (batch_size, num_legs, 3)\n",
    "        # TODO Not only choose height as step heigh but use +the terrain height or +the feet height at touch down\n",
    "        p1 = (self.p0[:,:,:2] + p2[:,:,:2]) / 2     # p1(x,y) is in the middle of p0 and p2\n",
    "        p1 = torch.cat((p1, step_height*torch.ones_like(p1[:,:,:1])), dim=2) # Append a third dimension z : defined as step_height\n",
    "\n",
    "        # Step 2. Compute the parameters for the interpolation\n",
    "\n",
    "        # Swing time : reset if lifting off, then increment by one time step (outer loop)  (squeeze lifting_off : (batch_size, num_legs, 1)->(batch_size, num_legs))\n",
    "        # then compute t in [0, Delta_t/2], which would be use for the spline interpolation\n",
    "        # t & swing_time shape (batch_size, num_legs)\n",
    "        self.swing_time = (self.swing_time * ~lifting_off.squeeze(-1)) + self._dt_out\n",
    "        t = self.swing_time % (half_swing_period.abs() + 1e-10)  # Swing time (half) : add small numerical value to avoid nan when % 0\n",
    "\n",
    "        # Compute the a,b,c,d polynimial coefficient for the cubic interpolation S(t) = a*t^3 + b*t^2 + c*t + d\n",
    "        # If swing_time < swing period/2 -> S_0(t) (ie. first interpolation), otherwise -> S_1(t - delta_t/2) (ie. second interpolation)\n",
    "        # cp_x shape (batch_size, num_legs, 3)\n",
    "        is_S0 = (self.swing_time <=  half_swing_period).unsqueeze(-1).expand(*[-1] * len(self.swing_time.shape), 3)  # shape (batch_size, num_legs, 3)\n",
    "        cp1 = (self.p0 * is_S0)                                         + (p1 * ~is_S0)\n",
    "        cp2 = (self.p0 * is_S0)                                         + (torch.cat((p2[:,:,:2], p1[:,:,2:]), dim=2)* ~is_S0)\n",
    "        cp3 = (torch.cat((self.p0[:,:,:2], p1[:,:,2:]), dim=2) * is_S0) + (p2 * ~is_S0)\n",
    "        cp4 = (p1 * is_S0)                                              + (p2 * ~is_S0)\n",
    "\n",
    "        # Step 3. Prepare parameters to compute interpolation trajectory in one operation -> matrix multiplication\n",
    "        \n",
    "        # Generate the time trajectory t -> [t, t + dt, t+ 2*dt,...]\n",
    "        # time_fac, t : shape(batch_size, num_legs) -> unsqueezed(-1) -> Shape (batch_size, num_legs, 1)\n",
    "        # (arrange = [0,1,2,...])*dt.unsqueeze(0).unsqueeze(-1)       -> Shape (1, 1, decimation)\n",
    "        # time traj : Shape (batch_size, num_legs, decimation)\n",
    "        t_traj = (time_fac*t).unsqueeze(-1) + (torch.arange(self._decimation, device=self._device)*self._dt_in).unsqueeze(0).unsqueeze(0)\n",
    "\n",
    "        # Prepare cp_x to be mutltiplied by the time traj :  shape(batch_size, num_leg, 3) -> (batch_size, num_leg, 3, 1)\n",
    "        cp1 = cp1.unsqueeze(-1)\n",
    "        cp2 = cp2.unsqueeze(-1)\n",
    "        cp3 = cp3.unsqueeze(-1)\n",
    "        cp4 = cp4.unsqueeze(-1)\n",
    "\n",
    "        # Prepare time traj to be multplied by cp_x : shape(batch_size, num_leg, decimation) -> (batch_size, num_leg, 1, decimation)\n",
    "        t_traj = t_traj.unsqueeze(2)\n",
    "\n",
    "\n",
    "        # Step 4. Compute the interpolation trajectory\n",
    "        # shape (batch_size, num_legs, 3, decimation)\n",
    "        desired_foot_pos_traj = cp1*(1 - t_traj)**3 + 3*cp2*(t_traj)*(1 - t_traj)**2 + 3*cp3*((t_traj)**2)*(1 - t_traj) + cp4*(t_traj)**3\n",
    "        desired_foot_vel_traj = 3*(cp2 - cp1)*(1 - t_traj)**2 + 6*(cp3 - cp2)*(1 - t_traj)*(t_traj) + 3*(cp4 - cp3)*(t_traj)**2\n",
    "        desired_foot_acc_traj = 6*(1 - t_traj) * (cp3 - 2*cp2 + cp1) + 6 * (t_traj) * (cp4 - 2*cp3 + cp2)\n",
    "\n",
    "        # shape (batch_size, num_legs, 9, decimation) (9 = xyz_pos, xzy_vel, xyz_acc)\n",
    "        pt_b = torch.cat((desired_foot_pos_traj, desired_foot_vel_traj, desired_foot_acc_traj), dim=2)\n",
    "\n",
    "        if(pt_b.isnan().any()):\n",
    "            print('alo')\n",
    "        return pt_b"
   ]
  },
  {
   "cell_type": "code",
   "execution_count": null,
   "metadata": {},
   "outputs": [],
   "source": [
    "\n",
    "    def get_robot_state(self):\n",
    "        \"\"\" Retrieve the Robot states from the simulator\n",
    "\n",
    "        Return :\n",
    "            - p   (torch.Tensor): Feet Position  (latest from sim)      of shape(batch_size, num_legs, 3)\n",
    "            - p_dot (tch.Tensor): Feet velocity  (latest from sim)      of shape(batch_size, num_legs, 3)\n",
    "            - q_dot (tch.Tensor): Joint velocity (latest from sim)      of shape(batch_size, num_legs, num_joints_per_leg)\n",
    "            - jacobian_w  (Tsor): Jacobian -> joint frame to foot frame of shape(batch_size, num_legs, 3, num_joints_per_leg)\n",
    "            - jacobian_dot_w (T): Jacobian derivative (forward euler)   of shape(batch_size, num_legs, 3, num_joints_per_leg)\n",
    "            - mass_matrix (Tsor): Mass Matrix in joint space            of shape(batch_size, num_legs, num_joints_per_leg, num_joints_per_leg)\n",
    "            - h   (torch.Tensor): C(q,q_dot) + G(q) (corr. and grav F.) of shape(batch_size, num_legs, num_joints_per_leg)\n",
    "        \"\"\"\n",
    "\n",
    "        # Retrieve robot base position and orientation in order to compute world->base frame transformation\n",
    "        robot_pos_w = self._asset.data.root_pos_w       # shape (batch_size, 3) (xyz)\n",
    "        robot_orientation_w = self._asset.data.root_quat_w # shape (batch_size, 4) (quaternions)\n",
    "        robot_vel_w = self._asset.data.root_lin_vel_w\n",
    "        # robot_ang_vel_w = self._asset.data.root_ang_vel_w\n",
    "\n",
    "        # Retrieve Feet position in world frame : [num_instances, num_bodies, 3] select right indexes to get \n",
    "        # shape(batch_size, num_legs, 3)\n",
    "        # Finally apply frame transformation to get feet position in body frame\n",
    "        p_w = self._asset.data.body_pos_w[:, self._foot_idx,:]\n",
    "        p_orientation_w = self._asset.data.body_quat_w[:, self._foot_idx,:]\n",
    "        p_b_0, _ = math_utils.subtract_frame_transforms(robot_pos_w, robot_orientation_w, p_w[:,0,:], p_orientation_w[:,0,:])\n",
    "        p_b_1, _ = math_utils.subtract_frame_transforms(robot_pos_w, robot_orientation_w, p_w[:,1,:], p_orientation_w[:,1,:])\n",
    "        p_b_2, _ = math_utils.subtract_frame_transforms(robot_pos_w, robot_orientation_w, p_w[:,2,:], p_orientation_w[:,2,:])\n",
    "        p_b_3, _ = math_utils.subtract_frame_transforms(robot_pos_w, robot_orientation_w, p_w[:,3,:], p_orientation_w[:,3,:])\n",
    "        p_b = torch.cat((p_b_0.unsqueeze(1), p_b_1.unsqueeze(1), p_b_2.unsqueeze(1), p_b_3.unsqueeze(1)), dim=1)\n",
    "\n",
    "        # Retrieve Feet velocity in world frame : [num_instances, num_bodies, 3] select right indexes to get \n",
    "        # shape(batch_size, num_legs, 3)\n",
    "        # Finally apply frame transformation to get feet position in body frame\n",
    "        p_dot_w = self._asset.data.body_lin_vel_w[:, self._foot_idx,:]\n",
    "        # p_dot_orientation_w = self._asset.data.body_ang_vel_w[:, self._foot_idx, :]\n",
    "        p_dot_b_0, _ = math_utils.subtract_frame_transforms(robot_vel_w, robot_orientation_w, p_dot_w[:,0,:], p_orientation_w[:,0,:])\n",
    "        p_dot_b_1, _ = math_utils.subtract_frame_transforms(robot_vel_w, robot_orientation_w, p_dot_w[:,1,:], p_orientation_w[:,1,:])\n",
    "        p_dot_b_2, _ = math_utils.subtract_frame_transforms(robot_vel_w, robot_orientation_w, p_dot_w[:,2,:], p_orientation_w[:,2,:])\n",
    "        p_dot_b_3, _ = math_utils.subtract_frame_transforms(robot_vel_w, robot_orientation_w, p_dot_w[:,3,:], p_orientation_w[:,3,:])\n",
    "        p_dot_b = torch.cat((p_dot_b_0.unsqueeze(1), p_dot_b_1.unsqueeze(1), p_dot_b_2.unsqueeze(1), p_dot_b_3.unsqueeze(1)), dim=1)\n",
    "\n",
    "        # Retrieve Joint velocities [num_instances, num_joints] -> reorganise the view and permute to get the\n",
    "        # shape(batch_size, num_legs, num_joints_per_leg) : This is in joint space, no transformation required\n",
    "        q_dot = self._asset.data.joint_vel.view(-1,self._num_joints_per_leg,self._num_legs).permute(0,2,1)\n",
    "\n",
    "        # Retrieve Jacobian from sim  shape(batch_size, num_legs, 3, num_joints_per_leg) -> see method for implementation\n",
    "        jacobian_w, jacobian_b = self.get_jacobian()\n",
    "\n",
    "        # Compute jacobian derivative, using forward euler. shape(batch_size, num_legs, 3, num_joints_per_leg)\n",
    "        jacobian_dot_w = ((jacobian_w - self.jacobian_prev_w) / self._env.physics_dt)\n",
    "\n",
    "        # Save jacobian for next iteration : required to compute jacobian derivative shape(batch_size, num_legs, 3, num_joints_per_leg)\n",
    "        self.jacobian_prev_w = jacobian_w\n",
    "        \n",
    "        # Retrieve the mass Matrix\n",
    "        # Shape is (batch_size, num_joints, num_joints) (ie. 144 element), we have to extract num leg sub matrices from that to have \n",
    "        # shape (batch_size, num_leg, num_joints_per_leg, num_joints_per_leg) (ie. 36 elements)\n",
    "        # This is done with complex indexing operations\n",
    "        # mass_matrix_full = self._asset.root_physx_view.get_mass_matrices()\n",
    "        # mass_matrix_FL = mass_matrix_full[:,[0,4,8],:][:, [0,4,8]]\n",
    "        joints_idx_tensor = torch.Tensor(self._joints_idx).unsqueeze(2).unsqueeze(3).long() # long to use it to access indexes -> float trow an error\n",
    "        mass_matrix = self._asset.root_physx_view.get_mass_matrices()[:, joints_idx_tensor, joints_idx_tensor.transpose(1,2)].squeeze(-1)\n",
    "        \n",
    "        # Retrieve Corriolis, centrifugial and gravitationnal term\n",
    "        # get_coriolis_and_centrifugal_forces -> (batch_size, num_joints)\n",
    "        # get_generalized_gravity_forces -> (batch_size, num_joints)\n",
    "        # Reshape and tranpose to get the correct shape in correct joint order-> (batch_size, num_legs, num_joints_per_leg)\n",
    "        h = (self._asset.root_physx_view.get_coriolis_and_centrifugal_forces() + self._asset.root_physx_view.get_generalized_gravity_forces()).view(self.num_envs, self._num_joints_per_leg, self._num_legs).permute(0,2,1)\n",
    "\n",
    "        return p_b, p_dot_b, q_dot, jacobian_w, jacobian_dot_w, mass_matrix, h"
   ]
  },
  {
   "cell_type": "code",
   "execution_count": 13,
   "metadata": {},
   "outputs": [
    {
     "name": "stdout",
     "output_type": "stream",
     "text": [
      "tensor([[[ True,  True, False],\n",
      "         [ True, False, False],\n",
      "         [ True, False,  True],\n",
      "         [ True,  True,  True]],\n",
      "\n",
      "        [[False,  True, False],\n",
      "         [ True,  True,  True],\n",
      "         [ True,  True, False],\n",
      "         [ True, False, False]]])\n",
      "torch.Size([2, 4, 3])\n",
      "tensor([[ True,  True,  True,  True],\n",
      "        [False,  True,  True,  True]])\n"
     ]
    },
    {
     "data": {
      "text/plain": [
       "tensor([[ True,  True,  True,  True],\n",
       "        [False,  True,  True,  True]])"
      ]
     },
     "execution_count": 13,
     "metadata": {},
     "output_type": "execute_result"
    }
   ],
   "source": [
    "import torch\n",
    "\n",
    "c = torch.empty((2,4,3), dtype=torch.bool).bernoulli(0.5)\n",
    "print(c)\n",
    "print(c.shape)\n",
    "\n",
    "print(c[:,:,0])\n",
    "c[:,:,0]==1"
   ]
  },
  {
   "cell_type": "code",
   "execution_count": 19,
   "metadata": {},
   "outputs": [
    {
     "name": "stdout",
     "output_type": "stream",
     "text": [
      "torch.Size([4, 3])\n",
      "tensor([[ 0,  4,  8],\n",
      "        [ 1,  5,  9],\n",
      "        [ 2,  6, 10],\n",
      "        [ 3,  7, 11]])\n"
     ]
    },
    {
     "data": {
      "text/plain": [
       "tensor([ 0,  1,  2,  3,  4,  5,  6,  7,  8,  9, 10, 11])"
      ]
     },
     "execution_count": 19,
     "metadata": {},
     "output_type": "execute_result"
    }
   ],
   "source": [
    "jac = torch.tensor([[0,4,8],[1,5,9],[2,6,10],[3,7,11]])\n",
    "print(jac.shape)\n",
    "print(jac)\n",
    "\n",
    "jac.permute(1,0).flatten()"
   ]
  },
  {
   "cell_type": "code",
   "execution_count": 9,
   "metadata": {},
   "outputs": [
    {
     "name": "stdout",
     "output_type": "stream",
     "text": [
      "torch.Size([4, 3])\n"
     ]
    },
    {
     "data": {
      "text/plain": [
       "3"
      ]
     },
     "execution_count": 9,
     "metadata": {},
     "output_type": "execute_result"
    }
   ],
   "source": [
    "import torch\n",
    "f = torch.tensor([[0,4,8],[1,5,9],[2,6,10],[3,7,11]])\n",
    "print(f.shape)\n",
    "\n",
    "f.shape[1:].numel()"
   ]
  },
  {
   "cell_type": "code",
   "execution_count": 28,
   "metadata": {},
   "outputs": [
    {
     "name": "stdout",
     "output_type": "stream",
     "text": [
      "tensor([[0., 0., 0., 0.],\n",
      "        [0., 0., 0., 0.],\n",
      "        [0., 0., 0., 0.]])\n",
      "\n",
      "tensor([[0., 0., 0., 0.],\n",
      "        [0., 0., 0., 0.],\n",
      "        [0., 0., 0., 0.]])\n",
      "\n",
      "tensor([[0.5000, 0.0000, 0.5000, 0.0000],\n",
      "        [0.0000, 0.0000, 0.0000, 0.0000],\n",
      "        [0.5000, 0.0000, 0.5000, 0.0000]])\n",
      "\n"
     ]
    }
   ],
   "source": [
    "import torch\n",
    "phase = torch.tensor([[0.0,0.0,0.0,0.0],[0.0,0.0,0.0,0.0], [0.0,0.0,0.0,0.0]])\n",
    "print(phase)\n",
    "print()\n",
    "\n",
    "env_ids = [0,2]\n",
    "\n",
    "phase[env_ids,:] = torch.zeros_like(phase)[env_ids,:]\n",
    "print(phase)\n",
    "print()\n",
    "\n",
    "# (phase[env_ids,:])[:,(0,2)] = 0.5 # Init phase [0.5, 0, 0.5, 0]\n",
    "phase[env_ids,0] = 0.5 # Init phase [0.5, 0, 0.5, 0]\n",
    "phase[env_ids,2] = 0.5 # Init phase [0.5, 0, 0.5, 0]\n",
    "print(phase)\n",
    "print()\n",
    "\n",
    "# print(phase[env_ids,:2])\n",
    "# print()\n",
    "\n",
    "# phase[:,(0,2)] = 0.5\n",
    "# print(phase)\n",
    "# print()\n"
   ]
  },
  {
   "cell_type": "code",
   "execution_count": 17,
   "metadata": {},
   "outputs": [
    {
     "name": "stdout",
     "output_type": "stream",
     "text": [
      "tensor([0.0000, 0.1000, 0.2000, 0.3000, 0.4000, 0.5000, 0.6000, 0.7000, 0.8000,\n",
      "        0.9000, 1.0000, 1.1000])\n",
      "tensor([ True,  True,  True,  True,  True,  True, False, False, False, False,\n",
      "        False, False])\n"
     ]
    },
    {
     "data": {
      "text/plain": [
       "tensor([0.0000, 0.2000, 0.4000, 0.6000, 0.8000, 1.0000, 0.2000, 0.4000, 0.6000,\n",
       "        0.8000, 1.0000, 1.0000])"
      ]
     },
     "execution_count": 17,
     "metadata": {},
     "output_type": "execute_result"
    }
   ],
   "source": [
    "import torch\n",
    "T = torch.tensor([[0,4,8],[1,5,9], [2,6,10],[3,7,11]])\n",
    "T.permute(1,0).reshape(12)\n",
    "\n",
    "phase = torch.arange(start=0, end=1.11, step=0.1)\n",
    "print(phase)\n",
    "\n",
    "is_S0 = phase <= 0.5\n",
    "\n",
    "print(is_S0)\n",
    "\n",
    "(2*phase - 1*(~is_S0)).clamp(0,1)"
   ]
  },
  {
   "cell_type": "code",
   "execution_count": 35,
   "metadata": {},
   "outputs": [
    {
     "name": "stdout",
     "output_type": "stream",
     "text": [
      "torch.Size([1, 1, 1, 22])\n",
      "torch.Size([1, 1, 1, 22])\n"
     ]
    }
   ],
   "source": [
    "import torch\n",
    "\n",
    "full_phase_traj = torch.cat((torch.arange(start=0, end=1.01, step=0.1), torch.arange(start=0, end=1.01, step=0.1))).unsqueeze(0).unsqueeze(1).unsqueeze(2)\n",
    "print(full_phase_traj.shape)\n",
    "is_S0 = (torch.arange(start=0, end=22, step=1) < 11).unsqueeze(0).unsqueeze(1).unsqueeze(2)\n",
    "print(is_S0.shape)"
   ]
  },
  {
   "cell_type": "code",
   "execution_count": 20,
   "metadata": {},
   "outputs": [
    {
     "name": "stdout",
     "output_type": "stream",
     "text": [
      "tensor([[[ 1.0000, -1.0000,  0.0300],\n",
      "         [ 2.0000, -2.0000,  0.0300],\n",
      "         [ 3.0000, -3.0000,  0.0300],\n",
      "         [ 4.0000, -4.0000,  0.0300]],\n",
      "\n",
      "        [[ 1.0000, -1.0000,  0.0300],\n",
      "         [ 2.0000, -2.0000,  0.0300],\n",
      "         [ 3.0000, -3.0000,  0.0300],\n",
      "         [ 4.0000, -4.0000,  0.0300]],\n",
      "\n",
      "        [[ 1.0000, -1.0000,  0.0300],\n",
      "         [ 2.0000, -2.0000,  0.0300],\n",
      "         [ 3.0000, -3.0000,  0.0300],\n",
      "         [ 4.0000, -4.0000,  0.0300]],\n",
      "\n",
      "        [[ 1.0000, -1.0000,  0.0300],\n",
      "         [ 2.0000, -2.0000,  0.0300],\n",
      "         [ 3.0000, -3.0000,  0.0300],\n",
      "         [ 4.0000, -4.0000,  0.0300]]])\n",
      "tensor([[[ 2.0000, -2.0000,  0.0300],\n",
      "         [ 3.0000, -3.0000,  0.0300],\n",
      "         [ 4.0000, -4.0000,  0.0300],\n",
      "         [ 1.0000, -1.0000,  0.0300]],\n",
      "\n",
      "        [[ 2.0000, -2.0000,  0.0300],\n",
      "         [ 3.0000, -3.0000,  0.0300],\n",
      "         [ 4.0000, -4.0000,  0.0300],\n",
      "         [ 1.0000, -1.0000,  0.0300]],\n",
      "\n",
      "        [[ 2.0000, -2.0000,  0.0300],\n",
      "         [ 3.0000, -3.0000,  0.0300],\n",
      "         [ 4.0000, -4.0000,  0.0300],\n",
      "         [ 1.0000, -1.0000,  0.0300]],\n",
      "\n",
      "        [[ 2.0000, -2.0000,  0.0300],\n",
      "         [ 3.0000, -3.0000,  0.0300],\n",
      "         [ 4.0000, -4.0000,  0.0300],\n",
      "         [ 1.0000, -1.0000,  0.0300]]])\n"
     ]
    }
   ],
   "source": [
    "import torch\n",
    "\n",
    "FOOT_OFFSET = 0.03\n",
    "# Find the corner points of the polygon - provide big values that will be clipped to corresponding bound\n",
    "# p shape(num_corners, 3)\n",
    "p = torch.tensor([[1,-1,FOOT_OFFSET],[2,-2,FOOT_OFFSET],[3,-3,FOOT_OFFSET],[4,-4,FOOT_OFFSET]])\n",
    "\n",
    "# Reshape p to be passed to transform_p_from_rl_to_lw -> (num_corner, num_legs, 3, 1)\n",
    "p = p.unsqueeze(1).expand(4,4,3)\n",
    "\n",
    "p = p.permute(1,0,2)\n",
    "# p[:,:,:] = 2*p[:,:,:]\n",
    "\n",
    "print(p)\n",
    "\n",
    "print(p.roll(-1,dims=1))"
   ]
  },
  {
   "cell_type": "code",
   "execution_count": 1,
   "metadata": {},
   "outputs": [
    {
     "data": {
      "text/plain": [
       "[<matplotlib.lines.Line2D at 0x754e7ac50580>]"
      ]
     },
     "execution_count": 1,
     "metadata": {},
     "output_type": "execute_result"
    },
    {
     "data": {
      "image/png": "[encoded data removed]",
      "text/plain": [
       "<Figure size 640x480 with 1 Axes>"
      ]
     },
     "metadata": {},
     "output_type": "display_data"
    }
   ],
   "source": [
    "import torch\n",
    "import matplotlib.pyplot as plt\n",
    "T = torch.tensor([[0,1,2,3,4,5,6,7,8],[2,7,11,4,5,6,1,2,3]])\n",
    "\n",
    "bound = [2.0,6.0]\n",
    "T.clamp(bound[0], bound[1])\n",
    "\n",
    "plt.plot(T[0,:])\n",
    "\n",
    "plt.plot((T - T.clamp(bound[0], bound[1]))[0,:])\n",
    "plt.plot(-torch.abs((T - T.clamp(bound[0], bound[1]))[0,:]))"
   ]
  },
  {
   "cell_type": "code",
   "execution_count": 16,
   "metadata": {},
   "outputs": [
    {
     "name": "stdout",
     "output_type": "stream",
     "text": [
      "torch.Size([64, 56])\n",
      "56\n",
      "\n",
      "4\n",
      "torch.Size([64, 4])\n",
      "4\n",
      "torch.Size([64, 4])\n",
      "12\n",
      "torch.Size([64, 4, 3, 1])\n",
      "36\n",
      "torch.Size([64, 4, 3, 3])\n",
      "\n",
      "4\n",
      "torch.Size([64, 4])\n",
      "4\n",
      "torch.Size([64, 4])\n",
      "12\n",
      "torch.Size([64, 4, 3, 1])\n",
      "36\n",
      "torch.Size([64, 4, 3, 3])\n",
      "\n"
     ]
    }
   ],
   "source": [
    "num_envs = 64\n",
    "_num_legs = 4\n",
    "_number_predict_step = 1\n",
    "_prevision_horizon = 3\n",
    "device = 'cpu'\n",
    "\n",
    "f = 1*torch.ones(num_envs, _num_legs, device=device)\n",
    "d = 0.55*torch.ones(num_envs, _num_legs, device=device)\n",
    "p_lw = torch.zeros(num_envs, _num_legs, 3, _number_predict_step, device=device)\n",
    "p_rl = torch.zeros(num_envs, _num_legs, 3, _number_predict_step, device=device) # Used to compute penalty term\n",
    "F_lw = torch.zeros(num_envs, _num_legs, 3, _prevision_horizon, device=device)\n",
    "z = [f, d, p_lw, F_lw]\n",
    "\n",
    "actions = torch.randn(num_envs, sum(variable.shape[1:].numel() for variable in z), device=device)\n",
    "print(actions.shape)\n",
    "\n",
    "print(sum(variable.shape[1:].numel() for variable in z)) \n",
    "print()\n",
    "\n",
    "for variable in z:\n",
    "    print(variable.shape[1:].numel())\n",
    "    print(variable.shape)\n",
    "print()\n",
    "\n",
    "f = actions[:, 0 : f.shape[1:].numel()]\n",
    "d = actions[:, f.shape[1:].numel() : f.shape[1:].numel() + d.shape[1:].numel()]\n",
    "p_lw = actions[:, f.shape[1:].numel() + d.shape[1:].numel() : f.shape[1:].numel() + d.shape[1:].numel() + p_lw.shape[1:].numel()].reshape_as(p_lw)\n",
    "F_lw = actions[:, f.shape[1:].numel() + d.shape[1:].numel() + p_lw.shape[1:].numel() : f.shape[1:].numel() + d.shape[1:].numel() + p_lw.shape[1:].numel() + F_lw.shape[1:].numel()].reshape_as(F_lw)\n",
    "\n",
    "z = [f, d, p_lw, F_lw]\n",
    "for variable in z:\n",
    "    print(variable.shape[1:].numel())\n",
    "    print(variable.shape)\n",
    "print()\n"
   ]
  },
  {
   "cell_type": "code",
   "execution_count": 7,
   "metadata": {},
   "outputs": [
    {
     "name": "stdout",
     "output_type": "stream",
     "text": [
      "torch.Size([10])\n",
      "torch.Size([10, 3, 5])\n"
     ]
    },
    {
     "data": {
      "text/plain": [
       "tensor([[[ 4.3365e-01,  9.6838e-01, -1.8004e+00,  3.1203e+00,  1.1875e+00],\n",
       "         [ 1.1013e+00, -5.6833e+00,  1.5057e+00, -3.8912e+00, -2.6385e+00],\n",
       "         [ 9.3424e-01,  9.9264e-01, -2.3082e+00, -1.3657e+00,  6.7267e-01]],\n",
       "\n",
       "        [[-1.9442e-01, -3.4300e-01,  7.8670e-02, -5.7622e-01,  9.1210e-02],\n",
       "         [-5.3612e-01, -2.1279e-01, -2.2476e-01, -1.4254e-01, -2.1596e-03],\n",
       "         [ 3.2512e-02,  1.7837e-01,  2.4883e-01, -2.8350e-01,  5.2160e-01]],\n",
       "\n",
       "        [[-4.2796e-01,  4.9321e+00,  3.3061e+00,  1.8717e+00, -9.5266e-01],\n",
       "         [-1.7079e+00, -7.3135e-01, -1.7175e+00,  1.8330e+00, -2.6230e+00],\n",
       "         [-2.7789e+00,  1.1727e+00,  3.2427e+00, -1.6299e+00,  1.7539e+00]],\n",
       "\n",
       "        [[ 2.5066e+00, -6.2748e+00,  5.5286e+00, -1.2821e+01,  1.4550e-02],\n",
       "         [-5.8101e-01, -1.6196e-01,  1.8136e+00,  8.8238e+00,  1.9647e-01],\n",
       "         [-1.8229e+00,  2.2025e+00,  4.6450e+00,  6.7667e+00,  2.1184e+00]],\n",
       "\n",
       "        [[ 8.8243e-01,  1.2052e-01, -9.6759e-01, -1.8618e-01, -2.2502e-01],\n",
       "         [ 6.0421e-01, -2.1540e-01, -5.2019e-01, -5.1792e-01, -7.7056e-02],\n",
       "         [-3.2260e-02,  5.6294e-01,  3.8231e-01,  5.1246e-01,  3.5319e-02]],\n",
       "\n",
       "        [[ 3.1145e+00, -6.3850e+00,  6.7649e+00,  4.2947e+00,  1.6592e+00],\n",
       "         [-7.5955e+00, -2.0736e-01,  1.2602e+00, -3.2641e+00, -3.5996e+00],\n",
       "         [ 2.0710e+00, -5.1184e+00, -5.2834e+00, -2.1745e+00, -5.7312e-01]],\n",
       "\n",
       "        [[-3.9322e-01, -8.2752e-02,  7.0897e-02,  8.3229e-02,  2.9297e-01],\n",
       "         [-5.1942e-01,  4.4809e-01,  2.2333e-01,  5.9992e-01,  7.0025e-01],\n",
       "         [ 1.2154e-01, -3.6068e-01, -1.2098e-01, -3.0937e-01, -4.3617e-01]],\n",
       "\n",
       "        [[-4.5236e+00,  1.4031e+00,  3.2954e+00,  3.1699e-01,  4.0366e+00],\n",
       "         [-3.6423e+00, -1.7729e+00, -1.6050e-01, -4.3464e+00,  3.1035e+00],\n",
       "         [-1.7457e+00, -1.5222e+00,  3.2360e-01,  1.0012e+00,  1.5124e+00]],\n",
       "\n",
       "        [[-5.4073e-03,  9.4162e-03, -5.6676e-03,  1.5927e-02, -1.6696e-02],\n",
       "         [-4.1429e-03, -1.5816e-02,  4.4257e-03, -1.7841e-04, -3.6205e-03],\n",
       "         [-8.7526e-03, -1.2371e-03, -1.7579e-03, -2.1407e-03,  2.0334e-02]],\n",
       "\n",
       "        [[-1.6593e+00, -4.1087e-01,  5.1033e-01, -1.0704e+00, -3.6579e-01],\n",
       "         [-3.1808e+00, -4.3288e+00, -4.5706e+00, -3.3593e+00, -1.7024e+00],\n",
       "         [-1.6746e-01,  7.2090e-01,  5.6026e-01, -3.3042e+00,  3.5694e+00]]])"
      ]
     },
     "execution_count": 7,
     "metadata": {},
     "output_type": "execute_result"
    }
   ],
   "source": [
    "import torch\n",
    "\n",
    "a = torch.randn(10,4)\n",
    "b = torch.sum(a, dim=1)\n",
    "c = torch.randn(10,3,5)\n",
    "print(b.shape)\n",
    "print(c.shape)\n",
    "b.unsqueeze(-1).unsqueeze(-1)*c\n"
   ]
  },
  {
   "cell_type": "code",
   "execution_count": 1,
   "metadata": {},
   "outputs": [
    {
     "name": "stdout",
     "output_type": "stream",
     "text": [
      "Output shape: torch.Size([2, 3])\n"
     ]
    }
   ],
   "source": [
    "import torch\n",
    "\n",
    "# Example dimensions\n",
    "b = 2\n",
    "n = 3\n",
    "\n",
    "# Example tensors p and p_prev of dimension (b, n, 3)\n",
    "p = torch.randn(b, n, 3)\n",
    "p_prev = torch.randn(b, n, 3)\n",
    "\n",
    "# Calculate the squared difference and sum along the last dimension\n",
    "squared_difference_sum = torch.sum(torch.square(p - p_prev), dim=-1)\n",
    "\n",
    "# Verify the output shape\n",
    "print(\"Output shape:\", squared_difference_sum.shape)  # Output: (b,)\n"
   ]
  },
  {
   "cell_type": "code",
   "execution_count": 12,
   "metadata": {},
   "outputs": [
    {
     "name": "stdout",
     "output_type": "stream",
     "text": [
      "torch.Size([10, 4])\n",
      "tensor([0.2023, 0.0271, 0.8369, 0.7345, 0.4740, 0.3796, 0.0417, 0.9282, 0.0021,\n",
      "        0.3301, 0.4110, 0.2978, 0.8927, 0.6978, 0.5533, 0.6596, 0.4820, 0.2477])\n",
      "tensor([ 4, 15, 11, 17])\n",
      "tensor([0.4740, 0.6596, 0.2978, 0.2477])\n"
     ]
    }
   ],
   "source": [
    "import torch\n",
    "\n",
    "# Example usage\n",
    "batch_size = 10\n",
    "grid_size = 18\n",
    "n = 4\n",
    "\n",
    "# Dummy sensor_data and index tensors\n",
    "sensor_data = torch.rand(batch_size, grid_size, 3)\n",
    "index = torch.randint(0, grid_size, (batch_size, n))\n",
    "\n",
    "# Retrieve data in a single flow using advanced indexing\n",
    "retrieved_data = sensor_data[torch.arange(batch_size).unsqueeze(1), index, 2]\n",
    "\n",
    "print(retrieved_data.shape)  # Output: torch.Size([2, 3, 3])\n",
    "\n",
    "torch.arange(batch_size).unsqueeze(1)\n",
    "index\n",
    "\n",
    "print(sensor_data[2,:,2])\n",
    "print(index[2,:])\n",
    "print(retrieved_data[2,:])"
   ]
  },
  {
   "cell_type": "code",
   "execution_count": 2,
   "metadata": {},
   "outputs": [
    {
     "data": {
      "text/plain": [
       "tensor([0.0059])"
      ]
     },
     "execution_count": 2,
     "metadata": {},
     "output_type": "execute_result"
    }
   ],
   "source": [
    "import torch\n",
    "\n",
    "torch.empty(1)"
   ]
  },
  {
   "cell_type": "code",
   "execution_count": 5,
   "metadata": {
    "metadata": {}
   },
   "outputs": [
    {
     "name": "stdout",
     "output_type": "stream",
     "text": [
      "not all are real, there is a nan\n"
     ]
    },
    {
     "data": {
      "text/plain": [
       "tensor([[   0,    0,    0],\n",
       "        [3514,   17,    2]])"
      ]
     },
     "execution_count": 5,
     "metadata": {},
     "output_type": "execute_result"
    }
   ],
   "source": [
    "import torch \n",
    "from torch.distributions.constraints import real\n",
    "\n",
    "a = torch.randn((4096,183,3))\n",
    "\n",
    "a[1,2,:18]\n",
    "\n",
    "a[0,0,0] = torch.nan\n",
    "a[3514, 17, 2] = torch.nan\n",
    "\n",
    "torch.isreal(a).all()\n",
    "\n",
    "(a == a) # Fail for Nan\n",
    "\n",
    "if not real.check(a).all() :\n",
    "    print('not all are real, there is a nan')\n",
    "\n",
    "torch.nonzero(~real.check(a))"
   ]
  },
  {
   "cell_type": "code",
   "execution_count": 6,
   "metadata": {},
   "outputs": [
    {
     "name": "stdout",
     "output_type": "stream",
     "text": [
      "torch.Size([16, 4, 3])\n",
      "torch.Size([16, 4, 2])\n",
      "10 tensor(10.)\n",
      "10 tensor(10.)\n",
      "-10 tensor(-10.)\n",
      "0 tensor(0.)\n"
     ]
    }
   ],
   "source": [
    "import torch \n",
    "\n",
    "F = torch.randn((16,4,3))\n",
    "\n",
    "print(F[:,:,:].shape)\n",
    "print(F[:,:,:2].shape)\n",
    "\n",
    "F[0,0,0] = 10\n",
    "print('10',F[0,0,0])\n",
    "\n",
    "F = F.clamp(min=0)\n",
    "print('10',F[0,0,0])\n",
    "\n",
    "F[0,0,0] = -10\n",
    "print('-10',F[0,0,0])\n",
    "\n",
    "F = F.clamp(min=0)\n",
    "print('0',F[0,0,0])"
   ]
  },
  {
   "cell_type": "code",
   "execution_count": 2,
   "metadata": {},
   "outputs": [
    {
     "data": {
      "text/plain": [
       "tensor([0, 0, 0, 0, 0, 0, 0, 0, 0, 0, 0, 0, 0, 0, 0, 0, 0, 0, 0, 0])"
      ]
     },
     "execution_count": 2,
     "metadata": {},
     "output_type": "execute_result"
    }
   ],
   "source": [
    "import torch\n",
    "\n",
    "torch.randint(0, 1, (20,))"
   ]
  },
  {
   "cell_type": "code",
   "execution_count": null,
   "metadata": {},
   "outputs": [],
   "source": [
    "import torch\n",
    "import argparse\n",
    "# from __future__ import print_function\n",
    "from torch.utils.data import Dataset, DataLoader\n",
    "from dataloader import ObservationActionDataset, ChunkedObservationActionDataset\n",
    "import torch.nn as nn\n",
    "import torch.nn.functional as F\n",
    "import torch.optim as optim\n",
    "from torch.optim.lr_scheduler import StepLR\n",
    "\n",
    "\n",
    "# Load the dataset\n",
    "# dataset = ChunkedObservationActionDataset('dataset/aliengo_model_based_speed/mcQueenOne/training_data_chunk_*.pt')\n",
    "dataset = ObservationActionDataset('dataset/aliengo_model_based_speed/mcQueenFour/training_data.pt')\n",
    "dataloader = DataLoader(dataset, batch_size=32, shuffle=True)\n",
    "\n",
    "\n",
    "# Define model\n",
    "class Model1(nn.Module):\n",
    "    def __init__(self, input_size, output_size):\n",
    "        super(Model1, self).__init__()\n",
    "        self.fc = nn.Linear(input_size, output_size)\n",
    "\n",
    "    def forward(self, x):\n",
    "        return self.fc(x)\n",
    "    \n",
    "class Model(nn.Module):\n",
    "    def __init__(self, input_size, output_size):\n",
    "        super(Model, self).__init__()\n",
    "        self.lin1 = nn.Linear(input_size, 512)\n",
    "        self.lin2 = nn.Linear(512, 256)\n",
    "        self.lin3 = nn.Linear(256, 128)\n",
    "        self.lin4 = nn.Linear(128, output_size)\n",
    "\n",
    "    def forward(self, x):\n",
    "        x = self.lin1(x)\n",
    "        x = F.elu(x)\n",
    "        x = self.lin2(x)\n",
    "        x = F.elu(x)\n",
    "        x = self.lin3(x)\n",
    "        x = F.elu(x)\n",
    "        x = self.lin4(x)\n",
    "        return x\n",
    "\n",
    "# Example model definition\n",
    "input_size = dataset.observations.shape[-1]\n",
    "output_size = dataset.actions.shape[-1]\n",
    "model = Model(input_size, output_size).cuda()\n",
    "\n",
    "print('Input  Size : ', dataset.observations.shape)\n",
    "print('Output Size : ', dataset.actions.shape)\n",
    "\n",
    "# Define loss and optimizer\n",
    "criterion = nn.MSELoss()\n",
    "optimizer = optim.Adam(model.parameters(), lr=0.001)\n",
    "\n",
    "\n",
    "# Training loop\n",
    "num_epochs = 10\n",
    "for epoch in range(num_epochs):\n",
    "    for obs_batch, action_batch in dataloader:\n",
    "        obs_batch, action_batch = obs_batch.cuda(), action_batch.cuda()  # Move to GPU\n",
    "        optimizer.zero_grad()\n",
    "        outputs = model(obs_batch)\n",
    "        loss = criterion(outputs, action_batch)\n",
    "        loss.backward()\n",
    "        optimizer.step()\n",
    "    print(f'Epoch [{epoch+1}/{num_epochs}], Loss: {loss.item()}')\n",
    "\n",
    "\n",
    "print('Training completed.')"
   ]
  },
  {
   "cell_type": "code",
   "execution_count": 48,
   "metadata": {},
   "outputs": [
    {
     "name": "stdout",
     "output_type": "stream",
     "text": [
      "Time for the first approach (rand_like and comparison): 0.00036716461181640625\n",
      "Time for the second approach (bernoulli and full_like): 0.0001862049102783203\n",
      "tensor([[[0., 0., 1.,  ..., 0., 1., 0.],\n",
      "         [1., 1., 0.,  ..., 0., 0., 0.],\n",
      "         [0., 1., 0.,  ..., 0., 0., 0.],\n",
      "         ...,\n",
      "         [0., 1., 0.,  ..., 0., 0., 0.],\n",
      "         [0., 0., 0.,  ..., 0., 0., 0.],\n",
      "         [1., 1., 0.,  ..., 0., 0., 1.]],\n",
      "\n",
      "        [[1., 0., 0.,  ..., 1., 0., 0.],\n",
      "         [0., 0., 0.,  ..., 0., 0., 0.],\n",
      "         [0., 1., 0.,  ..., 0., 0., 0.],\n",
      "         ...,\n",
      "         [1., 0., 0.,  ..., 0., 0., 0.],\n",
      "         [1., 0., 0.,  ..., 0., 0., 0.],\n",
      "         [0., 0., 1.,  ..., 0., 0., 0.]],\n",
      "\n",
      "        [[0., 0., 0.,  ..., 1., 0., 0.],\n",
      "         [0., 1., 1.,  ..., 1., 0., 0.],\n",
      "         [0., 1., 0.,  ..., 0., 0., 0.],\n",
      "         ...,\n",
      "         [0., 0., 0.,  ..., 0., 0., 0.],\n",
      "         [0., 0., 0.,  ..., 0., 0., 1.],\n",
      "         [0., 0., 1.,  ..., 0., 0., 1.]],\n",
      "\n",
      "        ...,\n",
      "\n",
      "        [[1., 0., 0.,  ..., 0., 0., 0.],\n",
      "         [0., 0., 0.,  ..., 0., 0., 1.],\n",
      "         [0., 0., 0.,  ..., 1., 1., 0.],\n",
      "         ...,\n",
      "         [0., 0., 0.,  ..., 0., 0., 0.],\n",
      "         [0., 0., 1.,  ..., 0., 0., 0.],\n",
      "         [1., 1., 1.,  ..., 0., 0., 0.]],\n",
      "\n",
      "        [[1., 1., 0.,  ..., 1., 0., 1.],\n",
      "         [0., 0., 0.,  ..., 0., 1., 0.],\n",
      "         [1., 0., 0.,  ..., 0., 1., 1.],\n",
      "         ...,\n",
      "         [0., 0., 0.,  ..., 0., 0., 0.],\n",
      "         [0., 1., 1.,  ..., 0., 0., 0.],\n",
      "         [0., 0., 0.,  ..., 0., 0., 0.]],\n",
      "\n",
      "        [[1., 0., 0.,  ..., 0., 0., 1.],\n",
      "         [1., 0., 0.,  ..., 0., 0., 1.],\n",
      "         [0., 1., 0.,  ..., 0., 0., 1.],\n",
      "         ...,\n",
      "         [0., 0., 0.,  ..., 0., 1., 1.],\n",
      "         [1., 0., 0.,  ..., 1., 0., 0.],\n",
      "         [1., 1., 0.,  ..., 1., 0., 1.]]], device='cuda:0')\n"
     ]
    }
   ],
   "source": [
    "import torch\n",
    "import time\n",
    "\n",
    "# Assuming B is your input tensor\n",
    "B = torch.empty(1000,1000,100)\n",
    "\n",
    "# Timing the first approach\n",
    "start_time = time.time()\n",
    "A1 = (torch.rand_like(B, device='cuda') > 0.75).float()\n",
    "time1 = time.time() - start_time\n",
    "\n",
    "# Timing the second approach\n",
    "start_time = time.time()\n",
    "A2 = torch.bernoulli(torch.full_like(B, 0.25, device='cuda'))\n",
    "time2 = time.time() - start_time\n",
    "\n",
    "print(\"Time for the first approach (rand_like and comparison):\", time1)\n",
    "print(\"Time for the second approach (bernoulli and full_like):\", time2)\n",
    "\n",
    "print(A1)\n"
   ]
  },
  {
   "cell_type": "code",
   "execution_count": 10,
   "metadata": {},
   "outputs": [
    {
     "name": "stdout",
     "output_type": "stream",
     "text": [
      "Time for clamp_max: 7.128642320632935\n",
      "Time for torch.min: 7.307240962982178\n"
     ]
    }
   ],
   "source": [
    "import torch\n",
    "import time\n",
    "\n",
    "# Example tensor F and parameters\n",
    "F = torch.rand(1000, 1000, 3, 10, device='cuda')  # Change dimensions as needed\n",
    "alpha = torch.tensor(0.5, device='cuda')\n",
    "F_xy_max = torch.rand(1000,1000,10, device='cuda')\n",
    "iter=10000\n",
    "\n",
    "# Measure time for clamp_max\n",
    "start_time = time.time()\n",
    "for _ in range(iter):\n",
    "    F_x_clipped_1 = F[:,:,0,:].clamp_max(torch.cos(alpha) * F_xy_max)\n",
    "    alpha = torch.rand_like(alpha)\n",
    "time_clamp_max = time.time() - start_time\n",
    "\n",
    "# Measure time for torch.min\n",
    "start_time = time.time()\n",
    "for _ in range(iter):\n",
    "    F_x_clipped_2 = torch.min(F[:,:,0,:], torch.cos(alpha) * F_xy_max)\n",
    "    alpha = torch.rand_like(alpha)\n",
    "time_torch_min = time.time() - start_time\n",
    "\n",
    "print(\"Time for clamp_max:\", time_clamp_max)\n",
    "print(\"Time for torch.min:\", time_torch_min)\n"
   ]
  },
  {
   "cell_type": "code",
   "execution_count": 33,
   "metadata": {},
   "outputs": [
    {
     "name": "stdout",
     "output_type": "stream",
     "text": [
      "Original implementation time: 0.036420583724975586\n",
      "Two-step implementation time: 0.05660271644592285\n",
      "Indexing implementation time: 0.084747314453125\n",
      "tensor(False)\n",
      "tensor(False)\n",
      "tensor(False)\n"
     ]
    }
   ],
   "source": [
    "import torch\n",
    "import time\n",
    "\n",
    "device = 'cpu'\n",
    "\n",
    "# Define the functions\n",
    "def compute_tracking_error_original(target_height, robot_height, upper_bound, lower_bound):\n",
    "    raw_error = target_height - robot_height\n",
    "    tracking_error = torch.where(\n",
    "        robot_height > target_height + upper_bound,\n",
    "        raw_error - upper_bound,\n",
    "        torch.where(\n",
    "            robot_height < target_height - lower_bound,\n",
    "            raw_error + lower_bound,\n",
    "            torch.zeros_like(raw_error)\n",
    "        )\n",
    "    )\n",
    "    return tracking_error\n",
    "\n",
    "def compute_tracking_error_two_step(target_height, robot_height, upper_bound, lower_bound):\n",
    "    raw_error = target_height - robot_height\n",
    "    upper_bound_error = torch.where(robot_height > target_height + upper_bound, raw_error - upper_bound, raw_error)\n",
    "    tracking_error = torch.where(robot_height < target_height - lower_bound, raw_error + lower_bound, upper_bound_error)\n",
    "    tracking_error = torch.where((robot_height >= target_height - lower_bound) & (robot_height <= target_height + upper_bound), torch.zeros_like(tracking_error), tracking_error)\n",
    "    return tracking_error\n",
    "\n",
    "def compute_tracking_error_indexing(target_height, robot_height, upper_bound, lower_bound):\n",
    "    raw_error = target_height - robot_height\n",
    "    tracking_error = raw_error.clone()\n",
    "    tracking_error[robot_height > target_height + upper_bound] -= upper_bound\n",
    "    tracking_error[robot_height < target_height - lower_bound] += lower_bound\n",
    "    within_bounds = (robot_height >= target_height - lower_bound) & (robot_height <= target_height + upper_bound)\n",
    "    tracking_error[within_bounds] = 0\n",
    "    return tracking_error\n",
    "\n",
    "# Initialize tensors\n",
    "batch_size = 4096\n",
    "num=1000\n",
    "target_height = torch.tensor([10.0] * batch_size, device=device)\n",
    "robot_height = torch.tensor([8.0] * batch_size, device=device)\n",
    "upper_bound = torch.tensor([2.0], device=device)\n",
    "lower_bound = torch.tensor([2.0], device=device)\n",
    "\n",
    "# Benchmark original\n",
    "start_time = time.time()\n",
    "for i in range(num): tracking_error1 = compute_tracking_error_original(target_height, robot_height, upper_bound, lower_bound)\n",
    "end_time = time.time()\n",
    "print(\"Original implementation time:\", end_time - start_time)\n",
    "\n",
    "# Benchmark two-step\n",
    "start_time = time.time()\n",
    "for i in range(num): tracking_error2 = compute_tracking_error_two_step(target_height, robot_height, upper_bound, lower_bound)\n",
    "end_time = time.time()\n",
    "print(\"Two-step implementation time:\", end_time - start_time)\n",
    "\n",
    "# Benchmark indexing\n",
    "start_time = time.time()\n",
    "for i in range(num): tracking_error3 = compute_tracking_error_indexing(target_height, robot_height, upper_bound, lower_bound)\n",
    "end_time = time.time()\n",
    "print(\"Indexing implementation time:\", end_time - start_time)\n",
    "\n",
    "print(((tracking_error1-tracking_error2) > 1e-10).any())\n",
    "print(((tracking_error1-tracking_error3) > 1e-10).any())\n",
    "print(((tracking_error2-tracking_error3) > 1e-10).any())\n"
   ]
  },
  {
   "cell_type": "code",
   "execution_count": 52,
   "metadata": {},
   "outputs": [
    {
     "name": "stdout",
     "output_type": "stream",
     "text": [
      "tensor([ 0.0000, -0.1000,  0.1000, -0.2000,  0.2000])\n"
     ]
    },
    {
     "data": {
      "text/plain": [
       "tensor([ 0.0000,  0.0000,  0.0000, -0.1000,  0.1000])"
      ]
     },
     "execution_count": 52,
     "metadata": {},
     "output_type": "execute_result"
    }
   ],
   "source": [
    "\n",
    "height_bound = (-0.1, +0.1)\n",
    "\n",
    "target_height = torch.tensor((0.5, 0.5, 0.5, 0.5, 0.5))\n",
    "robot_height_prop = torch.tensor((0.5, 0.4, 0.6, 0.3, 0.7))\n",
    "\n",
    "\n",
    "# Compute the tracking error\n",
    "tracking_error = robot_height_prop - target_height\n",
    "print(tracking_error)\n",
    "# If tolerance bound are provided adjusted error with bounds\n",
    "if height_bound is not None :\n",
    "\n",
    "    tracking_error = torch.where(\n",
    "        robot_height_prop > target_height + height_bound[1],\n",
    "        tracking_error - height_bound[1],\n",
    "        torch.where(\n",
    "            robot_height_prop < target_height + height_bound[0],\n",
    "            tracking_error - height_bound[0],\n",
    "            torch.zeros_like(tracking_error)\n",
    "        )\n",
    "    )\n",
    "\n",
    "tracking_error\n"
   ]
  },
  {
   "cell_type": "code",
   "execution_count": 12,
   "metadata": {},
   "outputs": [
    {
     "name": "stdout",
     "output_type": "stream",
     "text": [
      "Full pairwise distances time: 0.003140 seconds\n",
      "Optimized upper triangular distances time: 0.001984 seconds\n",
      "Are the results equivalent? True\n"
     ]
    },
    {
     "data": {
      "text/plain": [
       "tensor([0.9345, 0.5352, 0.7688, 0.4836, 0.6719, 0.7495])"
      ]
     },
     "execution_count": 12,
     "metadata": {},
     "output_type": "execute_result"
    }
   ],
   "source": [
    "import torch\n",
    "import itertools\n",
    "import time\n",
    "\n",
    "# Example tensor (batch, legs, 2)\n",
    "batch = 40960\n",
    "legs = 4\n",
    "foot_xy_pos = torch.rand((batch, legs, 2))\n",
    "\n",
    "# Full pairwise distance computation\n",
    "def full_pairwise_distances(foot_xy_pos):\n",
    "    foot_exp1 = foot_xy_pos.unsqueeze(2)\n",
    "    foot_exp2 = foot_xy_pos.unsqueeze(1)\n",
    "    diffs = foot_exp1 - foot_exp2\n",
    "    distances = torch.norm(diffs, dim=-1)\n",
    "    upper_triangle_distances = distances.triu(diagonal=1)\n",
    "    return upper_triangle_distances\n",
    "\n",
    "# Optimized upper triangular distance computation\n",
    "def optimized_upper_triangular_distances(foot_xy_pos):\n",
    "    indices = list(itertools.combinations(range(legs), 2))\n",
    "    distances = []\n",
    "    for i, j in indices:\n",
    "        diff = foot_xy_pos[:, i, :] - foot_xy_pos[:, j, :]\n",
    "        dist = torch.norm(diff, dim=1)\n",
    "        distances.append(dist)\n",
    "    distances = torch.stack(distances, dim=1)\n",
    "    return distances\n",
    "\n",
    "# Benchmarking function\n",
    "def benchmark(func, foot_xy_pos, iterations=1000):\n",
    "    start_time = time.time()\n",
    "    for _ in range(iterations):\n",
    "        result = func(foot_xy_pos)\n",
    "    end_time = time.time()\n",
    "    return end_time - start_time, result\n",
    "\n",
    "# Run benchmarks\n",
    "iterations = 1\n",
    "time_full, result_full = benchmark(full_pairwise_distances, foot_xy_pos, iterations)\n",
    "time_optimized, result_optimized = benchmark(optimized_upper_triangular_distances, foot_xy_pos, iterations)\n",
    "\n",
    "# Print results\n",
    "print(f\"Full pairwise distances time: {time_full:.6f} seconds\")\n",
    "print(f\"Optimized upper triangular distances time: {time_optimized:.6f} seconds\")\n",
    "\n",
    "# Validate that results are equivalent\n",
    "# Extract the upper triangular part (excluding the diagonal) from the full pairwise distances\n",
    "upper_triangle_indices = torch.triu_indices(legs, legs, 1)\n",
    "result_full_upper = result_full[:, upper_triangle_indices[0], upper_triangle_indices[1]]\n",
    "print(f\"Are the results equivalent? {torch.allclose(result_full_upper, result_optimized)}\")\n",
    "\n",
    "result_optimized[0]\n"
   ]
  },
  {
   "cell_type": "code",
   "execution_count": 19,
   "metadata": {},
   "outputs": [
    {
     "data": {
      "text/plain": [
       "torch.Size([3, 4, 5])"
      ]
     },
     "execution_count": 19,
     "metadata": {},
     "output_type": "execute_result"
    }
   ],
   "source": [
    "import torch\n",
    "\n",
    "phase = torch.tensor((0.1,0.2,0.3,0.4))\n",
    "f_samples = torch.rand(3,4)\n",
    "dt=0.1\n",
    "time_horizon=5\n",
    "\n",
    "#            (1,4,1)                  (3,4,1)                    (1,1,5)\n",
    "new_phases = phase.unsqueeze(0).unsqueeze(-1) + (f_samples.unsqueeze(-1) * torch.linspace(start=1, end=time_horizon, steps=time_horizon).unsqueeze(0).unsqueeze(1)*dt)\n",
    "\n",
    "# phase.unsqueeze(-1) + torch.linspace(start=1, end=time_horizon, steps=time_horizon)\n",
    "\n",
    "(f_samples.unsqueeze(-1) * torch.linspace(start=1, end=time_horizon, steps=time_horizon).unsqueeze(0).unsqueeze(1)*dt).shape\n"
   ]
  },
  {
   "cell_type": "code",
   "execution_count": 30,
   "metadata": {},
   "outputs": [
    {
     "name": "stdout",
     "output_type": "stream",
     "text": [
      "tensor([ 1.,  2.,  3.,  4.,  5.,  6.,  7.,  8.,  9., 10., 11., 12.])\n",
      "tensor([[ 1.,  2.,  3.],\n",
      "        [ 4.,  5.,  6.],\n",
      "        [ 7.,  8.,  9.],\n",
      "        [10., 11., 12.]])\n",
      "tensor([ 1.,  2.,  3.,  4.,  5.,  6.,  7.,  8.,  9., 10., 11., 12.])\n"
     ]
    }
   ],
   "source": [
    "a=torch.linspace(start=1, end=12, steps=12)\n",
    "print(a)\n",
    "\n",
    "b=a.view(4,3)\n",
    "print(b)\n",
    "\n",
    "c=b.flatten(0,1)\n",
    "print(c)"
   ]
  },
  {
   "cell_type": "code",
   "execution_count": 47,
   "metadata": {},
   "outputs": [
    {
     "name": "stdout",
     "output_type": "stream",
     "text": [
      "tensor([0.0000, 0.0654, 0.1308, 0.1962, 0.2616])\n",
      "torch.Size([1])\n",
      "torch.Size([])\n",
      "tensor([0.2164, 0.2818, 0.3473, 0.4127, 0.4781])\n"
     ]
    }
   ],
   "source": [
    "com_pose_lw = torch.rand(3)\n",
    "com_pose_ref_lw = torch.rand(3,5)\n",
    "speed_command = torch.rand(3)\n",
    "time_horizon = 5\n",
    "dt = 0.1\n",
    "\n",
    "com_pose_ref_lw[2] =  com_pose_lw[2] + (torch.arange(time_horizon) * (dt * speed_command[2]))\n",
    "# com_pose_ref_lw[2] =  com_pose_lw[2] + (torch.arange(time_horizon) * (dt * speed_command[2]))\n",
    "\n",
    "print((torch.arange(time_horizon) * (dt * speed_command[2])))\n",
    "print(com_pose_lw[2].unsqueeze(-1).shape)\n",
    "print(com_pose_lw[2].shape)\n",
    "print(com_pose_ref_lw[2] )"
   ]
  },
  {
   "cell_type": "code",
   "execution_count": 53,
   "metadata": {},
   "outputs": [
    {
     "name": "stdout",
     "output_type": "stream",
     "text": [
      "<class 'jaxlib.xla_extension.DeviceArray'> \n",
      "\n",
      "<class 'jaxlib.xla_extension.DeviceArray'> \n",
      "\n",
      "[0.19868964 0.4115519  0.6287666  0.04808122]\n",
      "[0.19868964 0.4115519  0.6287666  0.04808122]\n",
      "[0.19868964 0.4115519  0.6287666  0.04808122]\n",
      "[0.19868964 0.4115519  0.6287666  0.04808122]\n",
      "[0.19868964 0.4115519  0.6287666  0.04808122]\n",
      "[0.19868964 0.4115519  0.6287666  0.04808122]\n",
      "Execution time Jitted Normal spline: 0.463567 seconds\n",
      "Execution time  Jitted Fast  spline: 0.455257 seconds\n",
      "Execution time  Jitted Fast  spline: 0.453715 seconds\n"
     ]
    }
   ],
   "source": [
    "import jax\n",
    "import jax.numpy as jnp\n",
    "from jax import random\n",
    "import time\n",
    "\n",
    "def compute_cubic_spline(parameters, step, horizon_leg):\n",
    "    \"\"\" Given a set of parameters, return the spline. \n",
    "    \n",
    "    Args :\n",
    "        \n",
    "    Returns : \n",
    "    \n",
    "    \"\"\"\n",
    "\n",
    "    #tau = step/(self.horizon-1)\n",
    "    tau = step/(horizon_leg)\n",
    "    q = (tau - 0.0)/(1.0-0.0)\n",
    "    \n",
    "    phi = (1./2.)*(((parameters[2] - parameters[1])/0.5) + ((parameters[1] - parameters[0])/0.5))\n",
    "    phi_next = (1./2.)*(((parameters[3] - parameters[2])/0.5) + ((parameters[2] - parameters[1])/0.5))\n",
    "    \n",
    "    a_x = 2*q*q*q - 3*q*q + 1\n",
    "    b_x = (q*q*q - 2*q*q + q)*0.5\n",
    "    c_x = -2*q*q*q + 3*q*q\n",
    "    d_x = (q*q*q - q*q)*0.5\n",
    "    f_x = a_x*parameters[1] + b_x*phi + c_x*parameters[2] + d_x*phi_next\n",
    "\n",
    "    phi = (1./2.)*(((parameters[6] - parameters[5])/0.5) + ((parameters[5] - parameters[4])/0.5))\n",
    "    phi_next = (1./2.)*(((parameters[7] - parameters[6])/0.5) + ((parameters[6] - parameters[5])/0.5))\n",
    "    \n",
    "    a_y = 2*q*q*q - 3*q*q + 1\n",
    "    b_y = (q*q*q - 2*q*q + q)*0.5\n",
    "    c_y = -2*q*q*q + 3*q*q\n",
    "    d_y = (q*q*q - q*q)*0.5\n",
    "    f_y = a_y*parameters[5] + b_y*phi + c_y*parameters[6] + d_y*phi_next\n",
    "\n",
    "\n",
    "    phi = (1./2.)*(((parameters[10] - parameters[9])/0.5) + ((parameters[9] - parameters[8])/0.5))\n",
    "    phi_next = (1./2.)*(((parameters[11] - parameters[10])/0.5) + ((parameters[10] - parameters[9])/0.5))\n",
    "    \n",
    "    a_z = 2*q*q*q - 3*q*q + 1\n",
    "    b_z = (q*q*q - 2*q*q + q)*0.5\n",
    "    c_z = -2*q*q*q + 3*q*q\n",
    "    d_z = (q*q*q - q*q)*0.5\n",
    "    f_z = a_z*parameters[9] + b_z*phi + c_z*parameters[10] + d_z*phi_next\n",
    "    \n",
    "    # return f_x, f_y, f_z\n",
    "    return f_z   \n",
    "\n",
    "def compute_fast_cubic_spline(parameters, step, horizon_leg):\n",
    "    \"\"\" Given a set of parameters, return the spline. \n",
    "    \n",
    "    Args :\n",
    "        \n",
    "    Returns : \n",
    "    \n",
    "    \"\"\"\n",
    "\n",
    "    #tau = step/(self.horizon-1)\n",
    "    tau = step/(horizon_leg)\n",
    "    q = (tau - 0.0)/(1.0-0.0)\n",
    "    q2 = q*q\n",
    "    q3 = q2*q\n",
    "    \n",
    "    phi = (1./2.)*(((parameters[2] - parameters[1])/0.5) + ((parameters[1] - parameters[0])/0.5))\n",
    "    phi_next = (1./2.)*(((parameters[3] - parameters[2])/0.5) + ((parameters[2] - parameters[1])/0.5))\n",
    "    \n",
    "    a_x = 2*q3 - 3*q2 + 1\n",
    "    b_x = (q3 - 2*q2 + q)*0.5\n",
    "    c_x = -2*q3 + 3*q2\n",
    "    d_x = (q3 - q2)*0.5\n",
    "    f_x = a_x*parameters[1] + b_x*phi + c_x*parameters[2] + d_x*phi_next\n",
    "\n",
    "    phi = (1./2.)*(((parameters[6] - parameters[5])/0.5) + ((parameters[5] - parameters[4])/0.5))\n",
    "    phi_next = (1./2.)*(((parameters[7] - parameters[6])/0.5) + ((parameters[6] - parameters[5])/0.5))\n",
    "    \n",
    "    a_y = 2*q3 - 3*q2 + 1\n",
    "    b_y = (q3 - 2*q2 + q)*0.5\n",
    "    c_y = -2*q3 + 3*q2\n",
    "    d_y = (q3 - q2)*0.5\n",
    "    f_y = a_y*parameters[5] + b_y*phi + c_y*parameters[6] + d_y*phi_next\n",
    "\n",
    "\n",
    "    phi = (1./2.)*(((parameters[10] - parameters[9])/0.5) + ((parameters[9] - parameters[8])/0.5))\n",
    "    phi_next = (1./2.)*(((parameters[11] - parameters[10])/0.5) + ((parameters[10] - parameters[9])/0.5))\n",
    "    \n",
    "    a_z = 2*q3 - 3*q2 + 1\n",
    "    b_z = (q3 - 2*q2 + q)*0.5\n",
    "    c_z = -2*q3 + 3*q2\n",
    "    d_z = (q3 - q2)*0.5\n",
    "    f_z = a_z*parameters[9] + b_z*phi + c_z*parameters[10] + d_z*phi_next\n",
    "    \n",
    "    # return f_x, f_y, f_z  \n",
    "    return f_z\n",
    "\n",
    "def compute_very_fast_cubic_spline(parameters, step, horizon):\n",
    "    \"\"\" Given a set of spline parameters, and the point in the trajectory return the function value \n",
    "    \n",
    "    Args :\n",
    "        parameters (jnp.array): of shape(TODO)\n",
    "        step             (int): The point in the curve in [0, horizon]\n",
    "        horizon          (int): The length of the curve\n",
    "        \n",
    "    Returns : \n",
    "    \n",
    "    \"\"\"\n",
    "\n",
    "    # Find the point in the curve q in [0,1]\n",
    "    tau = step/(horizon)        \n",
    "    q = (tau - 0.0)/(1.0-0.0)\n",
    "    q2 = q*q\n",
    "    q3 = q2*q\n",
    "    \n",
    "    # Compute the spline interpolation parameters\n",
    "    a = 2*q3 - 3*q2 + 1\n",
    "    b = (q3 - 2*q2 + q)*0.5\n",
    "    c = -2*q3 + 3*q2\n",
    "    d = (q3 - q2)*0.5\n",
    "\n",
    "    # Compute the phi parameters\n",
    "    phi_x = (1./2.)*(((parameters[2] - parameters[1])/0.5) + ((parameters[1] - parameters[0])/0.5))\n",
    "    phi_next_x = (1./2.)*(((parameters[3] - parameters[2])/0.5) + ((parameters[2] - parameters[1])/0.5))\n",
    "\n",
    "    phi_y = (1./2.)*(((parameters[6] - parameters[5])/0.5) + ((parameters[5] - parameters[4])/0.5))\n",
    "    phi_next_y = (1./2.)*(((parameters[7] - parameters[6])/0.5) + ((parameters[6] - parameters[5])/0.5))\n",
    "\n",
    "    phi_z = (1./2.)*(((parameters[10] - parameters[9])/0.5) + ((parameters[9] - parameters[8])/0.5))\n",
    "    phi_next_z = (1./2.)*(((parameters[11] - parameters[10])/0.5) + ((parameters[10] - parameters[9])/0.5))\n",
    "\n",
    "    # Compute the function value f(x)\n",
    "    f_x = a*parameters[1] + b*phi_x + c*parameters[2]  + d*phi_next_x\n",
    "    f_y = a*parameters[5] + b*phi_y + c*parameters[6]  + d*phi_next_y\n",
    "    f_z = a*parameters[9] + b*phi_z + c*parameters[10] + d*phi_next_z\n",
    "    \n",
    "    return f_z  \n",
    "\n",
    "datatype = 'float32'\n",
    "device = jax.devices('gpu')[0]\n",
    "key = random.PRNGKey(0)\n",
    "iter=10000\n",
    "\n",
    "# parameters = jnp.array((1.0, 1.0, 0.0), dtype=datatype)\n",
    "parameters = random.uniform(key, (1000000, 4), dtype=datatype)\n",
    "step = 3\n",
    "horizon_leg = 10\n",
    "\n",
    "print(type(parameters),'\\n')\n",
    "print(type(compute_cubic_spline(parameters, step, horizon_leg)),'\\n')\n",
    "\n",
    "print(compute_cubic_spline(parameters, step, horizon_leg))\n",
    "print(compute_fast_cubic_spline(parameters, step, horizon_leg))\n",
    "print(compute_very_fast_cubic_spline(parameters, step, horizon_leg))\n",
    "\n",
    "jitted_compute_cubic_spline = jax.jit(compute_cubic_spline, device=device)\n",
    "jitted_compute_fast_cubic_spline = jax.jit(compute_fast_cubic_spline, device=device)\n",
    "jitted_compute_very_fast_cubic_spline = jax.jit(compute_very_fast_cubic_spline, device=device)\n",
    "\n",
    "print(jitted_compute_cubic_spline(parameters, step, horizon_leg))\n",
    "print(jitted_compute_fast_cubic_spline(parameters, step, horizon_leg))\n",
    "print(jitted_compute_very_fast_cubic_spline(parameters, step, horizon_leg))\n",
    "\n",
    "\n",
    "# # Measure execution time\n",
    "# start_time = time.time()\n",
    "# for i in range(iter):\n",
    "#     result = compute_cubic_spline(parameters, step, horizon_leg)\n",
    "# end_time = time.time()\n",
    "\n",
    "# print(f\"Execution time Normal spline: {end_time - start_time:.6f} seconds\")\n",
    "\n",
    "# # Measure execution time\n",
    "# start_time = time.time()\n",
    "# for i in range(iter):\n",
    "#     result = compute_fast_cubic_spline(parameters, step, horizon_leg)\n",
    "# end_time = time.time()\n",
    "\n",
    "# print(f\"Execution time  Fast  spline: {end_time - start_time:.6f} seconds\")\n",
    "\n",
    "# Measure execution time\n",
    "start_time = time.time()\n",
    "for i in range(iter):\n",
    "    result = jitted_compute_cubic_spline(parameters, step, horizon_leg)\n",
    "end_time = time.time()\n",
    "\n",
    "print(f\"Execution time Jitted Normal spline: {end_time - start_time:.6f} seconds\")\n",
    "\n",
    "# Measure execution time\n",
    "start_time = time.time()\n",
    "for i in range(iter):\n",
    "    result = jitted_compute_fast_cubic_spline(parameters, step, horizon_leg)\n",
    "end_time = time.time()\n",
    "\n",
    "print(f\"Execution time  Jitted Fast  spline: {end_time - start_time:.6f} seconds\")\n",
    "\n",
    "# Measure execution time\n",
    "start_time = time.time()\n",
    "for i in range(iter):\n",
    "    result = jitted_compute_very_fast_cubic_spline(parameters, step, horizon_leg)\n",
    "end_time = time.time()\n",
    "\n",
    "print(f\"Execution time  Jitted Fast  spline: {end_time - start_time:.6f} seconds\")"
   ]
  },
  {
   "cell_type": "code",
   "execution_count": 68,
   "metadata": {},
   "outputs": [
    {
     "name": "stdout",
     "output_type": "stream",
     "text": [
      "tensor([ 0,  1,  2,  3,  4,  5,  6,  7,  8,  9, 10, 11])\n",
      "tensor([0, 0, 0, 0, 1, 1, 1, 1, 2, 2, 2, 2])\n",
      "tensor([0, 1, 2, 3, 0, 1, 2, 3, 0, 1, 2, 3])\n"
     ]
    },
    {
     "data": {
      "image/png": "[encoded data removed]",
      "text/plain": [
       "<Figure size 640x480 with 1 Axes>"
      ]
     },
     "metadata": {},
     "output_type": "display_data"
    }
   ],
   "source": [
    "import matplotlib.pyplot as plt\n",
    "import torch\n",
    "\n",
    "x = torch.arange(12)\n",
    "f_param = 4\n",
    "\n",
    "print(x)\n",
    "print(x//f_param)\n",
    "print(x%f_param)\n",
    "\n",
    "y = x - ((x%f_param)*(x//f_param))\n",
    "# y = x - ((x%f_param)*(f_param)*(x//f_param))\n",
    "# y = x - ((f_param)*(x//f_param))\n",
    "\n",
    "y = x - ((x-f_param) * (x >= f_param))\n",
    "\n",
    "plt.plot(y)\n",
    "plt.show()\n",
    "\n"
   ]
  },
  {
   "cell_type": "code",
   "execution_count": 44,
   "metadata": {},
   "outputs": [
    {
     "name": "stdout",
     "output_type": "stream",
     "text": [
      "Execution time    jitted_index_func  : 0.037708 seconds\n",
      "Execution time jitted_index_fast_func: 0.038042 seconds\n"
     ]
    }
   ],
   "source": [
    "import jax\n",
    "import jax.numpy as jnp\n",
    "from jax import random\n",
    "import time\n",
    "import matplotlib.pyplot as plt\n",
    "\n",
    "def index_func(f_param, x):\n",
    "    return x - ((x-f_param) * (x >= f_param))\n",
    "\n",
    "def index_fast_func(f_param, x):\n",
    "    return jnp.minimum(x, f_param) \n",
    "\n",
    "\n",
    "datatype = 'float32'\n",
    "device = jax.devices('gpu')[0]\n",
    "key = random.PRNGKey(0)\n",
    "f_param = 4\n",
    "iter=1000\n",
    "\n",
    "# parameters = jnp.array((1.0, 1.0, 0.0), dtype=datatype)\n",
    "x = 10*random.uniform(key, (1000000,1), dtype=datatype)\n",
    "\n",
    "y = index_func(f_param, x)\n",
    "\n",
    "# plt.scatter(x,y)\n",
    "# plt.show()\n",
    "\n",
    "jitted_index_func = jax.jit(index_func, device=device)\n",
    "jitted_index_fast_func = jax.jit(index_fast_func, device=device)\n",
    "\n",
    "jitted_index_func(f_param, x)\n",
    "jitted_index_fast_func(f_param, x)\n",
    "\n",
    "# Measure execution time\n",
    "start_time = time.time()\n",
    "for i in range(iter):\n",
    "    result = jitted_index_func(f_param, x)\n",
    "end_time = time.time()\n",
    "print(f\"Execution time    jitted_index_func  : {end_time - start_time:.6f} seconds\")\n",
    "\n",
    "# Measure execution time\n",
    "start_time = time.time()\n",
    "for i in range(iter):\n",
    "    result = jitted_index_fast_func(f_param, x)\n",
    "end_time = time.time()\n",
    "print(f\"Execution time jitted_index_fast_func: {end_time - start_time:.6f} seconds\")\n",
    "\n",
    "# plt.scatter(x,result)\n",
    "# plt.show()\n"
   ]
  },
  {
   "cell_type": "code",
   "execution_count": 95,
   "metadata": {},
   "outputs": [
    {
     "name": "stdout",
     "output_type": "stream",
     "text": [
      "[ 0.  1.  2.  3.  4.  5.  6.  7.  8.  9. 10. 11.]\n",
      "[0 1 0 1]\n",
      "<class 'jaxlib.xla_extension.DeviceArray'>\n",
      "(12,)\n",
      "float32\n",
      "12\n",
      "1\n",
      "[ 2.  5.  8. 11.]\n",
      "\n",
      "alpha        [1.5707964  0.9272952  0.86217004 0.8379811 ]\n",
      "F_xy         [ 1.        5.        9.219544 13.453624]\n",
      "F_xy_max     [1.1  2.75 4.4  6.05]\n",
      "F_xy_clamped [1.   2.75 4.4  6.05]\n",
      "F_z          [ 2.  5.  8. 11.]\n",
      "F_x_clamped  [-4.3711388e-08  1.6500001e+00  2.8634822e+00  4.0472374e+00]\n",
      "F_clamped    [-4.3711388e-08  1.0000000e+00  2.0000000e+00  1.6500001e+00\n",
      "  2.2000000e+00  5.0000000e+00  2.8634822e+00  3.3407292e+00\n",
      "  8.0000000e+00  4.0472374e+00  4.4969296e+00  1.1000000e+01]\n",
      "F_clamped    [-4.3711388e-08  1.0000000e+00  2.0000000e+00  1.6500001e+00\n",
      "  2.2000000e+00  5.0000000e+00  2.8634822e+00  3.3407292e+00\n",
      "  8.0000000e+00  4.0472374e+00  4.4969296e+00  1.1000000e+01]\n",
      "\n",
      "[-0.         0.         0.         1.6500001  2.2        5.\n",
      "  0.         0.         0.         4.0472374  4.4969296 11.       ]\n",
      "(12,)\n"
     ]
    }
   ],
   "source": [
    "import torch\n",
    "import jax\n",
    "import jax.numpy as jnp\n",
    "\n",
    "F_x_lw = jnp.float32(12.0) \n",
    "\n",
    "F = jnp.arange(12,dtype=jnp.float32)\n",
    "every_third_element = F[2::3]\n",
    "c = jnp.array([0, 1] * 2, dtype=jnp.int32)\n",
    "\n",
    "\n",
    "print(F)\n",
    "print(c)\n",
    "print(type(F))\n",
    "print(F.shape)\n",
    "print(F.dtype)\n",
    "print(F.size)\n",
    "print(F.ndim)\n",
    "print(every_third_element)\n",
    "print()\n",
    "\n",
    "F_clamped = enforce_force_constraints_new(F=F, c=c)\n",
    "print()\n",
    "print(F_clamped)\n",
    "print(F_clamped.shape)\n"
   ]
  },
  {
   "cell_type": "code",
   "execution_count": 94,
   "metadata": {},
   "outputs": [],
   "source": [
    "def enforce_force_constraints_new( F: jnp.array, c: jnp.array) -> jnp.array:\n",
    "    \"\"\" Given raw GRFs in local world frame and the contact sequence, return the GRF clamped by the friction cone\n",
    "    and set to zero if not in contact\n",
    "    \n",
    "    Args :\n",
    "        F (jnp.array): Ground Reaction forces samples                    of shape(num_legs*3)\n",
    "        c    (jnp.array): contact sequence samples                       of shape(num_legs)\n",
    "        \n",
    "    Return\n",
    "        F_lw (jnp.array): Clamped ground reaction forces                 of shape(num_legs*3)\"\"\"\n",
    "\n",
    "    # --- Step 1 : Enforce the friction cone constraints\n",
    "    # Retrieve Force component\n",
    "    F_x = F[0::3]  # x components: elements 0, 3, 6, 9\n",
    "    F_y = F[1::3]  # y components: elements 1, 4, 7, 10\n",
    "    F_z = F[2::3]  # z components: elements 2, 5, 8, 11\n",
    "    \n",
    "\n",
    "    # Compute the maximum Force in the xz plane\n",
    "    F_xy_max = 0.55 * F_z\n",
    "\n",
    "    # Compute the actual force in the xy plane\n",
    "    F_xy = jnp.sqrt(F_x**2 + F_y**2)\n",
    "\n",
    "    # Compute the angle in the xy plane of the Force\n",
    "    alpha = jnp.arccos(F_x / F_xy)\n",
    "    print('alpha       ',alpha)\n",
    "\n",
    "    # Apply the constraint in the xy plane\n",
    "    F_xy_clamped = jnp.minimum(F_xy, F_xy_max)\n",
    "\n",
    "    print('F_xy        ',F_xy)\n",
    "    print('F_xy_max    ',F_xy_max)\n",
    "    print('F_xy_clamped',F_xy_clamped)\n",
    "    print('F_z         ', F_z)\n",
    "\n",
    "    # Project these clamped forces in the xy plane back as x,y component\n",
    "    F_x_clamped = F_xy_clamped*jnp.cos(alpha)\n",
    "    F_y_clamped = F_xy_clamped*jnp.sin(alpha)\n",
    "    print('F_x_clamped ',F_x_clamped)\n",
    "\n",
    "    # Finally reconstruct the vector\n",
    "    # F_clamped = jnp.stack([F_x_clamped, F_y_clamped, F_z]).flatten()\n",
    "    F_clamped = jnp.ravel(jnp.column_stack([F_x_clamped, F_y_clamped, F_z]))\n",
    "    print('F_clamped   ', F_clamped)\n",
    "\n",
    "    # F_clamped = jnp.concatenate([F_x_clamped, F_y_clamped, F_z])\n",
    "    F_clamped = jnp.empty_like(F)\n",
    "    F_clamped = F_clamped.at[0::3].set(F_x_clamped)\n",
    "    F_clamped = F_clamped.at[1::3].set(F_y_clamped)\n",
    "    F_clamped = F_clamped.at[2::3].set(F_z)\n",
    "\n",
    "    print(\"F_clamped   \", F_clamped)\n",
    "\n",
    "    # --- Step 2 : Set force to zero for feet not in contact\n",
    "    F_constrained = F_clamped * c.repeat(3)\n",
    "\n",
    "    return F_constrained"
   ]
  },
  {
   "cell_type": "code",
   "execution_count": 4,
   "metadata": {},
   "outputs": [
    {
     "name": "stdout",
     "output_type": "stream",
     "text": [
      "param_horizon shape: (4, 15)\n",
      "Param horizon [[ 0  1  2  3  4  5  6  7  8  9 10 11 12 13 14]\n",
      " [15 16 17 18 19 20 21 22 23 24 25 26 27 28 29]\n",
      " [30 31 32 33 34 35 36 37 38 39 40 41 42 43 44]\n",
      " [45 46 47 48 49 50 51 52 53 54 55 56 57 58 59]]\n",
      "\n",
      "param shape: (12,)\n",
      "param values: [ 0  1  2 15 16 17 30 31 32 45 46 47]\n"
     ]
    }
   ],
   "source": [
    "import jax.numpy as jnp\n",
    "\n",
    "# Example dimensions (replace with actual values)\n",
    "num_legs = 4\n",
    "time_horizon = 5\n",
    "step = 0  # Example step value\n",
    "\n",
    "# Example param_horizon array (replace with actual data)\n",
    "param_horizon = jnp.arange(num_legs * 3 * time_horizon).reshape((num_legs, 3 * time_horizon))\n",
    "\n",
    "# Extract param for a specific step\n",
    "param = param_horizon[:, 3*step:3*(step+1)].reshape(-1)\n",
    "\n",
    "print(\"param_horizon shape:\", param_horizon.shape)\n",
    "print('Param horizon', param_horizon)\n",
    "print()\n",
    "print(\"param shape:\", param.shape)\n",
    "print(\"param values:\", param)"
   ]
  },
  {
   "cell_type": "code",
   "execution_count": 14,
   "metadata": {},
   "outputs": [
    {
     "name": "stdout",
     "output_type": "stream",
     "text": [
      "param_horizon shape: (4, 15)\n",
      "Param horizon [[ 0  1  2  3  4  5  6  7  8  9 10 11 12 13 14]\n",
      " [15 16 17 18 19 20 21 22 23 24 25 26 27 28 29]\n",
      " [30 31 32 33 34 35 36 37 38 39 40 41 42 43 44]\n",
      " [45 46 47 48 49 50 51 52 53 54 55 56 57 58 59]]\n",
      "\n",
      "param shape: (12,)\n",
      "param values: [ 6  7  8 21 22 23 36 37 38 51 52 53]\n"
     ]
    }
   ],
   "source": [
    "import jax.numpy as jnp\n",
    "from jax import lax\n",
    "\n",
    "# Example dimensions (replace with actual values)\n",
    "num_legs = 4\n",
    "time_horizon = 5\n",
    "step = 2  # Example step value\n",
    "\n",
    "# Example param_horizon array (replace with actual data)\n",
    "param_horizon = jnp.arange(num_legs * 3 * time_horizon).reshape((num_legs, 3 * time_horizon))\n",
    "\n",
    "# Compute the index range for the slice\n",
    "start_idx = step * 3\n",
    "stop_idx = (step + 1) * 3\n",
    "\n",
    "# Use dynamic_slice to extract param for the specific step\n",
    "param_slice = lax.dynamic_slice(param_horizon, (0, start_idx), (num_legs, 3))\n",
    "\n",
    "# Reshape the sliced array into a flattened array param\n",
    "param = jnp.reshape(param_slice, (-1,))\n",
    "\n",
    "print(\"param_horizon shape:\", param_horizon.shape)\n",
    "print('Param horizon', param_horizon)\n",
    "print()\n",
    "print(\"param shape:\", param.shape)\n",
    "print(\"param values:\", param)\n"
   ]
  },
  {
   "cell_type": "code",
   "execution_count": 2,
   "metadata": {},
   "outputs": [
    {
     "name": "stdout",
     "output_type": "stream",
     "text": [
      "parameters shape: (4, 15)\n",
      "parameters [[ 0  1  2  3  4  5  6  7  8  9 10 11 12 13 14]\n",
      " [15 16 17 18 19 20 21 22 23 24 25 26 27 28 29]\n",
      " [30 31 32 33 34 35 36 37 38 39 40 41 42 43 44]\n",
      " [45 46 47 48 49 50 51 52 53 54 55 56 57 58 59]]\n",
      "\n",
      "parameters2 shape: (4, 3, 5)\n",
      "parameters2 [[[ 0  1  2  3  4]\n",
      "  [ 5  6  7  8  9]\n",
      "  [10 11 12 13 14]]\n",
      "\n",
      " [[15 16 17 18 19]\n",
      "  [20 21 22 23 24]\n",
      "  [25 26 27 28 29]]\n",
      "\n",
      " [[30 31 32 33 34]\n",
      "  [35 36 37 38 39]\n",
      "  [40 41 42 43 44]]\n",
      "\n",
      " [[45 46 47 48 49]\n",
      "  [50 51 52 53 54]\n",
      "  [55 56 57 58 59]]]\n",
      "\n",
      "param shape: (12,)\n",
      "param values: [ 3  4  5 18 19 20 33 34 35 48 49 50]\n"
     ]
    }
   ],
   "source": [
    "import jax.numpy as jnp\n",
    "\n",
    "# Example dimensions (replace with actual values)\n",
    "num_legs = 4\n",
    "time_horizon = 5\n",
    "step = 1  # Example step value\n",
    "\n",
    "# Example param_horizon array (replace with actual data)\n",
    "parameters = jnp.arange(num_legs * 3 * time_horizon).reshape((num_legs, 3 * time_horizon))\n",
    "\n",
    "parameters2 = parameters.reshape((num_legs, 3, time_horizon))\n",
    "\n",
    "param = parameters[:, 3*step:3*(step+1)].flatten()\n",
    "\n",
    "print(\"parameters shape:\", parameters.shape)\n",
    "print('parameters', parameters)\n",
    "print()\n",
    "print(\"parameters2 shape:\", parameters2.shape)\n",
    "print('parameters2', parameters2)\n",
    "print()\n",
    "print(\"param shape:\", param.shape)\n",
    "print(\"param values:\", param)"
   ]
  },
  {
   "cell_type": "code",
   "execution_count": 9,
   "metadata": {},
   "outputs": [
    {
     "name": "stdout",
     "output_type": "stream",
     "text": [
      "torch.Size([1, 4, 3, 5])\n",
      "tensor([[[[ 0,  1,  2,  3,  4],\n",
      "          [ 5,  6,  7,  8,  9],\n",
      "          [10, 11, 12, 13, 14]],\n",
      "\n",
      "         [[15, 16, 17, 18, 19],\n",
      "          [20, 21, 22, 23, 24],\n",
      "          [25, 26, 27, 28, 29]],\n",
      "\n",
      "         [[30, 31, 32, 33, 34],\n",
      "          [35, 36, 37, 38, 39],\n",
      "          [40, 41, 42, 43, 44]],\n",
      "\n",
      "         [[45, 46, 47, 48, 49],\n",
      "          [50, 51, 52, 53, 54],\n",
      "          [55, 56, 57, 58, 59]]]])\n",
      "\n",
      "torch.Size([1, 4, 15])\n",
      "tensor([[[ 0,  1,  2,  3,  4,  5,  6,  7,  8,  9, 10, 11, 12, 13, 14],\n",
      "         [15, 16, 17, 18, 19, 20, 21, 22, 23, 24, 25, 26, 27, 28, 29],\n",
      "         [30, 31, 32, 33, 34, 35, 36, 37, 38, 39, 40, 41, 42, 43, 44],\n",
      "         [45, 46, 47, 48, 49, 50, 51, 52, 53, 54, 55, 56, 57, 58, 59]]])\n"
     ]
    }
   ],
   "source": [
    "import torch\n",
    "\n",
    "F = torch.arange(60).reshape(1,4,3,5)\n",
    "print(F.shape)\n",
    "print(F)\n",
    "print()\n",
    "print(F.flatten(2,3).shape)\n",
    "print(F.flatten(2,3))"
   ]
  },
  {
   "cell_type": "code",
   "execution_count": 12,
   "metadata": {},
   "outputs": [
    {
     "name": "stdout",
     "output_type": "stream",
     "text": [
      "parameters shape: (4, 15)\n",
      "parameters [[ 0  1  2  3  4  5  6  7  8  9 10 11 12 13 14]\n",
      " [15 16 17 18 19 20 21 22 23 24 25 26 27 28 29]\n",
      " [30 31 32 33 34 35 36 37 38 39 40 41 42 43 44]\n",
      " [45 46 47 48 49 50 51 52 53 54 55 56 57 58 59]]\n",
      "\n",
      "parameters2 shape: (4, 3, 5)\n",
      "parameters2 [[[ 0  1  2  3  4]\n",
      "  [ 5  6  7  8  9]\n",
      "  [10 11 12 13 14]]\n",
      "\n",
      " [[15 16 17 18 19]\n",
      "  [20 21 22 23 24]\n",
      "  [25 26 27 28 29]]\n",
      "\n",
      " [[30 31 32 33 34]\n",
      "  [35 36 37 38 39]\n",
      "  [40 41 42 43 44]]\n",
      "\n",
      " [[45 46 47 48 49]\n",
      "  [50 51 52 53 54]\n",
      "  [55 56 57 58 59]]]\n",
      "\n",
      "param shape: (12,)\n",
      "param values: [ 1  6 11 16 21 26 31 36 41 46 51 56]\n"
     ]
    }
   ],
   "source": [
    "import jax.numpy as jnp\n",
    "\n",
    "# Example dimensions (replace with actual values)\n",
    "num_legs = 4\n",
    "time_horizon = 5\n",
    "step = 1  # Example step value\n",
    "\n",
    "# Example param_horizon array (replace with actual data)\n",
    "parameters = jnp.arange(num_legs * 3 * time_horizon).reshape((num_legs, 3 * time_horizon))\n",
    "\n",
    "parameters2 = parameters.reshape((num_legs, 3, time_horizon))\n",
    "\n",
    "\n",
    "param = parameters2[:,:,step].flatten()\n",
    "\n",
    "# param = parameters[:, 3*step:3*(step+1)].flatten()\n",
    "\n",
    "print(\"parameters shape:\", parameters.shape)\n",
    "print('parameters', parameters)\n",
    "print()\n",
    "print(\"parameters2 shape:\", parameters2.shape)\n",
    "print('parameters2', parameters2)\n",
    "print()\n",
    "print(\"param shape:\", param.shape)\n",
    "print(\"param values:\", param)"
   ]
  },
  {
   "cell_type": "code",
   "execution_count": 20,
   "metadata": {},
   "outputs": [
    {
     "data": {
      "text/plain": [
       "<__main__.ActionNormalizationCfg at 0x7f5ca1750a30>"
      ]
     },
     "execution_count": 20,
     "metadata": {},
     "output_type": "execute_result"
    }
   ],
   "source": [
    "\n",
    "class ActionNormalizationCfg:\n",
    "    \"\"\"  Set of parameters for scaling and shifting raw action\n",
    "\n",
    "    Raw actions are distributed (initially) with mean=0 and std=1 \n",
    "    \"\"\"\n",
    "\n",
    "    # Frequency f : mean=(std_n+std_p)/2, std=(std_p-std_n)/2     : clipped to (min, max)\n",
    "    std_p_f = 1.7        # [Hz]\n",
    "    std_n_f = 1.3        # [Hz]\n",
    "    max_f = 3            # [Hz]\n",
    "    min_f = 0            # [Hz]\n",
    "\n",
    "    # Duty Cycle d : mean=(std_n+std_p)/2, std=(std_p-std_n)/2     : clipped to (min, max)\n",
    "    std_p_d = 0.63       # [2pi Rad]\n",
    "    std_n_d = 0.57       # [2pi Rad]\n",
    "    max_d = 1.0          # [2pi Rad]\n",
    "    min_d = 0.0          # [2pi Rad]\n",
    "\n",
    "    # Foot touch down position : mean=(std_n+std_p)/2, std=(std_p-std_n)/2     : clipped to (min, max)\n",
    "    std_p_x_p = +0.03    # [m]\n",
    "    std_n_x_p = -0.01    # [m] \n",
    "    std_p_y_p = +0.01    # [m]\n",
    "    std_n_y_p = -0.01    # [m]\n",
    "    max_p_x_p = +0.36    # [m]\n",
    "    min_p_x_p = -0.24    # [m]\n",
    "    max_p_y_p = +0.20    # [m]\n",
    "    min_p_y_p = -0.20    # [m]\n",
    "\n",
    "    # Ground Reaction Forces : clipped to (min, max), not clipped if set to None\n",
    "    mean_xy_F = 0        # [N]\n",
    "    std_xy_F = (10 / 2)  # [N]\n",
    "    max_xy_F = None      # [N]\n",
    "    min_xy_F = None      # [N]\n",
    "\n",
    "    mean_z_F = (200 / 2) # [N] : 200/2 ~= 20[kg_aliengo] * 9.81 [m/s²] / 2 [leg in contact]\n",
    "    std_z = mean_z_F/5   # [N]\n",
    "    max_z_F = None       # [N]\n",
    "    min_z_F = 0          # [N]\n",
    "\n",
    "\n",
    "actionNormalizationCfg = ActionNormalizationCfg()\n",
    "\n",
    "actionNormalizationCfg"
   ]
  },
  {
   "cell_type": "code",
   "execution_count": 21,
   "metadata": {},
   "outputs": [],
   "source": [
    "from typing import Any\n",
    "from collections.abc import Callable, Sequence\n",
    "import inspect\n",
    "\n",
    "def callable_to_string(value: Callable) -> str:\n",
    "    \"\"\"Converts a callable object to a string.\n",
    "\n",
    "    Args:\n",
    "        value: A callable object.\n",
    "\n",
    "    Raises:\n",
    "        ValueError: When the input argument is not a callable object.\n",
    "\n",
    "    Returns:\n",
    "        A string representation of the callable object.\n",
    "    \"\"\"\n",
    "    # check if callable\n",
    "    if not callable(value):\n",
    "        raise ValueError(f\"The input argument is not callable: {value}.\")\n",
    "    # check if lambda function\n",
    "    if value.__name__ == \"<lambda>\":\n",
    "        return f\"lambda {inspect.getsourcelines(value)[0][0].strip().split('lambda')[1].strip().split(',')[0]}\"\n",
    "    else:\n",
    "        # get the module and function name\n",
    "        module_name = value.__module__\n",
    "        function_name = value.__name__\n",
    "        # return the string\n",
    "        return f\"{module_name}:{function_name}\"\n",
    "\n",
    "def class_to_dict(obj: object) -> dict[str, Any]:\n",
    "    \"\"\"Convert an object into dictionary recursively.\n",
    "\n",
    "    Note:\n",
    "        Ignores all names starting with \"__\" (i.e. built-in methods).\n",
    "\n",
    "    Args:\n",
    "        obj: An instance of a class to convert.\n",
    "\n",
    "    Raises:\n",
    "        ValueError: When input argument is not an object.\n",
    "\n",
    "    Returns:\n",
    "        Converted dictionary mapping.\n",
    "    \"\"\"\n",
    "    # check that input data is class instance\n",
    "    if not hasattr(obj, \"__class__\"):\n",
    "        raise ValueError(f\"Expected a class instance. Received: {type(obj)}.\")\n",
    "    # convert object to dictionary\n",
    "    if isinstance(obj, dict):\n",
    "        obj_dict = obj\n",
    "    else:\n",
    "        obj_dict = obj.__dict__\n",
    "    # convert to dictionary\n",
    "    data = dict()\n",
    "    for key, value in obj_dict.items():\n",
    "        # disregard builtin attributes\n",
    "        if key.startswith(\"__\"):\n",
    "            continue\n",
    "        # check if attribute is callable -- function\n",
    "        if callable(value):\n",
    "            data[key] = callable_to_string(value)\n",
    "        # check if attribute is a dictionary\n",
    "        elif hasattr(value, \"__dict__\") or isinstance(value, dict):\n",
    "            data[key] = class_to_dict(value)\n",
    "        else:\n",
    "            data[key] = value\n",
    "    return data"
   ]
  },
  {
   "cell_type": "code",
   "execution_count": 25,
   "metadata": {},
   "outputs": [
    {
     "name": "stdout",
     "output_type": "stream",
     "text": [
      "100.0\n",
      "{}\n"
     ]
    }
   ],
   "source": [
    "print(actionNormalizationCfg.mean_z_F)\n",
    "print(class_to_dict(actionNormalizationCfg))"
   ]
  },
  {
   "cell_type": "code",
   "execution_count": 32,
   "metadata": {},
   "outputs": [
    {
     "name": "stdout",
     "output_type": "stream",
     "text": [
      "torch.Size([2, 3])\n",
      "torch.Size([2, 3])\n"
     ]
    }
   ],
   "source": [
    "import torch\n",
    "\n",
    "b = torch.tensor([[1,2],[3,4]])\n",
    "# a=b\n",
    "\n",
    "a = torch.empty((2,3))\n",
    "a[:,:2] = b\n",
    "\n",
    "print(a.shape)\n",
    "\n",
    "a[:,2] = torch.tensor([3,4])\n",
    "print(a.shape)"
   ]
  },
  {
   "cell_type": "code",
   "execution_count": 12,
   "metadata": {},
   "outputs": [
    {
     "data": {
      "text/plain": [
       "[<matplotlib.lines.Line2D at 0x749ce38bb3d0>]"
      ]
     },
     "execution_count": 12,
     "metadata": {},
     "output_type": "execute_result"
    },
    {
     "data": {
      "image/png": "[encoded data removed]",
      "text/plain": [
       "<Figure size 640x480 with 1 Axes>"
      ]
     },
     "metadata": {},
     "output_type": "display_data"
    }
   ],
   "source": [
    "import matplotlib.pyplot as plt\n",
    "import torch\n",
    "import numpy as np\n",
    "import math\n",
    "\n",
    "x = np.linspace(-7,7,100)\n",
    "\n",
    "y1 = x % (2*math.pi)\n",
    "y2 = ((x - math.pi) % (2*math.pi)) - math.pi\n",
    "plt.plot(x,y1)\n",
    "plt.plot(x,y2)\n"
   ]
  },
  {
   "cell_type": "code",
   "execution_count": 49,
   "metadata": {},
   "outputs": [
    {
     "data": {
      "text/plain": [
       "tensor([[  0,   1,   2,   3,   4,   5,   6,   7,   8,   9,  10,  11,  12,  13,\n",
       "          14,  15,  16,  17,  18,  19,  20,  21,  22,  23,  24,  25,  26,  27],\n",
       "        [ 28,  29,  30,  31,  32,  33,  34,  35,  36,  37,  38,  39,  40,  41,\n",
       "          42,  43,  44,  45,  46,  47,  48,  49,  50,  51,  52,  53,  54,  55],\n",
       "        [ 56,  57,  58,  59,  60,  61,  62,  63,  64,  65,  66,  67,  68,  69,\n",
       "          70,  71,  72,  73,  74,  75,  76,  77,  78,  79,  80,  81,  82,  83],\n",
       "        [ 84,  85,  86,  87,  88,  89,  90,  91,  92,  93,  94,  95,  96,  97,\n",
       "          98,  99, 100, 101, 102, 103, 104, 105, 106, 107, 108, 109, 110, 111],\n",
       "        [112, 113, 114, 115, 116, 117, 118, 119, 120, 121, 122, 123, 124, 125,\n",
       "         126, 127, 128, 129, 130, 131, 132, 133, 134, 135, 136, 137, 138, 139],\n",
       "        [140, 141, 142, 143, 144, 145, 146, 147, 148, 149, 150, 151, 152, 153,\n",
       "         154, 155, 156, 157, 158, 159, 160, 161, 162, 163, 164, 165, 166, 167],\n",
       "        [168, 169, 170, 171, 172, 173, 174, 175, 176, 177, 178, 179, 180, 181,\n",
       "         182, 183, 184, 185, 186, 187, 188, 189, 190, 191, 192, 193, 194, 195],\n",
       "        [196, 197, 198, 199, 200, 201, 202, 203, 204, 205, 206, 207, 208, 209,\n",
       "         210, 211, 212, 213, 214, 215, 216, 217, 218, 219, 220, 221, 222, 223],\n",
       "        [224, 225, 226, 227, 228, 229, 230, 231, 232, 233, 234, 235, 236, 237,\n",
       "         238, 239, 240, 241, 242, 243, 244, 245, 246, 247, 248, 249, 250, 251],\n",
       "        [252, 253, 254, 255, 256, 257, 258, 259, 260, 261, 262, 263, 264, 265,\n",
       "         266, 267, 268, 269, 270, 271, 272, 273, 274, 275, 276, 277, 278, 279],\n",
       "        [280, 281, 282, 283, 284, 285, 286, 287, 288, 289, 290, 291, 292, 293,\n",
       "         294, 295, 296, 297, 298, 299, 300, 301, 302, 303, 304, 305, 306, 307],\n",
       "        [308, 309, 310, 311, 312, 313, 314, 315, 316, 317, 318, 319, 320, 321,\n",
       "         322, 323, 324, 325, 326, 327, 328, 329, 330, 331, 332, 333, 334, 335],\n",
       "        [336, 337, 338, 339, 340, 341, 342, 343, 344, 345, 346, 347, 348, 349,\n",
       "         350, 351, 352, 353, 354, 355, 356, 357, 358, 359, 360, 361, 362, 363],\n",
       "        [364, 365, 366, 367, 368, 369, 370, 371, 372, 373, 374, 375, 376, 377,\n",
       "         378, 379, 380, 381, 382, 383, 384, 385, 386, 387, 388, 389, 390, 391],\n",
       "        [392, 393, 394, 395, 396, 397, 398, 399, 400, 401, 402, 403, 404, 405,\n",
       "         406, 407, 408, 409, 410, 411, 412, 413, 414, 415, 416, 417, 418, 419]])"
      ]
     },
     "execution_count": 49,
     "metadata": {},
     "output_type": "execute_result"
    }
   ],
   "source": [
    "import torch\n",
    "\n",
    "a = torch.arange(840).view(2,15,28)\n",
    "a[0,...]"
   ]
  },
  {
   "cell_type": "code",
   "execution_count": 50,
   "metadata": {},
   "outputs": [
    {
     "name": "stdout",
     "output_type": "stream",
     "text": [
      "[tensor([[  0,   1,   2,   3,   4,   5,   6,   7,   8,   9,  10,  11,  12,  13,\n",
      "          14,  15,  16,  17,  18,  19,  20,  21,  22,  23,  24,  25,  26,  27],\n",
      "        [420, 421, 422, 423, 424, 425, 426, 427, 428, 429, 430, 431, 432, 433,\n",
      "         434, 435, 436, 437, 438, 439, 440, 441, 442, 443, 444, 445, 446, 447]]), tensor([[ 28,  29,  30,  31,  32,  33,  34,  35,  36,  37,  38,  39,  40,  41,\n",
      "          42,  43,  44,  45,  46,  47,  48,  49,  50,  51,  52,  53,  54,  55],\n",
      "        [448, 449, 450, 451, 452, 453, 454, 455, 456, 457, 458, 459, 460, 461,\n",
      "         462, 463, 464, 465, 466, 467, 468, 469, 470, 471, 472, 473, 474, 475]]), tensor([[ 56,  57,  58,  59,  60,  61,  62,  63,  64,  65,  66,  67,  68,  69,\n",
      "          70,  71,  72,  73,  74,  75,  76,  77,  78,  79,  80,  81,  82,  83],\n",
      "        [476, 477, 478, 479, 480, 481, 482, 483, 484, 485, 486, 487, 488, 489,\n",
      "         490, 491, 492, 493, 494, 495, 496, 497, 498, 499, 500, 501, 502, 503]]), tensor([[ 84,  85,  86,  87,  88,  89,  90,  91,  92,  93,  94,  95,  96,  97,\n",
      "          98,  99, 100, 101, 102, 103, 104, 105, 106, 107, 108, 109, 110, 111],\n",
      "        [504, 505, 506, 507, 508, 509, 510, 511, 512, 513, 514, 515, 516, 517,\n",
      "         518, 519, 520, 521, 522, 523, 524, 525, 526, 527, 528, 529, 530, 531]]), tensor([[112, 113, 114, 115, 116, 117, 118, 119, 120, 121, 122, 123, 124, 125,\n",
      "         126, 127, 128, 129, 130, 131, 132, 133, 134, 135, 136, 137, 138, 139],\n",
      "        [532, 533, 534, 535, 536, 537, 538, 539, 540, 541, 542, 543, 544, 545,\n",
      "         546, 547, 548, 549, 550, 551, 552, 553, 554, 555, 556, 557, 558, 559]]), tensor([[140, 141, 142, 143, 144, 145, 146, 147, 148, 149, 150, 151, 152, 153,\n",
      "         154, 155, 156, 157, 158, 159, 160, 161, 162, 163, 164, 165, 166, 167],\n",
      "        [560, 561, 562, 563, 564, 565, 566, 567, 568, 569, 570, 571, 572, 573,\n",
      "         574, 575, 576, 577, 578, 579, 580, 581, 582, 583, 584, 585, 586, 587]]), tensor([[168, 169, 170, 171, 172, 173, 174, 175, 176, 177, 178, 179, 180, 181,\n",
      "         182, 183, 184, 185, 186, 187, 188, 189, 190, 191, 192, 193, 194, 195],\n",
      "        [588, 589, 590, 591, 592, 593, 594, 595, 596, 597, 598, 599, 600, 601,\n",
      "         602, 603, 604, 605, 606, 607, 608, 609, 610, 611, 612, 613, 614, 615]]), tensor([[196, 197, 198, 199, 200, 201, 202, 203, 204, 205, 206, 207, 208, 209,\n",
      "         210, 211, 212, 213, 214, 215, 216, 217, 218, 219, 220, 221, 222, 223],\n",
      "        [616, 617, 618, 619, 620, 621, 622, 623, 624, 625, 626, 627, 628, 629,\n",
      "         630, 631, 632, 633, 634, 635, 636, 637, 638, 639, 640, 641, 642, 643]]), tensor([[224, 225, 226, 227, 228, 229, 230, 231, 232, 233, 234, 235, 236, 237,\n",
      "         238, 239, 240, 241, 242, 243, 244, 245, 246, 247, 248, 249, 250, 251],\n",
      "        [644, 645, 646, 647, 648, 649, 650, 651, 652, 653, 654, 655, 656, 657,\n",
      "         658, 659, 660, 661, 662, 663, 664, 665, 666, 667, 668, 669, 670, 671]]), tensor([[252, 253, 254, 255, 256, 257, 258, 259, 260, 261, 262, 263, 264, 265,\n",
      "         266, 267, 268, 269, 270, 271, 272, 273, 274, 275, 276, 277, 278, 279],\n",
      "        [672, 673, 674, 675, 676, 677, 678, 679, 680, 681, 682, 683, 684, 685,\n",
      "         686, 687, 688, 689, 690, 691, 692, 693, 694, 695, 696, 697, 698, 699]]), tensor([[280, 281, 282, 283, 284, 285, 286, 287, 288, 289, 290, 291, 292, 293,\n",
      "         294, 295, 296, 297, 298, 299, 300, 301, 302, 303, 304, 305, 306, 307],\n",
      "        [700, 701, 702, 703, 704, 705, 706, 707, 708, 709, 710, 711, 712, 713,\n",
      "         714, 715, 716, 717, 718, 719, 720, 721, 722, 723, 724, 725, 726, 727]]), tensor([[308, 309, 310, 311, 312, 313, 314, 315, 316, 317, 318, 319, 320, 321,\n",
      "         322, 323, 324, 325, 326, 327, 328, 329, 330, 331, 332, 333, 334, 335],\n",
      "        [728, 729, 730, 731, 732, 733, 734, 735, 736, 737, 738, 739, 740, 741,\n",
      "         742, 743, 744, 745, 746, 747, 748, 749, 750, 751, 752, 753, 754, 755]]), tensor([[336, 337, 338, 339, 340, 341, 342, 343, 344, 345, 346, 347, 348, 349,\n",
      "         350, 351, 352, 353, 354, 355, 356, 357, 358, 359, 360, 361, 362, 363],\n",
      "        [756, 757, 758, 759, 760, 761, 762, 763, 764, 765, 766, 767, 768, 769,\n",
      "         770, 771, 772, 773, 774, 775, 776, 777, 778, 779, 780, 781, 782, 783]]), tensor([[364, 365, 366, 367, 368, 369, 370, 371, 372, 373, 374, 375, 376, 377,\n",
      "         378, 379, 380, 381, 382, 383, 384, 385, 386, 387, 388, 389, 390, 391],\n",
      "        [784, 785, 786, 787, 788, 789, 790, 791, 792, 793, 794, 795, 796, 797,\n",
      "         798, 799, 800, 801, 802, 803, 804, 805, 806, 807, 808, 809, 810, 811]]), tensor([[392, 393, 394, 395, 396, 397, 398, 399, 400, 401, 402, 403, 404, 405,\n",
      "         406, 407, 408, 409, 410, 411, 412, 413, 414, 415, 416, 417, 418, 419],\n",
      "        [812, 813, 814, 815, 816, 817, 818, 819, 820, 821, 822, 823, 824, 825,\n",
      "         826, 827, 828, 829, 830, 831, 832, 833, 834, 835, 836, 837, 838, 839]])]\n"
     ]
    }
   ],
   "source": [
    "a_list = []\n",
    "\n",
    "for i in range(15):\n",
    "    a_list.append(a[:,i,:])\n",
    "\n",
    "print(a_list)"
   ]
  },
  {
   "cell_type": "code",
   "execution_count": 51,
   "metadata": {},
   "outputs": [
    {
     "data": {
      "text/plain": [
       "tensor(True)"
      ]
     },
     "execution_count": 51,
     "metadata": {},
     "output_type": "execute_result"
    }
   ],
   "source": [
    "raw_actions = torch.stack(a_list).permute(1,0,2)\n",
    "(raw_actions == a).all()\n",
    "\n"
   ]
  },
  {
   "cell_type": "code",
   "execution_count": 52,
   "metadata": {},
   "outputs": [],
   "source": [
    "f_len, d_len, p_len, F_len= 4,4,8,12"
   ]
  },
  {
   "cell_type": "code",
   "execution_count": 53,
   "metadata": {},
   "outputs": [],
   "source": [
    "f = raw_actions[:,0,  0                 : f_len                   ]             # shape (batch_size, f_len)\n",
    "d = raw_actions[:,0,  f_len             :(f_len+d_len)            ]             # shape (batch_size, d_len)\n",
    "p = raw_actions[:,:, (f_len+d_len)      :(f_len+d_len+p_len)      ].transpose(1,2).flatten(1,2)# shape (batch_size, buffer_size*p_len)\n",
    "F = raw_actions[:,:, (f_len+d_len+p_len):(f_len+d_len+p_len+F_len)].transpose(1,2).flatten(1,2)# shape (batch_size, buffer_size*F_len)"
   ]
  },
  {
   "cell_type": "code",
   "execution_count": 54,
   "metadata": {},
   "outputs": [
    {
     "data": {
      "text/plain": [
       "tensor([[  0,   1,   2,   3],\n",
       "        [420, 421, 422, 423]])"
      ]
     },
     "execution_count": 54,
     "metadata": {},
     "output_type": "execute_result"
    }
   ],
   "source": [
    "f"
   ]
  },
  {
   "cell_type": "code",
   "execution_count": 55,
   "metadata": {},
   "outputs": [
    {
     "data": {
      "text/plain": [
       "tensor([[  4,   5,   6,   7],\n",
       "        [424, 425, 426, 427]])"
      ]
     },
     "execution_count": 55,
     "metadata": {},
     "output_type": "execute_result"
    }
   ],
   "source": [
    "d"
   ]
  },
  {
   "cell_type": "code",
   "execution_count": 56,
   "metadata": {},
   "outputs": [
    {
     "data": {
      "text/plain": [
       "tensor([[[[  8,  36],\n",
       "          [ 64,  92],\n",
       "          [120, 148],\n",
       "          [176, 204]],\n",
       "\n",
       "         [[232, 260],\n",
       "          [288, 316],\n",
       "          [344, 372],\n",
       "          [400,   9]],\n",
       "\n",
       "         [[ 37,  65],\n",
       "          [ 93, 121],\n",
       "          [149, 177],\n",
       "          [205, 233]],\n",
       "\n",
       "         [[261, 289],\n",
       "          [317, 345],\n",
       "          [373, 401],\n",
       "          [ 10,  38]],\n",
       "\n",
       "         [[ 66,  94],\n",
       "          [122, 150],\n",
       "          [178, 206],\n",
       "          [234, 262]],\n",
       "\n",
       "         [[290, 318],\n",
       "          [346, 374],\n",
       "          [402,  11],\n",
       "          [ 39,  67]],\n",
       "\n",
       "         [[ 95, 123],\n",
       "          [151, 179],\n",
       "          [207, 235],\n",
       "          [263, 291]],\n",
       "\n",
       "         [[319, 347],\n",
       "          [375, 403],\n",
       "          [ 12,  40],\n",
       "          [ 68,  96]],\n",
       "\n",
       "         [[124, 152],\n",
       "          [180, 208],\n",
       "          [236, 264],\n",
       "          [292, 320]],\n",
       "\n",
       "         [[348, 376],\n",
       "          [404,  13],\n",
       "          [ 41,  69],\n",
       "          [ 97, 125]],\n",
       "\n",
       "         [[153, 181],\n",
       "          [209, 237],\n",
       "          [265, 293],\n",
       "          [321, 349]],\n",
       "\n",
       "         [[377, 405],\n",
       "          [ 14,  42],\n",
       "          [ 70,  98],\n",
       "          [126, 154]],\n",
       "\n",
       "         [[182, 210],\n",
       "          [238, 266],\n",
       "          [294, 322],\n",
       "          [350, 378]],\n",
       "\n",
       "         [[406,  15],\n",
       "          [ 43,  71],\n",
       "          [ 99, 127],\n",
       "          [155, 183]],\n",
       "\n",
       "         [[211, 239],\n",
       "          [267, 295],\n",
       "          [323, 351],\n",
       "          [379, 407]]],\n",
       "\n",
       "\n",
       "        [[[428, 456],\n",
       "          [484, 512],\n",
       "          [540, 568],\n",
       "          [596, 624]],\n",
       "\n",
       "         [[652, 680],\n",
       "          [708, 736],\n",
       "          [764, 792],\n",
       "          [820, 429]],\n",
       "\n",
       "         [[457, 485],\n",
       "          [513, 541],\n",
       "          [569, 597],\n",
       "          [625, 653]],\n",
       "\n",
       "         [[681, 709],\n",
       "          [737, 765],\n",
       "          [793, 821],\n",
       "          [430, 458]],\n",
       "\n",
       "         [[486, 514],\n",
       "          [542, 570],\n",
       "          [598, 626],\n",
       "          [654, 682]],\n",
       "\n",
       "         [[710, 738],\n",
       "          [766, 794],\n",
       "          [822, 431],\n",
       "          [459, 487]],\n",
       "\n",
       "         [[515, 543],\n",
       "          [571, 599],\n",
       "          [627, 655],\n",
       "          [683, 711]],\n",
       "\n",
       "         [[739, 767],\n",
       "          [795, 823],\n",
       "          [432, 460],\n",
       "          [488, 516]],\n",
       "\n",
       "         [[544, 572],\n",
       "          [600, 628],\n",
       "          [656, 684],\n",
       "          [712, 740]],\n",
       "\n",
       "         [[768, 796],\n",
       "          [824, 433],\n",
       "          [461, 489],\n",
       "          [517, 545]],\n",
       "\n",
       "         [[573, 601],\n",
       "          [629, 657],\n",
       "          [685, 713],\n",
       "          [741, 769]],\n",
       "\n",
       "         [[797, 825],\n",
       "          [434, 462],\n",
       "          [490, 518],\n",
       "          [546, 574]],\n",
       "\n",
       "         [[602, 630],\n",
       "          [658, 686],\n",
       "          [714, 742],\n",
       "          [770, 798]],\n",
       "\n",
       "         [[826, 435],\n",
       "          [463, 491],\n",
       "          [519, 547],\n",
       "          [575, 603]],\n",
       "\n",
       "         [[631, 659],\n",
       "          [687, 715],\n",
       "          [743, 771],\n",
       "          [799, 827]]]])"
      ]
     },
     "execution_count": 56,
     "metadata": {},
     "output_type": "execute_result"
    }
   ],
   "source": [
    "p.view(2,15,4,2)"
   ]
  },
  {
   "cell_type": "code",
   "execution_count": 57,
   "metadata": {},
   "outputs": [
    {
     "data": {
      "text/plain": [
       "tensor([[ 16,  44,  72, 100, 128, 156, 184, 212, 240, 268, 296, 324, 352, 380,\n",
       "         408,  17,  45,  73, 101, 129, 157, 185, 213, 241, 269, 297, 325, 353,\n",
       "         381, 409,  18,  46,  74, 102, 130, 158, 186, 214, 242, 270, 298, 326,\n",
       "         354, 382, 410,  19,  47,  75, 103, 131, 159, 187, 215, 243, 271, 299,\n",
       "         327, 355, 383, 411,  20,  48,  76, 104, 132, 160, 188, 216, 244, 272,\n",
       "         300, 328, 356, 384, 412,  21,  49,  77, 105, 133, 161, 189, 217, 245,\n",
       "         273, 301, 329, 357, 385, 413,  22,  50,  78, 106, 134, 162, 190, 218,\n",
       "         246, 274, 302, 330, 358, 386, 414,  23,  51,  79, 107, 135, 163, 191,\n",
       "         219, 247, 275, 303, 331, 359, 387, 415,  24,  52,  80, 108, 136, 164,\n",
       "         192, 220, 248, 276, 304, 332, 360, 388, 416,  25,  53,  81, 109, 137,\n",
       "         165, 193, 221, 249, 277, 305, 333, 361, 389, 417,  26,  54,  82, 110,\n",
       "         138, 166, 194, 222, 250, 278, 306, 334, 362, 390, 418,  27,  55,  83,\n",
       "         111, 139, 167, 195, 223, 251, 279, 307, 335, 363, 391, 419],\n",
       "        [436, 464, 492, 520, 548, 576, 604, 632, 660, 688, 716, 744, 772, 800,\n",
       "         828, 437, 465, 493, 521, 549, 577, 605, 633, 661, 689, 717, 745, 773,\n",
       "         801, 829, 438, 466, 494, 522, 550, 578, 606, 634, 662, 690, 718, 746,\n",
       "         774, 802, 830, 439, 467, 495, 523, 551, 579, 607, 635, 663, 691, 719,\n",
       "         747, 775, 803, 831, 440, 468, 496, 524, 552, 580, 608, 636, 664, 692,\n",
       "         720, 748, 776, 804, 832, 441, 469, 497, 525, 553, 581, 609, 637, 665,\n",
       "         693, 721, 749, 777, 805, 833, 442, 470, 498, 526, 554, 582, 610, 638,\n",
       "         666, 694, 722, 750, 778, 806, 834, 443, 471, 499, 527, 555, 583, 611,\n",
       "         639, 667, 695, 723, 751, 779, 807, 835, 444, 472, 500, 528, 556, 584,\n",
       "         612, 640, 668, 696, 724, 752, 780, 808, 836, 445, 473, 501, 529, 557,\n",
       "         585, 613, 641, 669, 697, 725, 753, 781, 809, 837, 446, 474, 502, 530,\n",
       "         558, 586, 614, 642, 670, 698, 726, 754, 782, 810, 838, 447, 475, 503,\n",
       "         531, 559, 587, 615, 643, 671, 699, 727, 755, 783, 811, 839]])"
      ]
     },
     "execution_count": 57,
     "metadata": {},
     "output_type": "execute_result"
    }
   ],
   "source": [
    "F"
   ]
  },
  {
   "cell_type": "code",
   "execution_count": 58,
   "metadata": {},
   "outputs": [
    {
     "data": {
      "text/plain": [
       "tensor([[  0,   1,   2,   3,   4,   5,   6,   7,   8,  36,  64,  92, 120, 148,\n",
       "         176, 204, 232, 260, 288, 316, 344, 372, 400,   9,  37,  65,  93, 121,\n",
       "         149, 177, 205, 233, 261, 289, 317, 345, 373, 401,  10,  38,  66,  94,\n",
       "         122, 150, 178, 206, 234, 262, 290, 318, 346, 374, 402,  11,  39,  67,\n",
       "          95, 123, 151, 179, 207, 235, 263, 291, 319, 347, 375, 403,  12,  40,\n",
       "          68,  96, 124, 152, 180, 208, 236, 264, 292, 320, 348, 376, 404,  13,\n",
       "          41,  69,  97, 125, 153, 181, 209, 237, 265, 293, 321, 349, 377, 405,\n",
       "          14,  42,  70,  98, 126, 154, 182, 210, 238, 266, 294, 322, 350, 378,\n",
       "         406,  15,  43,  71,  99, 127, 155, 183, 211, 239, 267, 295, 323, 351,\n",
       "         379, 407,  16,  44,  72, 100, 128, 156, 184, 212, 240, 268, 296, 324,\n",
       "         352, 380, 408,  17,  45,  73, 101, 129, 157, 185, 213, 241, 269, 297,\n",
       "         325, 353, 381, 409,  18,  46,  74, 102, 130, 158, 186, 214, 242, 270,\n",
       "         298, 326, 354, 382, 410,  19,  47,  75, 103, 131, 159, 187, 215, 243,\n",
       "         271, 299, 327, 355, 383, 411,  20,  48,  76, 104, 132, 160, 188, 216,\n",
       "         244, 272, 300, 328, 356, 384, 412,  21,  49,  77, 105, 133, 161, 189,\n",
       "         217, 245, 273, 301, 329, 357, 385, 413,  22,  50,  78, 106, 134, 162,\n",
       "         190, 218, 246, 274, 302, 330, 358, 386, 414,  23,  51,  79, 107, 135,\n",
       "         163, 191, 219, 247, 275, 303, 331, 359, 387, 415,  24,  52,  80, 108,\n",
       "         136, 164, 192, 220, 248, 276, 304, 332, 360, 388, 416,  25,  53,  81,\n",
       "         109, 137, 165, 193, 221, 249, 277, 305, 333, 361, 389, 417,  26,  54,\n",
       "          82, 110, 138, 166, 194, 222, 250, 278, 306, 334, 362, 390, 418,  27,\n",
       "          55,  83, 111, 139, 167, 195, 223, 251, 279, 307, 335, 363, 391, 419],\n",
       "        [420, 421, 422, 423, 424, 425, 426, 427, 428, 456, 484, 512, 540, 568,\n",
       "         596, 624, 652, 680, 708, 736, 764, 792, 820, 429, 457, 485, 513, 541,\n",
       "         569, 597, 625, 653, 681, 709, 737, 765, 793, 821, 430, 458, 486, 514,\n",
       "         542, 570, 598, 626, 654, 682, 710, 738, 766, 794, 822, 431, 459, 487,\n",
       "         515, 543, 571, 599, 627, 655, 683, 711, 739, 767, 795, 823, 432, 460,\n",
       "         488, 516, 544, 572, 600, 628, 656, 684, 712, 740, 768, 796, 824, 433,\n",
       "         461, 489, 517, 545, 573, 601, 629, 657, 685, 713, 741, 769, 797, 825,\n",
       "         434, 462, 490, 518, 546, 574, 602, 630, 658, 686, 714, 742, 770, 798,\n",
       "         826, 435, 463, 491, 519, 547, 575, 603, 631, 659, 687, 715, 743, 771,\n",
       "         799, 827, 436, 464, 492, 520, 548, 576, 604, 632, 660, 688, 716, 744,\n",
       "         772, 800, 828, 437, 465, 493, 521, 549, 577, 605, 633, 661, 689, 717,\n",
       "         745, 773, 801, 829, 438, 466, 494, 522, 550, 578, 606, 634, 662, 690,\n",
       "         718, 746, 774, 802, 830, 439, 467, 495, 523, 551, 579, 607, 635, 663,\n",
       "         691, 719, 747, 775, 803, 831, 440, 468, 496, 524, 552, 580, 608, 636,\n",
       "         664, 692, 720, 748, 776, 804, 832, 441, 469, 497, 525, 553, 581, 609,\n",
       "         637, 665, 693, 721, 749, 777, 805, 833, 442, 470, 498, 526, 554, 582,\n",
       "         610, 638, 666, 694, 722, 750, 778, 806, 834, 443, 471, 499, 527, 555,\n",
       "         583, 611, 639, 667, 695, 723, 751, 779, 807, 835, 444, 472, 500, 528,\n",
       "         556, 584, 612, 640, 668, 696, 724, 752, 780, 808, 836, 445, 473, 501,\n",
       "         529, 557, 585, 613, 641, 669, 697, 725, 753, 781, 809, 837, 446, 474,\n",
       "         502, 530, 558, 586, 614, 642, 670, 698, 726, 754, 782, 810, 838, 447,\n",
       "         475, 503, 531, 559, 587, 615, 643, 671, 699, 727, 755, 783, 811, 839]])"
      ]
     },
     "execution_count": 58,
     "metadata": {},
     "output_type": "execute_result"
    }
   ],
   "source": [
    "action_to_store = torch.cat((f,d,p,F),dim=1) \n",
    "action_to_store"
   ]
  },
  {
   "cell_type": "code",
   "execution_count": 59,
   "metadata": {},
   "outputs": [],
   "source": [
    "num_envs=2\n",
    "_num_legs=4\n",
    "_p_param=15\n",
    "_F_param=15\n",
    "f_raw  = 1.0*torch.ones(num_envs, _num_legs,             ) \n",
    "d_raw  = 0.6*torch.ones( num_envs, _num_legs,            )\n",
    "p_raw  =     torch.zeros(num_envs, _num_legs, 2, _p_param)\n",
    "F_raw  =     torch.zeros(num_envs, _num_legs, 3, _F_param)"
   ]
  },
  {
   "cell_type": "code",
   "execution_count": 60,
   "metadata": {},
   "outputs": [
    {
     "name": "stdout",
     "output_type": "stream",
     "text": [
      "4\n",
      "4\n",
      "120\n",
      "180\n"
     ]
    }
   ],
   "source": [
    "f_len = f_raw.shape[1:].numel()\n",
    "d_len = d_raw.shape[1:].numel()\n",
    "p_len = p_raw.shape[1:].numel()\n",
    "F_len = F_raw.shape[1:].numel()\n",
    "print(f_len)\n",
    "print(d_len)\n",
    "print(p_len)\n",
    "print(F_len)"
   ]
  },
  {
   "cell_type": "code",
   "execution_count": 61,
   "metadata": {},
   "outputs": [],
   "source": [
    "f_raw = (action_to_store[:, 0                     : f_len                        ]).reshape_as(f_raw)\n",
    "d_raw = (action_to_store[:, f_len                 : f_len + d_len                ]).reshape_as(d_raw)\n",
    "p_raw = (action_to_store[:, f_len + d_len         : f_len + d_len + p_len        ]).reshape_as(p_raw)\n",
    "F_raw = (action_to_store[:, f_len + d_len + p_len : f_len + d_len + p_len + F_len]).reshape_as(F_raw)"
   ]
  },
  {
   "cell_type": "code",
   "execution_count": 62,
   "metadata": {},
   "outputs": [
    {
     "data": {
      "text/plain": [
       "tensor([[  0,   1,   2,   3],\n",
       "        [420, 421, 422, 423]])"
      ]
     },
     "execution_count": 62,
     "metadata": {},
     "output_type": "execute_result"
    }
   ],
   "source": [
    "f_raw"
   ]
  },
  {
   "cell_type": "code",
   "execution_count": 63,
   "metadata": {},
   "outputs": [
    {
     "data": {
      "text/plain": [
       "tensor([[  4,   5,   6,   7],\n",
       "        [424, 425, 426, 427]])"
      ]
     },
     "execution_count": 63,
     "metadata": {},
     "output_type": "execute_result"
    }
   ],
   "source": [
    "d_raw"
   ]
  },
  {
   "cell_type": "code",
   "execution_count": 64,
   "metadata": {},
   "outputs": [
    {
     "data": {
      "text/plain": [
       "tensor([[[[  8,  36,  64,  92, 120, 148, 176, 204, 232, 260, 288, 316, 344, 372,\n",
       "           400],\n",
       "          [  9,  37,  65,  93, 121, 149, 177, 205, 233, 261, 289, 317, 345, 373,\n",
       "           401]],\n",
       "\n",
       "         [[ 10,  38,  66,  94, 122, 150, 178, 206, 234, 262, 290, 318, 346, 374,\n",
       "           402],\n",
       "          [ 11,  39,  67,  95, 123, 151, 179, 207, 235, 263, 291, 319, 347, 375,\n",
       "           403]],\n",
       "\n",
       "         [[ 12,  40,  68,  96, 124, 152, 180, 208, 236, 264, 292, 320, 348, 376,\n",
       "           404],\n",
       "          [ 13,  41,  69,  97, 125, 153, 181, 209, 237, 265, 293, 321, 349, 377,\n",
       "           405]],\n",
       "\n",
       "         [[ 14,  42,  70,  98, 126, 154, 182, 210, 238, 266, 294, 322, 350, 378,\n",
       "           406],\n",
       "          [ 15,  43,  71,  99, 127, 155, 183, 211, 239, 267, 295, 323, 351, 379,\n",
       "           407]]],\n",
       "\n",
       "\n",
       "        [[[428, 456, 484, 512, 540, 568, 596, 624, 652, 680, 708, 736, 764, 792,\n",
       "           820],\n",
       "          [429, 457, 485, 513, 541, 569, 597, 625, 653, 681, 709, 737, 765, 793,\n",
       "           821]],\n",
       "\n",
       "         [[430, 458, 486, 514, 542, 570, 598, 626, 654, 682, 710, 738, 766, 794,\n",
       "           822],\n",
       "          [431, 459, 487, 515, 543, 571, 599, 627, 655, 683, 711, 739, 767, 795,\n",
       "           823]],\n",
       "\n",
       "         [[432, 460, 488, 516, 544, 572, 600, 628, 656, 684, 712, 740, 768, 796,\n",
       "           824],\n",
       "          [433, 461, 489, 517, 545, 573, 601, 629, 657, 685, 713, 741, 769, 797,\n",
       "           825]],\n",
       "\n",
       "         [[434, 462, 490, 518, 546, 574, 602, 630, 658, 686, 714, 742, 770, 798,\n",
       "           826],\n",
       "          [435, 463, 491, 519, 547, 575, 603, 631, 659, 687, 715, 743, 771, 799,\n",
       "           827]]]])"
      ]
     },
     "execution_count": 64,
     "metadata": {},
     "output_type": "execute_result"
    }
   ],
   "source": [
    "p_raw"
   ]
  },
  {
   "cell_type": "code",
   "execution_count": 65,
   "metadata": {},
   "outputs": [
    {
     "data": {
      "text/plain": [
       "tensor([[[[ 16,  44,  72, 100, 128, 156, 184, 212, 240, 268, 296, 324, 352, 380,\n",
       "           408],\n",
       "          [ 17,  45,  73, 101, 129, 157, 185, 213, 241, 269, 297, 325, 353, 381,\n",
       "           409],\n",
       "          [ 18,  46,  74, 102, 130, 158, 186, 214, 242, 270, 298, 326, 354, 382,\n",
       "           410]],\n",
       "\n",
       "         [[ 19,  47,  75, 103, 131, 159, 187, 215, 243, 271, 299, 327, 355, 383,\n",
       "           411],\n",
       "          [ 20,  48,  76, 104, 132, 160, 188, 216, 244, 272, 300, 328, 356, 384,\n",
       "           412],\n",
       "          [ 21,  49,  77, 105, 133, 161, 189, 217, 245, 273, 301, 329, 357, 385,\n",
       "           413]],\n",
       "\n",
       "         [[ 22,  50,  78, 106, 134, 162, 190, 218, 246, 274, 302, 330, 358, 386,\n",
       "           414],\n",
       "          [ 23,  51,  79, 107, 135, 163, 191, 219, 247, 275, 303, 331, 359, 387,\n",
       "           415],\n",
       "          [ 24,  52,  80, 108, 136, 164, 192, 220, 248, 276, 304, 332, 360, 388,\n",
       "           416]],\n",
       "\n",
       "         [[ 25,  53,  81, 109, 137, 165, 193, 221, 249, 277, 305, 333, 361, 389,\n",
       "           417],\n",
       "          [ 26,  54,  82, 110, 138, 166, 194, 222, 250, 278, 306, 334, 362, 390,\n",
       "           418],\n",
       "          [ 27,  55,  83, 111, 139, 167, 195, 223, 251, 279, 307, 335, 363, 391,\n",
       "           419]]],\n",
       "\n",
       "\n",
       "        [[[436, 464, 492, 520, 548, 576, 604, 632, 660, 688, 716, 744, 772, 800,\n",
       "           828],\n",
       "          [437, 465, 493, 521, 549, 577, 605, 633, 661, 689, 717, 745, 773, 801,\n",
       "           829],\n",
       "          [438, 466, 494, 522, 550, 578, 606, 634, 662, 690, 718, 746, 774, 802,\n",
       "           830]],\n",
       "\n",
       "         [[439, 467, 495, 523, 551, 579, 607, 635, 663, 691, 719, 747, 775, 803,\n",
       "           831],\n",
       "          [440, 468, 496, 524, 552, 580, 608, 636, 664, 692, 720, 748, 776, 804,\n",
       "           832],\n",
       "          [441, 469, 497, 525, 553, 581, 609, 637, 665, 693, 721, 749, 777, 805,\n",
       "           833]],\n",
       "\n",
       "         [[442, 470, 498, 526, 554, 582, 610, 638, 666, 694, 722, 750, 778, 806,\n",
       "           834],\n",
       "          [443, 471, 499, 527, 555, 583, 611, 639, 667, 695, 723, 751, 779, 807,\n",
       "           835],\n",
       "          [444, 472, 500, 528, 556, 584, 612, 640, 668, 696, 724, 752, 780, 808,\n",
       "           836]],\n",
       "\n",
       "         [[445, 473, 501, 529, 557, 585, 613, 641, 669, 697, 725, 753, 781, 809,\n",
       "           837],\n",
       "          [446, 474, 502, 530, 558, 586, 614, 642, 670, 698, 726, 754, 782, 810,\n",
       "           838],\n",
       "          [447, 475, 503, 531, 559, 587, 615, 643, 671, 699, 727, 755, 783, 811,\n",
       "           839]]]])"
      ]
     },
     "execution_count": 65,
     "metadata": {},
     "output_type": "execute_result"
    }
   ],
   "source": [
    "F_raw"
   ]
  },
  {
   "cell_type": "code",
   "execution_count": 45,
   "metadata": {},
   "outputs": [
    {
     "name": "stdout",
     "output_type": "stream",
     "text": [
      "torch.Size([1, 28])\n"
     ]
    }
   ],
   "source": [
    "num_envs=1\n",
    "_num_legs=4\n",
    "_p_param=1\n",
    "_F_param=1\n",
    "\n",
    "f_raw  = 1.0*torch.ones(num_envs, _num_legs,             ) \n",
    "d_raw  = 0.6*torch.ones( num_envs, _num_legs,            )\n",
    "p_raw  =     torch.zeros(num_envs, _num_legs, 2, _p_param)\n",
    "F_raw  =     torch.zeros(num_envs, _num_legs, 3, _F_param)\n",
    "\n",
    "\n",
    "b = torch.arange(28).unsqueeze(0)\n",
    "print(b.shape)\n",
    "f_len, d_len, p_len, F_len = 4, 4, 8, 12\n",
    "\n",
    "f_raw = (b[:, 0                     : f_len                        ]).reshape_as(f_raw)\n",
    "d_raw = (b[:, f_len                 : f_len + d_len                ]).reshape_as(d_raw)\n",
    "p_raw = (b[:, f_len + d_len         : f_len + d_len + p_len        ]).reshape_as(p_raw)\n",
    "F_raw = (b[:, f_len + d_len + p_len : f_len + d_len + p_len + F_len]).reshape_as(F_raw)"
   ]
  },
  {
   "cell_type": "code",
   "execution_count": 47,
   "metadata": {},
   "outputs": [
    {
     "name": "stdout",
     "output_type": "stream",
     "text": [
      "tensor([[0, 1, 2, 3]])\n",
      "tensor([[4, 5, 6, 7]])\n",
      "tensor([[[[ 8],\n",
      "          [ 9]],\n",
      "\n",
      "         [[10],\n",
      "          [11]],\n",
      "\n",
      "         [[12],\n",
      "          [13]],\n",
      "\n",
      "         [[14],\n",
      "          [15]]]])\n",
      "tensor([[[[16],\n",
      "          [17],\n",
      "          [18]],\n",
      "\n",
      "         [[19],\n",
      "          [20],\n",
      "          [21]],\n",
      "\n",
      "         [[22],\n",
      "          [23],\n",
      "          [24]],\n",
      "\n",
      "         [[25],\n",
      "          [26],\n",
      "          [27]]]])\n"
     ]
    }
   ],
   "source": [
    "print(f_raw)\n",
    "print(d_raw)\n",
    "print(p_raw)\n",
    "print(F_raw)"
   ]
  },
  {
   "cell_type": "markdown",
   "metadata": {},
   "source": [
    "# Formatting variable Test"
   ]
  },
  {
   "cell_type": "code",
   "execution_count": 12,
   "metadata": {},
   "outputs": [],
   "source": [
    "import torch \n",
    "\n",
    "\n",
    "class ModelBaseAction():\n",
    "    def __init__(self, num_envs, num_legs, device, time_horizon):\n",
    "        self. num_envs = num_envs\n",
    "        self._num_legs = num_legs\n",
    "        self.device=device\n",
    "        self._p_param = time_horizon\n",
    "        self._F_param = time_horizon\n",
    "\n",
    "        # raw RL output\n",
    "        self.f_raw  = 1.0*torch.ones( self.num_envs, self._num_legs,                   device=self.device) \n",
    "        self.d_raw  = 0.6*torch.ones( self.num_envs, self._num_legs,                   device=self.device)\n",
    "        self.p_raw  =     torch.zeros(self.num_envs, self._num_legs, 2, self._p_param, device=self.device)\n",
    "        self.F_raw  =     torch.zeros(self.num_envs, self._num_legs, 3, self._F_param, device=self.device)\n",
    "\n",
    "        # For ease of reshaping variables\n",
    "        self.f_len = self.f_raw.shape[1:].numel()\n",
    "        self.d_len = self.d_raw.shape[1:].numel()\n",
    "        self.p_len = self.p_raw.shape[1:].numel()\n",
    "        self.F_len = self.F_raw.shape[1:].numel()\n",
    "\n",
    "        # create tensors for raw and processed actions\n",
    "        self._raw_actions = torch.zeros(self.num_envs, self.action_dim, device=self.device)\n",
    "\n",
    "    @property\n",
    "    def action_dim(self) -> int:\n",
    "        return self.f_len + self.d_len  + self.p_len + self.F_len \n",
    "\n",
    "    def process_actions(self, actions: torch.Tensor):\n",
    "        # store the raw actions\n",
    "        self._raw_actions[:] = actions\n",
    "\n",
    "\n",
    "        # reconstruct the latent variable from the RL poliy actions\n",
    "        self.f_raw = (self._raw_actions[:, 0                                    : self.f_len                                       ]).reshape_as(self.f_raw)\n",
    "        self.d_raw = (self._raw_actions[:, self.f_len                           : self.f_len + self.d_len                          ]).reshape_as(self.d_raw)\n",
    "        self.p_raw = (self._raw_actions[:, self.f_len + self.d_len              : self.f_len + self.d_len + self.p_len             ]).reshape_as(self.p_raw)\n",
    "        self.F_raw = (self._raw_actions[:, self.f_len + self.d_len + self.p_len : self.f_len + self.d_len + self.p_len + self.F_len]).reshape_as(self.F_raw)\n",
    "\n",
    "\n",
    "class DataLogger():\n",
    "    def __init__(self):\n",
    "        f_len, d_len, p_len, F_len = 4, 4, 8, 12\n",
    "        pass\n",
    "\n",
    "    def encode_actions(self, buffer_act:list):\n",
    "        f_len, d_len, p_len, F_len = 4, 4, 8, 12\n",
    "\n",
    "        raw_actions = torch.stack(buffer_act).permute(1,2,0)                            # shape (batch_size, act_dim, buffer_size)\n",
    "        f = raw_actions[:, 0                 : f_len                   , 0]             # shape (batch_size, f_len)\n",
    "        d = raw_actions[:, f_len             :(f_len+d_len)            , 0]             # shape (batch_size, d_len)\n",
    "        p = raw_actions[:,(f_len+d_len)      :(f_len+d_len+p_len)      , :].flatten(1,2)# shape (batch_size, buffer_size*p_len) /!\\ Transpose to store the data with the right format\n",
    "        F = raw_actions[:,(f_len+d_len+p_len):(f_len+d_len+p_len+F_len), :].flatten(1,2)# shape (batch_size, buffer_size*F_len)\n",
    "        action_to_store = torch.cat((f,d,p,F),dim=1)                                    # shape (batch_size, f_len+d_len+buffer_size*(p_len+F_len))\n",
    "        \n",
    "        return action_to_store\n",
    "        \n",
    "\n",
    "num_envs = 5\n",
    "num_legs = 4\n",
    "device = 'cpu'\n",
    "time_horizon = 15\n",
    "\n",
    "action_list = []\n",
    "\n",
    "for i in range(time_horizon):\n",
    "    action_list.append(torch.randn((num_envs, 28),device=device))\n",
    "\n",
    "# print(action_list)\n",
    "\n",
    "dataLogger = DataLogger()\n",
    "modelBaseAction = ModelBaseAction(num_envs=num_envs, num_legs=num_legs, device=device, time_horizon=time_horizon)\n",
    "\n",
    "encoded_actions = dataLogger.encode_actions(buffer_act=action_list)\n",
    "\n",
    "modelBaseAction.process_actions(actions=encoded_actions)\n",
    "\n",
    "assert ( modelBaseAction.f_raw == action_list[0][:, 0:4] ).all() , 'f don\\'t match'\n",
    "assert ( modelBaseAction.d_raw == action_list[0][:, 4:8] ).all() , 'd don\\'t match'\n",
    "\n",
    "for i in range(time_horizon):\n",
    "    assert ( modelBaseAction.p_raw[:,:,:,i].reshape(num_envs, 8) == action_list[i][:,  8:16] ).all() , f\"p {i} don\\'t match\"\n",
    "    assert ( modelBaseAction.F_raw[:,:,:,i].reshape(num_envs,12) == action_list[i][:, 16:28] ).all() , f\"F {i} don\\'t match\"\n",
    "\n",
    "\n",
    "\n",
    "\n",
    "\n",
    "\n",
    "\n"
   ]
  }
 ],
 "metadata": {
  "kernelspec": {
   "display_name": "orbit",
   "language": "python",
   "name": "python3"
  },
  "language_info": {
   "codemirror_mode": {
    "name": "ipython",
    "version": 3
   },
   "file_extension": ".py",
   "mimetype": "text/x-python",
   "name": "python",
   "nbconvert_exporter": "python",
   "pygments_lexer": "ipython3",
   "version": "3.10.12"
  }
 },
 "nbformat": 4,
 "nbformat_minor": 2
}
