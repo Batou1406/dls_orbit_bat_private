{
 "cells": [
  {
   "cell_type": "code",
   "execution_count": 1,
   "metadata": {},
   "outputs": [],
   "source": [
    "import torch"
   ]
  },
  {
   "cell_type": "code",
   "execution_count": 6,
   "metadata": {},
   "outputs": [],
   "source": [
    "class term():\n",
    "    joint_ids = ['FL_hip_joint', 'FR_hip_joint', 'RL_hip_joint', 'RR_hip_joint', 'FL_thigh_joint', 'FR_thigh_joint', 'RL_thigh_joint', 'RR_thigh_joint', 'FL_calf_joint', 'FR_calf_joint', 'RL_calf_joint', 'RR_calf_joint']#['RR_hip', 'RR_joint', 'RR_calf']\n",
    "    num_envs = 64\n",
    "    _num_legs = 4\n",
    "    _prevision_horizon = 10\n",
    "\n",
    "    def __init__(self):\n",
    "        self._num_joints = len(self.joint_ids)\n",
    "        self.f = torch.zeros(self.num_envs, self._num_legs)\n",
    "        self.d = torch.zeros(self.num_envs, self._num_legs)\n",
    "        self.p = torch.zeros(self.num_envs, self._num_legs, self._prevision_horizon)\n",
    "        self.F = torch.zeros(self.num_envs, self._num_legs, self._prevision_horizon)\n",
    "        self.z = [self.f, self.d, self.p, self.F]\n",
    "\n",
    "        # create tensors for raw and processed actions\n",
    "        self._raw_actions = torch.zeros(self.num_envs, self.action_dim2)\n",
    "        self._processed_actions = torch.zeros_like(self.raw_actions)\n",
    "\n",
    "    @property\n",
    "    def action_dim(self) -> int:\n",
    "        return self._num_joints\n",
    "    \n",
    "    @property\n",
    "    def action_dim2(self) -> int:\n",
    "        return self.f.shape[1:].numel() + self.d.shape[1:].numel() + self.p.shape[1:].numel() + self.F.shape[1:].numel()\n",
    "    \n",
    "    @property\n",
    "    def action_dim3(self) -> int:\n",
    "        return sum(variable.shape[1:].numel() for variable in self.z)\n",
    "    \n",
    "    @property\n",
    "    def raw_actions(self) -> torch.Tensor:\n",
    "        return self._raw_actions\n",
    "\n",
    "    @property\n",
    "    def processed_actions(self) -> torch.Tensor:\n",
    "        return self._processed_actions"
   ]
  },
  {
   "cell_type": "code",
   "execution_count": 8,
   "metadata": {},
   "outputs": [],
   "source": [
    "term1 = term()"
   ]
  },
  {
   "cell_type": "code",
   "execution_count": 10,
   "metadata": {},
   "outputs": [
    {
     "data": {
      "text/plain": [
       "88"
      ]
     },
     "execution_count": 10,
     "metadata": {},
     "output_type": "execute_result"
    }
   ],
   "source": [
    "term1.action_dim2"
   ]
  },
  {
   "cell_type": "code",
   "execution_count": 9,
   "metadata": {},
   "outputs": [
    {
     "data": {
      "text/plain": [
       "88"
      ]
     },
     "execution_count": 9,
     "metadata": {},
     "output_type": "execute_result"
    }
   ],
   "source": [
    "term1.action_dim3"
   ]
  },
  {
   "cell_type": "code",
   "execution_count": 14,
   "metadata": {},
   "outputs": [
    {
     "data": {
      "text/plain": [
       "torch.Size([64, 88])"
      ]
     },
     "execution_count": 14,
     "metadata": {},
     "output_type": "execute_result"
    }
   ],
   "source": [
    "term1.raw_actions.shape"
   ]
  },
  {
   "cell_type": "code",
   "execution_count": 77,
   "metadata": {},
   "outputs": [
    {
     "data": {
      "text/plain": [
       "tensor([[0., 0., 0., 0.],\n",
       "        [0., 0., 0., 0.],\n",
       "        [0., 0., 0., 0.],\n",
       "        [0., 0., 0., 0.]])"
      ]
     },
     "execution_count": 77,
     "metadata": {},
     "output_type": "execute_result"
    }
   ],
   "source": [
    "term1.z[1]"
   ]
  },
  {
   "cell_type": "code",
   "execution_count": 50,
   "metadata": {},
   "outputs": [
    {
     "data": {
      "text/plain": [
       "4"
      ]
     },
     "execution_count": 50,
     "metadata": {},
     "output_type": "execute_result"
    }
   ],
   "source": [
    "term1.num_envs"
   ]
  },
  {
   "cell_type": "code",
   "execution_count": 68,
   "metadata": {},
   "outputs": [
    {
     "name": "stdout",
     "output_type": "stream",
     "text": [
      "tensor : tensor([[[0., 0.],\n",
      "         [0., 0.],\n",
      "         [0., 0.]],\n",
      "\n",
      "        [[0., 0.],\n",
      "         [0., 0.],\n",
      "         [0., 0.]],\n",
      "\n",
      "        [[0., 0.],\n",
      "         [0., 0.],\n",
      "         [0., 0.]],\n",
      "\n",
      "        [[0., 0.],\n",
      "         [0., 0.],\n",
      "         [0., 0.]]])\n",
      "shape : 6\n",
      "torch.Size([24])\n"
     ]
    }
   ],
   "source": [
    "a = torch.zeros(term1.num_envs, term1.action_dim,2)\n",
    "print('tensor :',a)\n",
    "print('shape :', a.shape[1:].numel())\n",
    "\n",
    "print(a.flatten().shape)"
   ]
  },
  {
   "cell_type": "code",
   "execution_count": null,
   "metadata": {},
   "outputs": [],
   "source": [
    "from __future__ import annotations\n",
    "\n",
    "from omni.isaac.orbit.assets import AssetBase\n",
    "from omni.isaac.orbit.assets.articulation import Articulation\n",
    "from omni.isaac.orbit_tasks.locomotion.model_based.model_based_env_cfg import LocomotionModelBasedEnvCfg\n",
    "from omni.isaac.orbit_tasks.locomotion.model_based.config.unitree_aliengo.aliengo_base_env_cfg import UnitreeAliengoBaseEnvCfg"
   ]
  },
  {
   "cell_type": "code",
   "execution_count": 4,
   "metadata": {},
   "outputs": [],
   "source": [
    "import jax.numpy as jnp\n",
    "import jax\n",
    "seed = 42\n",
    "key = jax.random.key(seed)"
   ]
  },
  {
   "cell_type": "code",
   "execution_count": 35,
   "metadata": {},
   "outputs": [
    {
     "name": "stdout",
     "output_type": "stream",
     "text": [
      "available devices: 1\n",
      "current device: 0\n"
     ]
    },
    {
     "data": {
      "text/plain": [
       "'NVIDIA GeForce RTX 3060'"
      ]
     },
     "execution_count": 35,
     "metadata": {},
     "output_type": "execute_result"
    }
   ],
   "source": [
    "print(f'available devices: {torch.cuda.device_count()}')\n",
    "print(f'current device: { torch.cuda.current_device()}')\n",
    "torch.cuda.get_device_name(0)"
   ]
  },
  {
   "cell_type": "code",
   "execution_count": 40,
   "metadata": {},
   "outputs": [
    {
     "name": "stdout",
     "output_type": "stream",
     "text": [
      "shape :  torch.Size([64, 12])\n",
      "device :  cuda:0\n"
     ]
    }
   ],
   "source": [
    "output_torques = (torch.rand(term1.num_envs, term1._num_joints, device='cuda') * 80) - 40\n",
    "print('shape : ',output_torques.shape)\n",
    "print('device : ',output_torques.device)"
   ]
  },
  {
   "cell_type": "code",
   "execution_count": 7,
   "metadata": {},
   "outputs": [],
   "source": [
    "output_torques_jax = jax.random.normal(key=key, shape=output_torques.shape)"
   ]
  },
  {
   "cell_type": "code",
   "execution_count": 13,
   "metadata": {},
   "outputs": [
    {
     "name": "stdout",
     "output_type": "stream",
     "text": [
      "--- Torch ---\n",
      "Shape :  torch.Size([64, 12])\n",
      "Type :  torch.FloatTensor\n",
      "Type :  <class 'torch.Tensor'>\n",
      "\n",
      "--- Jax ---\n",
      "Shape :  (64, 12)\n",
      "Type :  <class 'jaxlib.xla_extension.ArrayImpl'>\n"
     ]
    }
   ],
   "source": [
    "print('--- Torch ---')\n",
    "print('Shape : ', output_torques.shape)\n",
    "print('Type : ', output_torques.type())\n",
    "print('Type : ', type(output_torques))\n",
    "\n",
    "print('')\n",
    "print('--- Jax ---')\n",
    "print('Shape : ', output_torques_jax.shape)\n",
    "print('Type : ', type(output_torques_jax))"
   ]
  },
  {
   "cell_type": "code",
   "execution_count": 15,
   "metadata": {},
   "outputs": [
    {
     "data": {
      "text/plain": [
       "Array(1.0063325, dtype=float32)"
      ]
     },
     "execution_count": 15,
     "metadata": {},
     "output_type": "execute_result"
    }
   ],
   "source": [
    "output_torques_jax.std()"
   ]
  },
  {
   "cell_type": "code",
   "execution_count": 17,
   "metadata": {},
   "outputs": [
    {
     "name": "stdout",
     "output_type": "stream",
     "text": [
      "[1 2 3]\n"
     ]
    }
   ],
   "source": [
    "import jax\n",
    "import jax.dlpack\n",
    "import torch\n",
    "import torch.utils.dlpack\n",
    "\n",
    "def jax_to_torch(x):\n",
    "    return torch.utils.dlpack.from_dlpack(jax.dlpack.to_dlpack(x))\n",
    "def torch_to_jax(x):\n",
    "    return jax.dlpack.from_dlpack(torch.utils.dlpack.to_dlpack(x))\n",
    "\n",
    "a = torch.tensor([1,2,3]).cuda()\n",
    "a_jax = torch_to_jax(a)\n",
    "print(a_jax)"
   ]
  },
  {
   "cell_type": "code",
   "execution_count": 18,
   "metadata": {},
   "outputs": [
    {
     "data": {
      "text/plain": [
       "device(type='cuda', index=0)"
      ]
     },
     "execution_count": 18,
     "metadata": {},
     "output_type": "execute_result"
    }
   ],
   "source": [
    "a.device"
   ]
  },
  {
   "cell_type": "code",
   "execution_count": 28,
   "metadata": {},
   "outputs": [
    {
     "data": {
      "text/plain": [
       "{cuda(id=0)}"
      ]
     },
     "execution_count": 28,
     "metadata": {},
     "output_type": "execute_result"
    }
   ],
   "source": [
    "a_jax.devices()"
   ]
  },
  {
   "cell_type": "code",
   "execution_count": 42,
   "metadata": {},
   "outputs": [
    {
     "name": "stdout",
     "output_type": "stream",
     "text": [
      "shape :  torch.Size([64, 12])\n",
      "device :  cuda:0\n",
      "Type :  <class 'torch.Tensor'>\n"
     ]
    }
   ],
   "source": [
    "output_torques = (torch.rand(term1.num_envs, term1._num_joints, device='cuda') * 80) - 40\n",
    "print('shape : ',output_torques.shape)\n",
    "print('device : ',output_torques.device)\n",
    "print('Type : ', type(output_torques))"
   ]
  },
  {
   "cell_type": "code",
   "execution_count": 45,
   "metadata": {},
   "outputs": [
    {
     "name": "stdout",
     "output_type": "stream",
     "text": [
      "Shape :  (64, 12)\n",
      "device :  {cuda(id=0)}\n",
      "Type :  <class 'jaxlib.xla_extension.ArrayImpl'>\n"
     ]
    }
   ],
   "source": [
    "output_torques_jax = torch_to_jax(output_torques)\n",
    "print('Shape : ', output_torques_jax.shape)\n",
    "print('device : ',output_torques_jax.devices())\n",
    "print('Type : ', type(output_torques_jax))"
   ]
  },
  {
   "cell_type": "code",
   "execution_count": 25,
   "metadata": {},
   "outputs": [],
   "source": [
    "def alo() -> tuple[int, int, str]:\n",
    "    a = 2\n",
    "    b = 3\n",
    "    c = 4\n",
    "    return a, b, str(c)\n",
    "\n",
    "def alo2():\n",
    "    a = 2\n",
    "    b = 3\n",
    "    c = 4\n",
    "    return a, b, str(c)"
   ]
  },
  {
   "cell_type": "code",
   "execution_count": 24,
   "metadata": {},
   "outputs": [
    {
     "data": {
      "text/plain": [
       "(2, 3, '4')"
      ]
     },
     "execution_count": 24,
     "metadata": {},
     "output_type": "execute_result"
    }
   ],
   "source": [
    "alo()"
   ]
  },
  {
   "cell_type": "code",
   "execution_count": 26,
   "metadata": {},
   "outputs": [
    {
     "data": {
      "text/plain": [
       "(2, 3, '4')"
      ]
     },
     "execution_count": 26,
     "metadata": {},
     "output_type": "execute_result"
    }
   ],
   "source": [
    "alo2()"
   ]
  },
  {
   "cell_type": "code",
   "execution_count": 27,
   "metadata": {},
   "outputs": [
    {
     "name": "stdout",
     "output_type": "stream",
     "text": [
      "<class 'tuple'>\n",
      "<class 'tuple'>\n"
     ]
    }
   ],
   "source": [
    "print(type(alo()))\n",
    "print(type(alo2()))"
   ]
  },
  {
   "cell_type": "code",
   "execution_count": 10,
   "metadata": {},
   "outputs": [
    {
     "data": {
      "text/plain": [
       "tuple"
      ]
     },
     "execution_count": 10,
     "metadata": {},
     "output_type": "execute_result"
    }
   ],
   "source": [
    "a = tuple[2,3,4]\n",
    "alo()\n",
    "\n",
    "d, f, e = alo()\n",
    "type(alo())"
   ]
  },
  {
   "cell_type": "code",
   "execution_count": 31,
   "metadata": {},
   "outputs": [
    {
     "name": "stdout",
     "output_type": "stream",
     "text": [
      "torch.float32\n",
      "torch.bool\n",
      "tensor([[0.5317, 0.4781, 0.3271],\n",
      "        [0.3938, 0.3433, 0.9002]])\n",
      "tensor([[ True, False,  True],\n",
      "        [False,  True, False]])\n"
     ]
    },
    {
     "data": {
      "text/plain": [
       "tensor([[0.5317, 0.0000, 0.3271],\n",
       "        [0.0000, 0.3433, 0.0000]])"
      ]
     },
     "execution_count": 31,
     "metadata": {},
     "output_type": "execute_result"
    }
   ],
   "source": [
    "import torch\n",
    "\n",
    "a = torch.tensor([0, 1.21, 2])\n",
    "b = torch.tensor([True, True, False])\n",
    "\n",
    "shape = [2,3]\n",
    "a = torch.rand(shape)\n",
    "b = torch.empty(shape, dtype=torch.bool).bernoulli(0.5)\n",
    "\n",
    "\n",
    "print(a.dtype)\n",
    "print(b.dtype)\n",
    "print(a)\n",
    "print(b)\n",
    "\n",
    "a*b"
   ]
  },
  {
   "cell_type": "code",
   "execution_count": 43,
   "metadata": {},
   "outputs": [
    {
     "ename": "RuntimeError",
     "evalue": "shape '[5, 4, 3]' is invalid for input of size 20",
     "output_type": "error",
     "traceback": [
      "\u001b[0;31m---------------------------------------------------------------------------\u001b[0m",
      "\u001b[0;31mRuntimeError\u001b[0m                              Traceback (most recent call last)",
      "Cell \u001b[0;32mIn[43], line 10\u001b[0m\n\u001b[1;32m      7\u001b[0m number_of_joint_per_leg \u001b[38;5;241m=\u001b[39m \u001b[38;5;241m3\u001b[39m\n\u001b[1;32m      9\u001b[0m \u001b[38;5;66;03m# Modify the tensor to shape (batch_size, num_legs, number_of_joint_per_leg)\u001b[39;00m\n\u001b[0;32m---> 10\u001b[0m modified_tensor \u001b[38;5;241m=\u001b[39m \u001b[43mtorch\u001b[49m\u001b[38;5;241;43m.\u001b[39;49m\u001b[43mreshape\u001b[49m\u001b[43m(\u001b[49m\u001b[43mtensor\u001b[49m\u001b[43m,\u001b[49m\u001b[43m \u001b[49m\u001b[43m(\u001b[49m\u001b[43mtensor\u001b[49m\u001b[38;5;241;43m.\u001b[39;49m\u001b[43mshape\u001b[49m\u001b[43m[\u001b[49m\u001b[38;5;241;43m0\u001b[39;49m\u001b[43m]\u001b[49m\u001b[43m,\u001b[49m\u001b[43m \u001b[49m\u001b[43mtensor\u001b[49m\u001b[38;5;241;43m.\u001b[39;49m\u001b[43mshape\u001b[49m\u001b[43m[\u001b[49m\u001b[38;5;241;43m1\u001b[39;49m\u001b[43m]\u001b[49m\u001b[43m,\u001b[49m\u001b[43m \u001b[49m\u001b[43mnumber_of_joint_per_leg\u001b[49m\u001b[43m)\u001b[49m\u001b[43m)\u001b[49m\n\u001b[1;32m     12\u001b[0m \u001b[38;5;66;03m# Check the shape of the modified tensor\u001b[39;00m\n\u001b[1;32m     13\u001b[0m \u001b[38;5;28mprint\u001b[39m(\u001b[38;5;124m\"\u001b[39m\u001b[38;5;124mModified tensor shape:\u001b[39m\u001b[38;5;124m\"\u001b[39m, modified_tensor\u001b[38;5;241m.\u001b[39mshape)\n",
      "\u001b[0;31mRuntimeError\u001b[0m: shape '[5, 4, 3]' is invalid for input of size 20"
     ]
    }
   ],
   "source": [
    "import torch\n",
    "\n",
    "# Assuming you have a tensor of shape (batch_size, num_legs)\n",
    "tensor = torch.randn(5, 4)  # Example tensor with shape (5, 4)\n",
    "\n",
    "# Define the number of joints per leg\n",
    "number_of_joint_per_leg = 3\n",
    "\n",
    "# Modify the tensor to shape (batch_size, num_legs, number_of_joint_per_leg)\n",
    "modified_tensor = torch.reshape(tensor, (tensor.shape[0], tensor.shape[1], number_of_joint_per_leg))\n",
    "\n",
    "# Check the shape of the modified tensor\n",
    "print(\"Modified tensor shape:\", modified_tensor.shape)"
   ]
  },
  {
   "cell_type": "code",
   "execution_count": 134,
   "metadata": {},
   "outputs": [
    {
     "name": "stdout",
     "output_type": "stream",
     "text": [
      "Time taken: 0.00016944000124931335 seconds\n"
     ]
    }
   ],
   "source": [
    "import torch\n",
    "import time\n",
    "\n",
    "# Create some tensors for demonstration\n",
    "T_shape = [4096,4,3]\n",
    "c_shape = [4096,4]\n",
    "T_1 = torch.rand(T_shape).cuda()\n",
    "T_2 = torch.rand(T_shape).cuda()\n",
    "c = torch.empty(c_shape, dtype=torch.bool).bernoulli(0.5).cuda()\n",
    "\n",
    "\n",
    "# Create CUDA events\n",
    "start_event = torch.cuda.Event(enable_timing=True)\n",
    "end_event = torch.cuda.Event(enable_timing=True)\n",
    "\n",
    "# Record start event\n",
    "start_event.record()\n",
    "\n",
    "# Example operation (e.g., matrix multiplication)\n",
    "\n",
    "result = (T_1 * c.unsqueeze(-1)) + (T_2 * (~c).unsqueeze(-1))\n",
    "\n",
    "# Record end event\n",
    "end_event.record()\n",
    "\n",
    "# Wait for computations to finish\n",
    "torch.cuda.synchronize()\n",
    "\n",
    "# Calculate elapsed time\n",
    "elapsed_time = start_event.elapsed_time(end_event) / 1000  # Convert to seconds\n",
    "print(\"Time taken:\", elapsed_time, \"seconds\")"
   ]
  },
  {
   "cell_type": "code",
   "execution_count": 87,
   "metadata": {},
   "outputs": [
    {
     "name": "stdout",
     "output_type": "stream",
     "text": [
      "(3, 4, 5)\n"
     ]
    }
   ],
   "source": [
    "import jax\n",
    "def custom_operation(T_1, T_2, c_star):\n",
    "    # Element-wise multiplication with c_star and its complement\n",
    "    term1 = T_1 * c_star[..., None]\n",
    "    term2 = T_2 * (~c_star)[..., None]\n",
    "    \n",
    "    # Sum the terms along the joint dimension\n",
    "    T = term1 + term2\n",
    "    \n",
    "    return T\n",
    "\n",
    "# Example usage\n",
    "batch_size = 3\n",
    "num_legs = 4\n",
    "num_of_joints_per_leg = 5\n",
    "\n",
    "# Random tensors for T_1, T_2, and c_star\n",
    "T_1 = jax.random.normal(jax.random.PRNGKey(0), (batch_size, num_legs, num_of_joints_per_leg))\n",
    "T_2 = jax.random.normal(jax.random.PRNGKey(1), (batch_size, num_legs, num_of_joints_per_leg))\n",
    "c_star = jax.random.randint(jax.random.PRNGKey(2), (batch_size, num_legs), 0, 2)\n",
    "\n",
    "# Perform custom operation\n",
    "T = custom_operation(T_1, T_2, c_star)\n",
    "\n",
    "print(T.shape)  # Output shape should be (batch_size, num_legs, num_of_joints_per_leg)"
   ]
  },
  {
   "cell_type": "code",
   "execution_count": 47,
   "metadata": {},
   "outputs": [
    {
     "name": "stdout",
     "output_type": "stream",
     "text": [
      "(3, 4, 5)\n"
     ]
    }
   ],
   "source": [
    "import jax\n",
    "import jax.numpy as jnp\n",
    "from jax import jit\n",
    "\n",
    "@jit\n",
    "def custom_operation(T_1, T_2, c_star):\n",
    "    # Element-wise multiplication with c_star and its complement\n",
    "    term1 = T_1 * c_star[..., None]\n",
    "    term2 = T_2 * (~c_star)[..., None]\n",
    "    \n",
    "    # Sum the terms along the joint dimension\n",
    "    T = term1 + term2\n",
    "    \n",
    "    return T\n",
    "\n",
    "# Example usage\n",
    "batch_size = 3\n",
    "num_legs = 4\n",
    "num_of_joints_per_leg = 5\n",
    "\n",
    "# Random tensors for T_1, T_2, and c_star\n",
    "T_1 = jax.random.normal(jax.random.PRNGKey(0), (batch_size, num_legs, num_of_joints_per_leg))\n",
    "T_2 = jax.random.normal(jax.random.PRNGKey(1), (batch_size, num_legs, num_of_joints_per_leg))\n",
    "c_star = jax.random.randint(jax.random.PRNGKey(2), (batch_size, num_legs), 0, 2)\n",
    "\n",
    "# Move tensors to GPU\n",
    "T_1 = jax.device_put(T_1, jax.devices('gpu')[0])\n",
    "T_2 = jax.device_put(T_2, jax.devices('gpu')[0])\n",
    "c_star = jax.device_put(c_star, jax.devices('gpu')[0])\n",
    "\n",
    "# Perform custom operation\n",
    "T = custom_operation(T_1, T_2, c_star)\n",
    "\n",
    "print(T.shape)  # Output shape should be (batch_size, num_legs, num_of_joints_per_leg)"
   ]
  },
  {
   "cell_type": "code",
   "execution_count": 86,
   "metadata": {},
   "outputs": [
    {
     "name": "stdout",
     "output_type": "stream",
     "text": [
      "Time taken: 0.00010966400057077407 seconds\n"
     ]
    }
   ],
   "source": [
    "# Create some tensors for demonstration\n",
    "batch_size = 4096\n",
    "num_legs = 4\n",
    "num_of_joints_per_leg = 3\n",
    "T_1 = jax.random.normal(jax.random.PRNGKey(0), (batch_size, num_legs, num_of_joints_per_leg))\n",
    "T_2 = jax.random.normal(jax.random.PRNGKey(1), (batch_size, num_legs, num_of_joints_per_leg))\n",
    "c_star = jax.random.randint(jax.random.PRNGKey(2), (batch_size, num_legs), 0, 2)\n",
    "\n",
    "# Create CUDA events\n",
    "start_event = torch.cuda.Event(enable_timing=True)\n",
    "end_event = torch.cuda.Event(enable_timing=True)\n",
    "\n",
    "# Record start event\n",
    "start_event.record()\n",
    "\n",
    "# Example operation (e.g., matrix multiplication)\n",
    "T = custom_operation(T_1, T_2, c_star)\n",
    "\n",
    "# result = (T_1 * c.unsqueeze(-1)) + (T_2 * (~c).unsqueeze(-1))\n",
    "\n",
    "# Record end event\n",
    "end_event.record()\n",
    "\n",
    "# Wait for computations to finish\n",
    "torch.cuda.synchronize()\n",
    "\n",
    "# Calculate elapsed time\n",
    "elapsed_time = start_event.elapsed_time(end_event) / 1000  # Convert to seconds\n",
    "print(\"Time taken:\", elapsed_time, \"seconds\")"
   ]
  }
 ],
 "metadata": {
  "kernelspec": {
   "display_name": "orbit",
   "language": "python",
   "name": "python3"
  },
  "language_info": {
   "codemirror_mode": {
    "name": "ipython",
    "version": 3
   },
   "file_extension": ".py",
   "mimetype": "text/x-python",
   "name": "python",
   "nbconvert_exporter": "python",
   "pygments_lexer": "ipython3",
   "version": "3.10.14"
  }
 },
 "nbformat": 4,
 "nbformat_minor": 2
}
